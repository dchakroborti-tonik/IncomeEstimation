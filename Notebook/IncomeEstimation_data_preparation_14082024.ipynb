{
 "cells": [
  {
   "cell_type": "markdown",
   "metadata": {},
   "source": [
    "DC, for the Employment data analysis Please do the Data preparatin as following:\n",
    "\n",
    "Get the following fields from the CICdata\n",
    "\n",
    "  customer_id, TIN, run_date, occupationdesc, occupationstatusdesc, TradeName, employment_duration_in_days (DateHiredTo or run_date - DateHiredFrom), PSICdesc, AnnualMonthlyIndicator, Currency, GrossIncome, max_sanctioned_amt_24m, max_creditcard_limit_24m, max_financed_amt_24m, tot_granted_contracts_cnt_24m, tot_granted_contracts_amt_12m, max_sanctioned_amt_12m, Max_CreditCard_limit_12m, max_financed_amt_12m, tot_granted_contracts_cnt_12m, tot_granted_contracts_amt_12m\n",
    "  \n",
    "  Get the self declared employment details, application_date,  and MaxSalary information from our internal Salary scaling table using the CustomerID or TIN and application_date = run_date\n",
    "  \n",
    "  Get the gender, age, region, province of the customer from demographic table using customer_id or TIN and application_date = run_date\n",
    "  \n",
    "  Get the following fields from the Credolab tables using the customer_id or mobile number and application_date = run date:\n",
    "  Device Price\n",
    "  Device Manufacturer (Apple/ Samsung/ Oppo etc.)\n",
    "  Device Model\n",
    "  Device Age (usually derived by the application_date - earliest apps installation date)\n",
    "  number of job search apps installed (linkedin, jobstreet, glint etc.)\n",
    "  number of professional apps installed (office, gdrive etc)\n",
    "  number of ecommerce apps installed (lazada, shopee, shein, zalora, temu etc.)\n",
    "  number of ride hailing apps installed (grab, moveit etc.)\n",
    "  number of finance apps installed (Banking apps, FinTech apps, eWallet apps)\n",
    "  number of Risky apps (gambling apps, crypto apps, payday loan apps)\n",
    "  number of OTT apps (Netflix, PrimeVideo etc.)\n",
    "  Sowndarya: may be you can share your earlier apps categorisation work with DC for this. To keep things simple, just give him your final app categorisation mapping.\n",
    "\n",
    "DC, next steps on the Income data:<br>\n",
    "Tradename column from CICdata is missing, pls add it<br>\n",
    "Calculate the employment duration (if no end date then run date - start date, otherwise end date - start date, if no start date then null)<br>\n",
    "Create two additional flags from CICdata:<br>\n",
    "--> Has Credit Loan (credit_loan_flag)<br>\n",
    "--> Has Installment loan flag (inst_loan_flag)<br>\n",
    "Add the other Credolab fields:<br>\n",
    "--> App category wise count (just use Credolab app categories)<br>\n",
    "-->  Device Brand (from credolab_raw.android_credolab_datasets_struct_columns` select Hardware.device_brand)<br>\n",
    "--> Device Model (from credolab_raw.android_credolab_datasets_struct_columns` select Hardware.device_model)<br>\n",
    "--> Network Provider (from credolab_raw.android_credolab_datasets_struct_columns` select GeneralData.sim_operator_name)<br>\n",
    "--> Number of BlueTooth Device (from credolab_raw.android_credolab_datasets_struct_columns` select Hardware.bluetooth__bonded_devices_count)<br>"
   ]
  },
  {
   "cell_type": "markdown",
   "metadata": {},
   "source": [
    "# <div align=\"center\" style=\"color: #ff5733;\">Income Estimation Data Preparation</div>"
   ]
  },
  {
   "cell_type": "markdown",
   "metadata": {},
   "source": [
    "# Declare Libraries"
   ]
  },
  {
   "cell_type": "code",
   "execution_count": 1,
   "metadata": {},
   "outputs": [],
   "source": [
    "# %% [markdown]\n",
    "# # Jupyter Notebook Loading Header\n",
    "#\n",
    "# This is a custom loading header for Jupyter Notebooks in Visual Studio Code.\n",
    "# It includes common imports and settings to get you started quickly.\n",
    "\n",
    "# %% [markdown]\n",
    "## Import Libraries\n",
    "import pandas as pd\n",
    "import numpy as np\n",
    "import matplotlib.pyplot as plt\n",
    "import seaborn as sns\n",
    "from google.cloud import bigquery\n",
    "import os\n",
    "path = r'C:\\Users\\DwaipayanChakroborti\\AppData\\Roaming\\gcloud\\legacy_credentials\\dchakroborti@tonikbank.com\\adc.json'\n",
    "os.environ['GOOGLE_APPLICATION_CREDENTIALS'] = path\n",
    "client = bigquery.Client(project='prj-prod-dataplatform')\n",
    "\n",
    "# %% [markdown]\n",
    "## Configure Settings\n",
    "# Set options or configurations as needed\n",
    "# Example: pd.set_option('display.max_columns', None)\n",
    "\n",
    "import time"
   ]
  },
  {
   "cell_type": "code",
   "execution_count": 23,
   "metadata": {},
   "outputs": [
    {
     "name": "stdout",
     "output_type": "stream",
     "text": [
      "Job ID 5a41311c-1834-4770-aa8b-56155b35c1d7 successfully executed: 100%|\u001b[32m██████████\u001b[0m|\n",
      "Downloading: 100%|\u001b[32m██████████\u001b[0m|\n"
     ]
    }
   ],
   "source": [
    "sq = \"\"\"\n",
    "with base as\n",
    "(\n",
    "-- Query for dfgranted\n",
    "SELECT\n",
    "  digitalLoanAccountId,\n",
    "  crifApplicationId,\n",
    "  customerId,\n",
    "  processEngineGuid,\n",
    "  requestGuid,\n",
    "  ContractHistoryType,\n",
    "  CBContractCode,\n",
    "  ContractEndDate,\n",
    "  ContractPhase,\n",
    "  ContractPhaseDesc,\n",
    "  ContractStartDate,\n",
    "  ContractStatus,\n",
    "  ContractStatusDesc,\n",
    "  ContractType,\n",
    "  ContractTypeDesc,\n",
    "  Currency,\n",
    "  CurrencyDesc,\n",
    "  LastUpdateDate,\n",
    "  OriginalCurrency,\n",
    "  OriginalCurrencyDesc,\n",
    "  ProviderCodeEncrypted,\n",
    "  ProviderContractNo,\n",
    "  ReferenceNo,\n",
    "  Role,\n",
    "  RoleDesc,\n",
    "  BilledAmount,\n",
    "  BoardResolutionFlag,\n",
    "  BoardResolutionFlagDesc,\n",
    "  CancellationDate,\n",
    "  CardReferenceCode,\n",
    "  ChargedAmount,\n",
    "  CreditLimit,\n",
    "  CreditPurpose,\n",
    "  CreditPurposeDesc,\n",
    "  FinancedAmount,\n",
    "  FirstPaymentDate,\n",
    "  FlagCardUsed,\n",
    "  HolderLiability,\n",
    "  HolderLiabilityDesc,\n",
    "  InstallmentType,\n",
    "  InstallmentTypeDesc,\n",
    "  InstallmentsNumber,\n",
    "  LastChargeDate,\n",
    "  LastPaymentAmount,\n",
    "  LastPaymentDate,\n",
    "  MinPaymentIndicator,\n",
    "  MinPaymentIndicatorDesc,\n",
    "  MinPaymentPercentage,\n",
    "  MonthlyPaymentAmount,\n",
    "  NextPayment,\n",
    "  NextPaymentDate,\n",
    "  OutstandingBalance,\n",
    "  OutstandingBalanceUnbilled,\n",
    "  OutstandingPaymentsNumber,\n",
    "  OverallCreditLimit,\n",
    "  OverdueDays,\n",
    "  OverdueDaysDesc,\n",
    "  OverduePaymentsAmount,\n",
    "  OverduePaymentsNumber,\n",
    "  PaymentMethod,\n",
    "  PaymentMethodDesc,\n",
    "  PaymentPeriodicity,\n",
    "  PaymentPeriodicityDesc,\n",
    "  PremiumCard,\n",
    "  PremiumCardDesc,\n",
    "  ReorganizedCreditCode,\n",
    "  ReorganizedCreditCodeDesc,\n",
    "  ServicesLinesNo,\n",
    "  TimesCardUsed,\n",
    "  TransactionType,\n",
    "  TransactionTypeDesc,\n",
    "  Utilization,\n",
    "  LinkedSubject_CBSubjectCode,\n",
    "  LinkedSubject_Name,\n",
    "  LinkedSubject_Role,\n",
    "  LinkedSubject_RoleDesc,\n",
    "  Note_TypeDesc,\n",
    "  Note_Text,\n",
    "  Note_Type,\n",
    "  run_date,\n",
    "  NULL AS ContractRequestDate,\n",
    "  'granted' AS source\n",
    "FROM\n",
    "  prj-prod-dataplatform.risk_credit_cic_data.granted_contracts\n",
    "\n",
    "UNION ALL\n",
    "\n",
    "-- Query for dfnongranted\n",
    "SELECT\n",
    "  digitalLoanAccountId,\n",
    "  crifApplicationId,\n",
    "  customerId,\n",
    "  processEngineGuid,\n",
    "  requestGuid,\n",
    "  NULL AS ContractHistoryType,\n",
    "  CBContractCode,\n",
    "  NULL AS ContractEndDate,\n",
    "  ContractPhase,\n",
    "  ContractPhaseDesc,\n",
    "  NULL AS ContractStartDate,\n",
    "  NULL AS ContractStatus,\n",
    "  NULL AS ContractStatusDesc,\n",
    "  ContractType,\n",
    "  ContractTypeDesc,\n",
    "  NULL AS Currency,\n",
    "  NULL AS CurrencyDesc,\n",
    "  LastUpdateDate,\n",
    "  NULL AS OriginalCurrency,\n",
    "  NULL AS OriginalCurrencyDesc,\n",
    "  ProviderCodeEncrypted,\n",
    "  ProviderContractNo,\n",
    "  ReferenceNo,\n",
    "  Role,\n",
    "  RoleDesc,\n",
    "  NULL AS BilledAmount,\n",
    "  NULL AS BoardResolutionFlag,\n",
    "  NULL AS BoardResolutionFlagDesc,\n",
    "  NULL AS CancellationDate,\n",
    "  NULL AS CardReferenceCode,\n",
    "  NULL AS ChargedAmount,\n",
    "  CreditLimit,\n",
    "  NULL AS CreditPurpose,\n",
    "  NULL AS CreditPurposeDesc,\n",
    "  FinancedAmount,\n",
    "  NULL AS FirstPaymentDate,\n",
    "  NULL AS FlagCardUsed,\n",
    "  NULL AS HolderLiability,\n",
    "  NULL AS HolderLiabilityDesc,\n",
    "  NULL AS InstallmentType,\n",
    "  NULL AS InstallmentTypeDesc,\n",
    "  InstallmentsNumber,\n",
    "  NULL AS LastChargeDate,\n",
    "  NULL AS LastPaymentAmount,\n",
    "  NULL AS LastPaymentDate,\n",
    "  NULL AS MinPaymentIndicator,\n",
    "  NULL AS MinPaymentIndicatorDesc,\n",
    "  NULL AS MinPaymentPercentage,\n",
    "  MonthlyPaymentAmount,\n",
    "  NULL AS NextPayment,\n",
    "  NULL AS NextPaymentDate,\n",
    "  NULL AS OutstandingBalance,\n",
    "  NULL AS OutstandingBalanceUnbilled,\n",
    "  NULL AS OutstandingPaymentsNumber,\n",
    "  NULL AS OverallCreditLimit,\n",
    "  NULL AS OverdueDays,\n",
    "  NULL AS OverdueDaysDesc,\n",
    "  NULL AS OverduePaymentsAmount,\n",
    "  NULL AS OverduePaymentsNumber,\n",
    "  NULL AS PaymentMethod,\n",
    "  NULL AS PaymentMethodDesc,\n",
    "  PaymentPeriodicity,\n",
    "  PaymentPeriodicityDesc,\n",
    "  NULL AS PremiumCard,\n",
    "  NULL AS PremiumCardDesc,\n",
    "  NULL AS ReorganizedCreditCode,\n",
    "  NULL AS ReorganizedCreditCodeDesc,\n",
    "  NULL AS ServicesLinesNo,\n",
    "  NULL AS TimesCardUsed,\n",
    "  NULL AS TransactionType,\n",
    "  NULL AS TransactionTypeDesc,\n",
    "  NULL AS Utilization,\n",
    "  LinkedSubject_CBSubjectCode,\n",
    "  LinkedSubject_Name,\n",
    "  LinkedSubject_Role,\n",
    "  LinkedSubject_RoleDesc,\n",
    "  Note_TypeDesc,\n",
    "  Note_Text,\n",
    "  Note_Type,\n",
    "  run_date,\n",
    "  ContractRequestDate,\n",
    "  'nongranted' AS source\n",
    "FROM\n",
    "  prj-prod-dataplatform.risk_credit_cic_data.notgranted_contracts\n",
    "),\n",
    "base2 as\n",
    "(select distinct * from base),\n",
    "loanmaster as --- data from loan master for customer demographic details\n",
    "(select distinct customerId, digitalLoanAccountId, loanAccountNumber, startApplyDateTime, natureofwork,industryDescription, incomeMultiple, employmentstatus,credolabScore,city,\n",
    "       barangay, province, postalCode, age, monthlyIncome,  tinNumber, gender, dateOfBirth, email, mobileNo,firstName, middleName, lastName, custLoanJourneyZipCode,\n",
    "       custLoanJourneyProvince, custLoanJourneyCity,  tsa_onboarding_time,new_loan_type, dependentsCount,\n",
    "       cast(incomeperSalaryScale as numeric) incomeperSalaryScale\n",
    " from prj-prod-dataplatform.risk_credit_mis.loan_master_table),\n",
    "employmentdata as ---- data from employment table for employment related information\n",
    "(SELECT distinct\n",
    "  digitalLoanAccountId,\n",
    "  crifApplicationId,\n",
    "  customerId,\n",
    "  AnnualMonthlyIndicator,\n",
    "  Currency,\n",
    "  DateHiredFrom,\n",
    "  DateHiredTo,\n",
    "  case when DateHiredFrom is null then null\n",
    "       when DateHiredFrom is not null and  DateHiredTo is not null then date_diff(date(DateHiredTo), date(DateHiredFrom), month)\n",
    "       when DateHiredFrom is not null and DateHiredTo is null then date_diff(date((select min(run_date) from base2 where base2.digitalLoanAccountId = digitalLoanAccountId)), date(DateHiredFrom), month)\n",
    "       else null end Employment_duration,\n",
    "  GrossIncome,\n",
    "  CAST(\n",
    "    CASE\n",
    "      WHEN COALESCE(AnnualMonthlyIndicator, 'NA') LIKE 'M' THEN CAST(COALESCE(GrossIncome, '0') AS NUMERIC)\n",
    "      WHEN COALESCE(AnnualMonthlyIndicator, 'NA') LIKE 'Y' THEN ROUND(CAST(COALESCE(GrossIncome, '0') AS NUMERIC)/12, 0)\n",
    "      ELSE 0\n",
    "    END AS INT64\n",
    "  ) AS MonthlyIncomecalculated,\n",
    "  CAST(\n",
    "    CASE\n",
    "      WHEN COALESCE(AnnualMonthlyIndicator, 'NA') LIKE 'M' THEN ROUND(CAST(COALESCE(GrossIncome, '0') AS NUMERIC)*12, 0)\n",
    "      WHEN COALESCE(AnnualMonthlyIndicator, 'NA') LIKE 'Y' THEN CAST(COALESCE(GrossIncome, '0') AS NUMERIC)\n",
    "      ELSE 0\n",
    "    END AS INT64\n",
    "  ) AS AnnualIncomecalculated,\n",
    "  Occupation,\n",
    "  OccupationDesc,\n",
    "  OccupationStatus,\n",
    "  OccupationStatusDesc,\n",
    "  TIN,\n",
    "  PhoneNumber,\n",
    "  PSIC,\n",
    "  REGEXP_REPLACE(PSICDesc, r'^\\d+\\s*-\\s*', '') AS PSICDesc ,\n",
    "  TradeName,\n",
    "  Case when digitalLoanAccountId in (select digitalLoanAccountId from base2 where base2.digitalLoanAccountid = digitalLoanAccountId and ContractHistoryType like 'Installments') then 1 else 0 end installmentLoanFlag,\n",
    "  Case when digitalLoanAccountId in (select digitalLoanAccountId from base2 where base2.digitalLoanAccountid = digitalLoanAccountId and ContractHistoryType like '%CreditCards%' ) then 1 else 0 end creditLoanFlag,\n",
    "  Case when digitalLoanAccountId in (select digitalLoanAccountId from base2 where base2.digitalLoanAccountId = digitalLoanAccountId and ContractHistoryType like 'NonInstallments' ) then 1 else 0 end noninstallmentLoanFlag,\n",
    "  row_number() over (partition by digitalLoanAccountId order by digitalLoanAccountId ) as rnk\n",
    "FROM prj-prod-dataplatform.risk_credit_cic_data.employment_data),\n",
    "d as\n",
    "(select  ---joining both the above tables\n",
    "lm.customerId, lm.digitalLoanAccountId, loanAccountNumber,\n",
    "       startApplyDateTime, natureofwork, industryDescription,\n",
    "       incomeMultiple, employmentstatus, credolabScore, city,\n",
    "       barangay, province, postalCode, age, (cast(coalesce(monthlyIncome, '0') as int64) * 12) AnnualdeclaredIncome,\n",
    "       tinNumber, gender, dateOfBirth, email, mobileNo, firstName,\n",
    "       middleName, lastName, custLoanJourneyZipCode,\n",
    "       custLoanJourneyProvince, custLoanJourneyCity, tsa_onboarding_time , dependentsCount,\n",
    "       (cast(coalesce(incomeperSalaryScale,0) as numeric)*12) as incomeperSalaryScale,\n",
    "       new_loan_type, ed.digitalLoanAccountId edprimarykey, crifApplicationId,\n",
    "       AnnualMonthlyIndicator, DateHiredFrom,\n",
    "       DateHiredTo,Employment_duration, GrossIncome, MonthlyIncomecalculated, AnnualIncomecalculated, Occupation, OccupationDesc,\n",
    "       OccupationStatus, OccupationStatusDesc, TIN, PhoneNumber,\n",
    "       PSIC, PSICDesc, TradeName , installmentLoanFlag, creditLoanFlag, noninstallmentLoanFlag\n",
    "from loanmaster lm\n",
    "inner join (select * from employmentdata where rnk = 1) ed on ed.digitalLoanAccountId = lm.digitalLoanAccountId\n",
    "),\n",
    "e as \n",
    "(select AnnualdeclaredIncome\n",
    ", incomeperSalaryScale \n",
    ", cast(coalesce(AnnualIncomecalculated, 0) as numeric) AnnualIncomecalculated \n",
    ", customerId\n",
    "from d\n",
    ")\n",
    "select \n",
    "customerId,AnnualdeclaredIncome, incomeperSalaryScale, AnnualIncomecalculated,\n",
    "CASE \n",
    "    WHEN COALESCE(AnnualdeclaredIncome, 0) <= 0 THEN 'A. <0'\n",
    "    WHEN COALESCE(AnnualdeclaredIncome, 0) > 0 AND COALESCE(AnnualdeclaredIncome, 0) <= 10000 THEN 'B. 1-10000'\n",
    "    WHEN COALESCE(AnnualdeclaredIncome, 0) > 10000 AND COALESCE(AnnualdeclaredIncome, 0) <= 20000 THEN 'C. 10001-20000'\n",
    "    WHEN COALESCE(AnnualdeclaredIncome, 0) > 20000 AND COALESCE(AnnualdeclaredIncome, 0) <= 30000 THEN 'D. 20001-30000'\n",
    "    WHEN COALESCE(AnnualdeclaredIncome, 0) > 30000 AND COALESCE(AnnualdeclaredIncome, 0) <= 40000 THEN 'E. 30001-40000'\n",
    "    WHEN COALESCE(AnnualdeclaredIncome, 0) > 40000 AND COALESCE(AnnualdeclaredIncome, 0) <= 50000 THEN 'F. 40001-50000'\n",
    "    WHEN COALESCE(AnnualdeclaredIncome, 0) > 50000 AND COALESCE(AnnualdeclaredIncome, 0) <= 60000 THEN 'G. 50001-60000'\n",
    "    WHEN COALESCE(AnnualdeclaredIncome, 0) > 60000 AND COALESCE(AnnualdeclaredIncome, 0) <= 70000 THEN 'H. 60001-70000'\n",
    "    WHEN COALESCE(AnnualdeclaredIncome, 0) > 70000 AND COALESCE(AnnualdeclaredIncome, 0) <= 80000 THEN 'I. 70001-80000'\n",
    "    WHEN COALESCE(AnnualdeclaredIncome, 0) > 80000 AND COALESCE(AnnualdeclaredIncome, 0) <= 90000 THEN 'J. 80001-90000'\n",
    "    WHEN COALESCE(AnnualdeclaredIncome, 0) > 90000 AND COALESCE(AnnualdeclaredIncome, 0) <= 100000 THEN 'K. 90001-100000'\n",
    "    WHEN COALESCE(AnnualdeclaredIncome, 0) > 100000 AND COALESCE(AnnualdeclaredIncome, 0) <= 110000 THEN 'L. 100001-110000'\n",
    "    WHEN COALESCE(AnnualdeclaredIncome, 0) > 110000 AND COALESCE(AnnualdeclaredIncome, 0) <= 120000 THEN 'M. 110001-120000'\n",
    "    WHEN COALESCE(AnnualdeclaredIncome, 0) > 120000 AND COALESCE(AnnualdeclaredIncome, 0) <= 130000 THEN 'N. 120001-130000'\n",
    "    WHEN COALESCE(AnnualdeclaredIncome, 0) > 130000 AND COALESCE(AnnualdeclaredIncome, 0) <= 140000 THEN 'O. 130001-140000'\n",
    "    WHEN COALESCE(AnnualdeclaredIncome, 0) > 140000 AND COALESCE(AnnualdeclaredIncome, 0) <= 150000 THEN 'P. 140001-150000'\n",
    "    WHEN COALESCE(AnnualdeclaredIncome, 0) > 150000 AND COALESCE(AnnualdeclaredIncome, 0) <= 160000 THEN 'Q. 150001-160000'\n",
    "    WHEN COALESCE(AnnualdeclaredIncome, 0) > 160000 AND COALESCE(AnnualdeclaredIncome, 0) <= 170000 THEN 'R. 160001-170000'\n",
    "    WHEN COALESCE(AnnualdeclaredIncome, 0) > 170000 AND COALESCE(AnnualdeclaredIncome, 0) <= 180000 THEN 'S. 170001-180000'\n",
    "    WHEN COALESCE(AnnualdeclaredIncome, 0) > 180000 AND COALESCE(AnnualdeclaredIncome, 0) <= 190000 THEN 'T. 180001-190000'\n",
    "    WHEN COALESCE(AnnualdeclaredIncome, 0) > 190000 AND COALESCE(AnnualdeclaredIncome, 0) <= 200000 THEN 'U. 190001-200000'\n",
    "    WHEN COALESCE(AnnualdeclaredIncome, 0) > 200000 THEN 'V. >200000'\n",
    "END AnnualdeclaredIncome_bin,\n",
    "CASE \n",
    "    WHEN COALESCE(incomeperSalaryScale, 0) <= 0 THEN 'A. <0'\n",
    "    WHEN COALESCE(incomeperSalaryScale, 0) > 0 AND COALESCE(incomeperSalaryScale, 0) <= 10000 THEN 'B. 1-10000'\n",
    "    WHEN COALESCE(incomeperSalaryScale, 0) > 10000 AND COALESCE(incomeperSalaryScale, 0) <= 20000 THEN 'C. 10001-20000'\n",
    "    WHEN COALESCE(incomeperSalaryScale, 0) > 20000 AND COALESCE(incomeperSalaryScale, 0) <= 30000 THEN 'D. 20001-30000'\n",
    "    WHEN COALESCE(incomeperSalaryScale, 0) > 30000 AND COALESCE(incomeperSalaryScale, 0) <= 40000 THEN 'E. 30001-40000'\n",
    "    WHEN COALESCE(incomeperSalaryScale, 0) > 40000 AND COALESCE(incomeperSalaryScale, 0) <= 50000 THEN 'F. 40001-50000'\n",
    "    WHEN COALESCE(incomeperSalaryScale, 0) > 50000 AND COALESCE(incomeperSalaryScale, 0) <= 60000 THEN 'G. 50001-60000'\n",
    "    WHEN COALESCE(incomeperSalaryScale, 0) > 60000 AND COALESCE(incomeperSalaryScale, 0) <= 70000 THEN 'H. 60001-70000'\n",
    "    WHEN COALESCE(incomeperSalaryScale, 0) > 70000 AND COALESCE(incomeperSalaryScale, 0) <= 80000 THEN 'I. 70001-80000'\n",
    "    WHEN COALESCE(incomeperSalaryScale, 0) > 80000 AND COALESCE(incomeperSalaryScale, 0) <= 90000 THEN 'J. 80001-90000'\n",
    "    WHEN COALESCE(incomeperSalaryScale, 0) > 90000 AND COALESCE(incomeperSalaryScale, 0) <= 100000 THEN 'K. 90001-100000'\n",
    "    WHEN COALESCE(incomeperSalaryScale, 0) > 100000 AND COALESCE(incomeperSalaryScale, 0) <= 110000 THEN 'L. 100001-110000'\n",
    "    WHEN COALESCE(incomeperSalaryScale, 0) > 110000 AND COALESCE(incomeperSalaryScale, 0) <= 120000 THEN 'M. 110001-120000'\n",
    "    WHEN COALESCE(incomeperSalaryScale, 0) > 120000 AND COALESCE(incomeperSalaryScale, 0) <= 130000 THEN 'N. 120001-130000'\n",
    "    WHEN COALESCE(incomeperSalaryScale, 0) > 130000 AND COALESCE(incomeperSalaryScale, 0) <= 140000 THEN 'O. 130001-140000'\n",
    "    WHEN COALESCE(incomeperSalaryScale, 0) > 140000 AND COALESCE(incomeperSalaryScale, 0) <= 150000 THEN 'P. 140001-150000'\n",
    "    WHEN COALESCE(incomeperSalaryScale, 0) > 150000 AND COALESCE(incomeperSalaryScale, 0) <= 160000 THEN 'Q. 150001-160000'\n",
    "    WHEN COALESCE(incomeperSalaryScale, 0) > 160000 AND COALESCE(incomeperSalaryScale, 0) <= 170000 THEN 'R. 160001-170000'\n",
    "    WHEN COALESCE(incomeperSalaryScale, 0) > 170000 AND COALESCE(incomeperSalaryScale, 0) <= 180000 THEN 'S. 170001-180000'\n",
    "    WHEN COALESCE(incomeperSalaryScale, 0) > 180000 AND COALESCE(incomeperSalaryScale, 0) <= 190000 THEN 'T. 180001-190000'\n",
    "    WHEN COALESCE(incomeperSalaryScale, 0) > 190000 AND COALESCE(incomeperSalaryScale, 0) <= 200000 THEN 'U. 190001-200000'\n",
    "    WHEN COALESCE(incomeperSalaryScale, 0) > 200000 THEN 'V. >200000'\n",
    "END incomeperSalaryScale_bin,\n",
    "CASE \n",
    "    WHEN COALESCE(AnnualIncomecalculated, 0) <= 0 THEN 'A. <0'\n",
    "    WHEN COALESCE(AnnualIncomecalculated, 0) > 0 AND COALESCE(AnnualIncomecalculated, 0) <= 10000 THEN 'B. 1-10000'\n",
    "    WHEN COALESCE(AnnualIncomecalculated, 0) > 10000 AND COALESCE(AnnualIncomecalculated, 0) <= 20000 THEN 'C. 10001-20000'\n",
    "    WHEN COALESCE(AnnualIncomecalculated, 0) > 20000 AND COALESCE(AnnualIncomecalculated, 0) <= 30000 THEN 'D. 20001-30000'\n",
    "    WHEN COALESCE(AnnualIncomecalculated, 0) > 30000 AND COALESCE(AnnualIncomecalculated, 0) <= 40000 THEN 'E. 30001-40000'\n",
    "    WHEN COALESCE(AnnualIncomecalculated, 0) > 40000 AND COALESCE(AnnualIncomecalculated, 0) <= 50000 THEN 'F. 40001-50000'\n",
    "    WHEN COALESCE(AnnualIncomecalculated, 0) > 50000 AND COALESCE(AnnualIncomecalculated, 0) <= 60000 THEN 'G. 50001-60000'\n",
    "    WHEN COALESCE(AnnualIncomecalculated, 0) > 60000 AND COALESCE(AnnualIncomecalculated, 0) <= 70000 THEN 'H. 60001-70000'\n",
    "    WHEN COALESCE(AnnualIncomecalculated, 0) > 70000 AND COALESCE(AnnualIncomecalculated, 0) <= 80000 THEN 'I. 70001-80000'\n",
    "    WHEN COALESCE(AnnualIncomecalculated, 0) > 80000 AND COALESCE(AnnualIncomecalculated, 0) <= 90000 THEN 'J. 80001-90000'\n",
    "    WHEN COALESCE(AnnualIncomecalculated, 0) > 90000 AND COALESCE(AnnualIncomecalculated, 0) <= 100000 THEN 'K. 90001-100000'\n",
    "    WHEN COALESCE(AnnualIncomecalculated, 0) > 100000 AND COALESCE(AnnualIncomecalculated, 0) <= 110000 THEN 'L. 100001-110000'\n",
    "    WHEN COALESCE(AnnualIncomecalculated, 0) > 110000 AND COALESCE(AnnualIncomecalculated, 0) <= 120000 THEN 'M. 110001-120000'\n",
    "    WHEN COALESCE(AnnualIncomecalculated, 0) > 120000 AND COALESCE(AnnualIncomecalculated, 0) <= 130000 THEN 'N. 120001-130000'\n",
    "    WHEN COALESCE(AnnualIncomecalculated, 0) > 130000 AND COALESCE(AnnualIncomecalculated, 0) <= 140000 THEN 'O. 130001-140000'\n",
    "    WHEN COALESCE(AnnualIncomecalculated, 0) > 140000 AND COALESCE(AnnualIncomecalculated, 0) <= 150000 THEN 'P. 140001-150000'\n",
    "    WHEN COALESCE(AnnualIncomecalculated, 0) > 150000 AND COALESCE(AnnualIncomecalculated, 0) <= 160000 THEN 'Q. 150001-160000'\n",
    "    WHEN COALESCE(AnnualIncomecalculated, 0) > 160000 AND COALESCE(AnnualIncomecalculated, 0) <= 170000 THEN 'R. 160001-170000'\n",
    "    WHEN COALESCE(AnnualIncomecalculated, 0) > 170000 AND COALESCE(AnnualIncomecalculated, 0) <= 180000 THEN 'S. 170001-180000'\n",
    "    WHEN COALESCE(AnnualIncomecalculated, 0) > 180000 AND COALESCE(AnnualIncomecalculated, 0) <= 190000 THEN 'T. 180001-190000'\n",
    "    WHEN COALESCE(AnnualIncomecalculated, 0) > 190000 AND COALESCE(AnnualIncomecalculated, 0) <= 200000 THEN 'U. 190001-200000'\n",
    "    WHEN COALESCE(AnnualIncomecalculated, 0) > 200000 THEN 'V. >200000'\n",
    "END AnnualIncomecalculated_bin\n",
    "from e\n",
    "order by 5,6,7\n",
    ";\n",
    "\"\"\"\n",
    "\n",
    "df = client.query(sq).to_dataframe(progress_bar_type = 'tqdm')"
   ]
  },
  {
   "cell_type": "code",
   "execution_count": 24,
   "metadata": {},
   "outputs": [
    {
     "name": "stdout",
     "output_type": "stream",
     "text": [
      "<class 'pandas.core.frame.DataFrame'>\n",
      "RangeIndex: 282892 entries, 0 to 282891\n",
      "Data columns (total 7 columns):\n",
      " #   Column                      Non-Null Count   Dtype \n",
      "---  ------                      --------------   ----- \n",
      " 0   customerId                  282892 non-null  Int64 \n",
      " 1   AnnualdeclaredIncome        282892 non-null  Int64 \n",
      " 2   incomeperSalaryScale        282892 non-null  object\n",
      " 3   AnnualIncomecalculated      282892 non-null  object\n",
      " 4   AnnualdeclaredIncome_bin    282892 non-null  object\n",
      " 5   incomeperSalaryScale_bin    282892 non-null  object\n",
      " 6   AnnualIncomecalculated_bin  282892 non-null  object\n",
      "dtypes: Int64(2), object(5)\n",
      "memory usage: 15.6+ MB\n"
     ]
    }
   ],
   "source": [
    "df.info()"
   ]
  },
  {
   "cell_type": "code",
   "execution_count": 25,
   "metadata": {},
   "outputs": [],
   "source": [
    "df['incomeperSalaryScale'] = pd.to_numeric(df['incomeperSalaryScale'], errors='coerce')\n",
    "df['AnnualIncomecalculated'] = pd.to_numeric(df['AnnualIncomecalculated'], errors='coerce')"
   ]
  },
  {
   "cell_type": "code",
   "execution_count": 26,
   "metadata": {},
   "outputs": [],
   "source": [
    "df['incomeperSalaryScale'] = df['incomeperSalaryScale'].astype(int)\n",
    "df['AnnualIncomecalculated'] = df['AnnualIncomecalculated'].astype(int)"
   ]
  },
  {
   "cell_type": "code",
   "execution_count": 27,
   "metadata": {},
   "outputs": [
    {
     "name": "stdout",
     "output_type": "stream",
     "text": [
      "<class 'pandas.core.frame.DataFrame'>\n",
      "RangeIndex: 282892 entries, 0 to 282891\n",
      "Data columns (total 7 columns):\n",
      " #   Column                      Non-Null Count   Dtype \n",
      "---  ------                      --------------   ----- \n",
      " 0   customerId                  282892 non-null  Int64 \n",
      " 1   AnnualdeclaredIncome        282892 non-null  Int64 \n",
      " 2   incomeperSalaryScale        282892 non-null  int64 \n",
      " 3   AnnualIncomecalculated      282892 non-null  int64 \n",
      " 4   AnnualdeclaredIncome_bin    282892 non-null  object\n",
      " 5   incomeperSalaryScale_bin    282892 non-null  object\n",
      " 6   AnnualIncomecalculated_bin  282892 non-null  object\n",
      "dtypes: Int64(2), int64(2), object(3)\n",
      "memory usage: 15.6+ MB\n"
     ]
    }
   ],
   "source": [
    "df.info()"
   ]
  },
  {
   "cell_type": "code",
   "execution_count": 28,
   "metadata": {},
   "outputs": [
    {
     "data": {
      "text/plain": [
       "Index(['customerId', 'AnnualdeclaredIncome', 'incomeperSalaryScale',\n",
       "       'AnnualIncomecalculated', 'AnnualdeclaredIncome_bin',\n",
       "       'incomeperSalaryScale_bin', 'AnnualIncomecalculated_bin'],\n",
       "      dtype='object')"
      ]
     },
     "execution_count": 28,
     "metadata": {},
     "output_type": "execute_result"
    }
   ],
   "source": [
    "df.columns"
   ]
  },
  {
   "cell_type": "code",
   "execution_count": 29,
   "metadata": {},
   "outputs": [],
   "source": [
    "# import pandas as pd\n",
    "# import numpy as np\n",
    "\n",
    "# def preprocess_dataframe(df):\n",
    "#     \"\"\"\n",
    "#     Preprocesses the dataframe to convert scientific notation to whole numbers.\n",
    "#     \"\"\"\n",
    "#     for col in ['incomeperSalaryScale', 'AnnualIncomecalculated']:\n",
    "#         # Convert to numeric, replacing any non-numeric values with NaN\n",
    "#         df[col] = pd.to_numeric(df[col], errors='coerce')\n",
    "#         # Convert to integers, replacing NaN with 0\n",
    "#         df[col] = df[col].fillna(0).astype(int)\n",
    "#     return df\n",
    "\n",
    "# def create_income_bins(df, columns):\n",
    "#     \"\"\"\n",
    "#     Creates income bins for specified columns in a pandas DataFrame.\n",
    "#     Args:\n",
    "#         df: The pandas DataFrame containing the income columns.\n",
    "#         columns: A list of column names to create bins for.\n",
    "#     Returns:\n",
    "#         The DataFrame with added bin columns.\n",
    "#     \"\"\"\n",
    "#     def get_bin_label(value):\n",
    "#         if value <= 0:\n",
    "#             return 'A. <=0'\n",
    "#         elif 1 <= value <= 100000:\n",
    "#             return f'B. {(value - 1) // 5000 * 5000 + 1}-{min((value - 1) // 5000 * 5000 + 5000, 100000)}'\n",
    "#         elif 100001 <= value <= 200000:\n",
    "#             return f'C. {(value - 100001) // 10000 * 10000 + 100001}-{min((value - 100001) // 10000 * 10000 + 110000, 200000)}'\n",
    "#         else:\n",
    "#             return 'D. >200000'\n",
    "    \n",
    "#     for col in columns:\n",
    "#         # Apply the binning function\n",
    "#         df[f\"{col}_bin\"] = df[col].apply(get_bin_label)\n",
    "#     return df\n",
    "\n",
    "# # Preprocess the dataframe\n",
    "# df = preprocess_dataframe(df)\n",
    "\n",
    "# # Apply income binning\n",
    "# df = create_income_bins(df, ['incomeperSalaryScale', 'AnnualdeclaredIncome', 'AnnualIncomecalculated'])\n",
    "\n",
    "# df.head()"
   ]
  },
  {
   "cell_type": "code",
   "execution_count": 30,
   "metadata": {},
   "outputs": [],
   "source": [
    "df1 = df[['customerId', 'AnnualdeclaredIncome', 'incomeperSalaryScale',\n",
    "       'AnnualIncomecalculated', 'AnnualdeclaredIncome_bin',\n",
    "       'incomeperSalaryScale_bin', 'AnnualIncomecalculated_bin']].copy()"
   ]
  },
  {
   "cell_type": "code",
   "execution_count": 31,
   "metadata": {},
   "outputs": [],
   "source": [
    "df2 = df1[['customerId', 'AnnualdeclaredIncome', 'AnnualdeclaredIncome_bin']].copy()"
   ]
  },
  {
   "cell_type": "code",
   "execution_count": 32,
   "metadata": {},
   "outputs": [
    {
     "data": {
      "text/html": [
       "<div>\n",
       "<style scoped>\n",
       "    .dataframe tbody tr th:only-of-type {\n",
       "        vertical-align: middle;\n",
       "    }\n",
       "\n",
       "    .dataframe tbody tr th {\n",
       "        vertical-align: top;\n",
       "    }\n",
       "\n",
       "    .dataframe thead th {\n",
       "        text-align: right;\n",
       "    }\n",
       "</style>\n",
       "<table border=\"1\" class=\"dataframe\">\n",
       "  <thead>\n",
       "    <tr style=\"text-align: right;\">\n",
       "      <th></th>\n",
       "      <th>AnnualdeclaredIncome_bin</th>\n",
       "      <th>customerId</th>\n",
       "      <th>AnnualdeclaredIncome</th>\n",
       "    </tr>\n",
       "  </thead>\n",
       "  <tbody>\n",
       "    <tr>\n",
       "      <th>0</th>\n",
       "      <td>A. &lt;0</td>\n",
       "      <td>20</td>\n",
       "      <td>0</td>\n",
       "    </tr>\n",
       "    <tr>\n",
       "      <th>1</th>\n",
       "      <td>B. 1-10000</td>\n",
       "      <td>50</td>\n",
       "      <td>74640</td>\n",
       "    </tr>\n",
       "    <tr>\n",
       "      <th>2</th>\n",
       "      <td>C. 10001-20000</td>\n",
       "      <td>24</td>\n",
       "      <td>375780</td>\n",
       "    </tr>\n",
       "    <tr>\n",
       "      <th>3</th>\n",
       "      <td>D. 20001-30000</td>\n",
       "      <td>48</td>\n",
       "      <td>1248720</td>\n",
       "    </tr>\n",
       "    <tr>\n",
       "      <th>4</th>\n",
       "      <td>E. 30001-40000</td>\n",
       "      <td>46</td>\n",
       "      <td>1647600</td>\n",
       "    </tr>\n",
       "    <tr>\n",
       "      <th>5</th>\n",
       "      <td>F. 40001-50000</td>\n",
       "      <td>47</td>\n",
       "      <td>2161440</td>\n",
       "    </tr>\n",
       "    <tr>\n",
       "      <th>6</th>\n",
       "      <td>G. 50001-60000</td>\n",
       "      <td>247</td>\n",
       "      <td>14749740</td>\n",
       "    </tr>\n",
       "    <tr>\n",
       "      <th>7</th>\n",
       "      <td>H. 60001-70000</td>\n",
       "      <td>11</td>\n",
       "      <td>709272</td>\n",
       "    </tr>\n",
       "    <tr>\n",
       "      <th>8</th>\n",
       "      <td>I. 70001-80000</td>\n",
       "      <td>101</td>\n",
       "      <td>7318800</td>\n",
       "    </tr>\n",
       "    <tr>\n",
       "      <th>9</th>\n",
       "      <td>J. 80001-90000</td>\n",
       "      <td>119</td>\n",
       "      <td>10141860</td>\n",
       "    </tr>\n",
       "    <tr>\n",
       "      <th>10</th>\n",
       "      <td>K. 90001-100000</td>\n",
       "      <td>303</td>\n",
       "      <td>29184684</td>\n",
       "    </tr>\n",
       "    <tr>\n",
       "      <th>11</th>\n",
       "      <td>L. 100001-110000</td>\n",
       "      <td>193</td>\n",
       "      <td>20589708</td>\n",
       "    </tr>\n",
       "    <tr>\n",
       "      <th>12</th>\n",
       "      <td>M. 110001-120000</td>\n",
       "      <td>3892</td>\n",
       "      <td>470324016</td>\n",
       "    </tr>\n",
       "    <tr>\n",
       "      <th>13</th>\n",
       "      <td>N. 120001-130000</td>\n",
       "      <td>346</td>\n",
       "      <td>43656648</td>\n",
       "    </tr>\n",
       "    <tr>\n",
       "      <th>14</th>\n",
       "      <td>O. 130001-140000</td>\n",
       "      <td>906</td>\n",
       "      <td>121637100</td>\n",
       "    </tr>\n",
       "    <tr>\n",
       "      <th>15</th>\n",
       "      <td>P. 140001-150000</td>\n",
       "      <td>3814</td>\n",
       "      <td>554377980</td>\n",
       "    </tr>\n",
       "    <tr>\n",
       "      <th>16</th>\n",
       "      <td>Q. 150001-160000</td>\n",
       "      <td>2177</td>\n",
       "      <td>340962324</td>\n",
       "    </tr>\n",
       "    <tr>\n",
       "      <th>17</th>\n",
       "      <td>R. 160001-170000</td>\n",
       "      <td>2915</td>\n",
       "      <td>490914900</td>\n",
       "    </tr>\n",
       "    <tr>\n",
       "      <th>18</th>\n",
       "      <td>S. 170001-180000</td>\n",
       "      <td>17065</td>\n",
       "      <td>3104646708</td>\n",
       "    </tr>\n",
       "    <tr>\n",
       "      <th>19</th>\n",
       "      <td>T. 180001-190000</td>\n",
       "      <td>1099</td>\n",
       "      <td>208315008</td>\n",
       "    </tr>\n",
       "    <tr>\n",
       "      <th>20</th>\n",
       "      <td>U. 190001-200000</td>\n",
       "      <td>9706</td>\n",
       "      <td>1889306832</td>\n",
       "    </tr>\n",
       "    <tr>\n",
       "      <th>21</th>\n",
       "      <td>V. &gt;200000</td>\n",
       "      <td>223269</td>\n",
       "      <td>94348315176</td>\n",
       "    </tr>\n",
       "  </tbody>\n",
       "</table>\n",
       "</div>"
      ],
      "text/plain": [
       "   AnnualdeclaredIncome_bin  customerId  AnnualdeclaredIncome\n",
       "0                     A. <0          20                     0\n",
       "1                B. 1-10000          50                 74640\n",
       "2            C. 10001-20000          24                375780\n",
       "3            D. 20001-30000          48               1248720\n",
       "4            E. 30001-40000          46               1647600\n",
       "5            F. 40001-50000          47               2161440\n",
       "6            G. 50001-60000         247              14749740\n",
       "7            H. 60001-70000          11                709272\n",
       "8            I. 70001-80000         101               7318800\n",
       "9            J. 80001-90000         119              10141860\n",
       "10          K. 90001-100000         303              29184684\n",
       "11         L. 100001-110000         193              20589708\n",
       "12         M. 110001-120000        3892             470324016\n",
       "13         N. 120001-130000         346              43656648\n",
       "14         O. 130001-140000         906             121637100\n",
       "15         P. 140001-150000        3814             554377980\n",
       "16         Q. 150001-160000        2177             340962324\n",
       "17         R. 160001-170000        2915             490914900\n",
       "18         S. 170001-180000       17065            3104646708\n",
       "19         T. 180001-190000        1099             208315008\n",
       "20         U. 190001-200000        9706            1889306832\n",
       "21               V. >200000      223269           94348315176"
      ]
     },
     "execution_count": 32,
     "metadata": {},
     "output_type": "execute_result"
    }
   ],
   "source": [
    "# Assuming you already have df2 defined\n",
    "resultdf2 = df2.groupby('AnnualdeclaredIncome_bin').agg({\n",
    "    'customerId': 'nunique',\n",
    "    'AnnualdeclaredIncome': 'sum'\n",
    "}).reset_index()\n",
    "resultdf2.sort_index()"
   ]
  },
  {
   "cell_type": "code",
   "execution_count": 33,
   "metadata": {},
   "outputs": [
    {
     "data": {
      "text/html": [
       "<div>\n",
       "<style scoped>\n",
       "    .dataframe tbody tr th:only-of-type {\n",
       "        vertical-align: middle;\n",
       "    }\n",
       "\n",
       "    .dataframe tbody tr th {\n",
       "        vertical-align: top;\n",
       "    }\n",
       "\n",
       "    .dataframe thead th {\n",
       "        text-align: right;\n",
       "    }\n",
       "</style>\n",
       "<table border=\"1\" class=\"dataframe\">\n",
       "  <thead>\n",
       "    <tr style=\"text-align: right;\">\n",
       "      <th></th>\n",
       "      <th>AnnualdeclaredIncome_bin</th>\n",
       "      <th>Self_Declared_user_cnt</th>\n",
       "      <th>AnnualdeclaredIncome</th>\n",
       "      <th>Self_Declared_Annual_income_Avg</th>\n",
       "    </tr>\n",
       "  </thead>\n",
       "  <tbody>\n",
       "    <tr>\n",
       "      <th>0</th>\n",
       "      <td>A. &lt;0</td>\n",
       "      <td>20</td>\n",
       "      <td>0</td>\n",
       "      <td>0.0</td>\n",
       "    </tr>\n",
       "    <tr>\n",
       "      <th>1</th>\n",
       "      <td>B. 1-10000</td>\n",
       "      <td>50</td>\n",
       "      <td>74640</td>\n",
       "      <td>1492.8</td>\n",
       "    </tr>\n",
       "    <tr>\n",
       "      <th>2</th>\n",
       "      <td>C. 10001-20000</td>\n",
       "      <td>24</td>\n",
       "      <td>375780</td>\n",
       "      <td>15657.5</td>\n",
       "    </tr>\n",
       "    <tr>\n",
       "      <th>3</th>\n",
       "      <td>D. 20001-30000</td>\n",
       "      <td>48</td>\n",
       "      <td>1248720</td>\n",
       "      <td>26015.0</td>\n",
       "    </tr>\n",
       "    <tr>\n",
       "      <th>4</th>\n",
       "      <td>E. 30001-40000</td>\n",
       "      <td>46</td>\n",
       "      <td>1647600</td>\n",
       "      <td>35817.391</td>\n",
       "    </tr>\n",
       "    <tr>\n",
       "      <th>5</th>\n",
       "      <td>F. 40001-50000</td>\n",
       "      <td>47</td>\n",
       "      <td>2161440</td>\n",
       "      <td>45988.085</td>\n",
       "    </tr>\n",
       "    <tr>\n",
       "      <th>6</th>\n",
       "      <td>G. 50001-60000</td>\n",
       "      <td>247</td>\n",
       "      <td>14749740</td>\n",
       "      <td>59715.547</td>\n",
       "    </tr>\n",
       "    <tr>\n",
       "      <th>7</th>\n",
       "      <td>H. 60001-70000</td>\n",
       "      <td>11</td>\n",
       "      <td>709272</td>\n",
       "      <td>64479.273</td>\n",
       "    </tr>\n",
       "    <tr>\n",
       "      <th>8</th>\n",
       "      <td>I. 70001-80000</td>\n",
       "      <td>101</td>\n",
       "      <td>7318800</td>\n",
       "      <td>72463.366</td>\n",
       "    </tr>\n",
       "    <tr>\n",
       "      <th>9</th>\n",
       "      <td>J. 80001-90000</td>\n",
       "      <td>119</td>\n",
       "      <td>10141860</td>\n",
       "      <td>85225.714</td>\n",
       "    </tr>\n",
       "    <tr>\n",
       "      <th>10</th>\n",
       "      <td>K. 90001-100000</td>\n",
       "      <td>303</td>\n",
       "      <td>29184684</td>\n",
       "      <td>96319.089</td>\n",
       "    </tr>\n",
       "    <tr>\n",
       "      <th>11</th>\n",
       "      <td>L. 100001-110000</td>\n",
       "      <td>193</td>\n",
       "      <td>20589708</td>\n",
       "      <td>106682.425</td>\n",
       "    </tr>\n",
       "    <tr>\n",
       "      <th>12</th>\n",
       "      <td>M. 110001-120000</td>\n",
       "      <td>3892</td>\n",
       "      <td>470324016</td>\n",
       "      <td>120843.786</td>\n",
       "    </tr>\n",
       "    <tr>\n",
       "      <th>13</th>\n",
       "      <td>N. 120001-130000</td>\n",
       "      <td>346</td>\n",
       "      <td>43656648</td>\n",
       "      <td>126175.283</td>\n",
       "    </tr>\n",
       "    <tr>\n",
       "      <th>14</th>\n",
       "      <td>O. 130001-140000</td>\n",
       "      <td>906</td>\n",
       "      <td>121637100</td>\n",
       "      <td>134257.285</td>\n",
       "    </tr>\n",
       "    <tr>\n",
       "      <th>15</th>\n",
       "      <td>P. 140001-150000</td>\n",
       "      <td>3814</td>\n",
       "      <td>554377980</td>\n",
       "      <td>145353.429</td>\n",
       "    </tr>\n",
       "    <tr>\n",
       "      <th>16</th>\n",
       "      <td>Q. 150001-160000</td>\n",
       "      <td>2177</td>\n",
       "      <td>340962324</td>\n",
       "      <td>156620.268</td>\n",
       "    </tr>\n",
       "    <tr>\n",
       "      <th>17</th>\n",
       "      <td>R. 160001-170000</td>\n",
       "      <td>2915</td>\n",
       "      <td>490914900</td>\n",
       "      <td>168409.914</td>\n",
       "    </tr>\n",
       "    <tr>\n",
       "      <th>18</th>\n",
       "      <td>S. 170001-180000</td>\n",
       "      <td>17065</td>\n",
       "      <td>3104646708</td>\n",
       "      <td>181930.66</td>\n",
       "    </tr>\n",
       "    <tr>\n",
       "      <th>19</th>\n",
       "      <td>T. 180001-190000</td>\n",
       "      <td>1099</td>\n",
       "      <td>208315008</td>\n",
       "      <td>189549.598</td>\n",
       "    </tr>\n",
       "    <tr>\n",
       "      <th>20</th>\n",
       "      <td>U. 190001-200000</td>\n",
       "      <td>9706</td>\n",
       "      <td>1889306832</td>\n",
       "      <td>194653.496</td>\n",
       "    </tr>\n",
       "    <tr>\n",
       "      <th>21</th>\n",
       "      <td>V. &gt;200000</td>\n",
       "      <td>223269</td>\n",
       "      <td>94348315176</td>\n",
       "      <td>422576.87</td>\n",
       "    </tr>\n",
       "  </tbody>\n",
       "</table>\n",
       "</div>"
      ],
      "text/plain": [
       "   AnnualdeclaredIncome_bin  Self_Declared_user_cnt  AnnualdeclaredIncome  \\\n",
       "0                     A. <0                      20                     0   \n",
       "1                B. 1-10000                      50                 74640   \n",
       "2            C. 10001-20000                      24                375780   \n",
       "3            D. 20001-30000                      48               1248720   \n",
       "4            E. 30001-40000                      46               1647600   \n",
       "5            F. 40001-50000                      47               2161440   \n",
       "6            G. 50001-60000                     247              14749740   \n",
       "7            H. 60001-70000                      11                709272   \n",
       "8            I. 70001-80000                     101               7318800   \n",
       "9            J. 80001-90000                     119              10141860   \n",
       "10          K. 90001-100000                     303              29184684   \n",
       "11         L. 100001-110000                     193              20589708   \n",
       "12         M. 110001-120000                    3892             470324016   \n",
       "13         N. 120001-130000                     346              43656648   \n",
       "14         O. 130001-140000                     906             121637100   \n",
       "15         P. 140001-150000                    3814             554377980   \n",
       "16         Q. 150001-160000                    2177             340962324   \n",
       "17         R. 160001-170000                    2915             490914900   \n",
       "18         S. 170001-180000                   17065            3104646708   \n",
       "19         T. 180001-190000                    1099             208315008   \n",
       "20         U. 190001-200000                    9706            1889306832   \n",
       "21               V. >200000                  223269           94348315176   \n",
       "\n",
       "    Self_Declared_Annual_income_Avg  \n",
       "0                               0.0  \n",
       "1                            1492.8  \n",
       "2                           15657.5  \n",
       "3                           26015.0  \n",
       "4                         35817.391  \n",
       "5                         45988.085  \n",
       "6                         59715.547  \n",
       "7                         64479.273  \n",
       "8                         72463.366  \n",
       "9                         85225.714  \n",
       "10                        96319.089  \n",
       "11                       106682.425  \n",
       "12                       120843.786  \n",
       "13                       126175.283  \n",
       "14                       134257.285  \n",
       "15                       145353.429  \n",
       "16                       156620.268  \n",
       "17                       168409.914  \n",
       "18                        181930.66  \n",
       "19                       189549.598  \n",
       "20                       194653.496  \n",
       "21                        422576.87  "
      ]
     },
     "execution_count": 33,
     "metadata": {},
     "output_type": "execute_result"
    }
   ],
   "source": [
    "resultdf2['Self_Declared_Annual_income_Avg'] = round(resultdf2['AnnualdeclaredIncome']/ resultdf2['customerId'], 3)\n",
    "resultdf2.rename(columns={'customerId':'Self_Declared_user_cnt'}, inplace = True)\n",
    "resultdf2"
   ]
  },
  {
   "cell_type": "code",
   "execution_count": 34,
   "metadata": {},
   "outputs": [
    {
     "data": {
      "text/html": [
       "<div>\n",
       "<style scoped>\n",
       "    .dataframe tbody tr th:only-of-type {\n",
       "        vertical-align: middle;\n",
       "    }\n",
       "\n",
       "    .dataframe tbody tr th {\n",
       "        vertical-align: top;\n",
       "    }\n",
       "\n",
       "    .dataframe thead th {\n",
       "        text-align: right;\n",
       "    }\n",
       "</style>\n",
       "<table border=\"1\" class=\"dataframe\">\n",
       "  <thead>\n",
       "    <tr style=\"text-align: right;\">\n",
       "      <th></th>\n",
       "      <th>incomeperSalaryScale_bin</th>\n",
       "      <th>sal_scale_user_cnt</th>\n",
       "      <th>incomeperSalaryScale</th>\n",
       "      <th>sal_scale_annual_income_avg</th>\n",
       "    </tr>\n",
       "  </thead>\n",
       "  <tbody>\n",
       "    <tr>\n",
       "      <th>0</th>\n",
       "      <td>A. &lt;0</td>\n",
       "      <td>15853</td>\n",
       "      <td>0</td>\n",
       "      <td>0.000</td>\n",
       "    </tr>\n",
       "    <tr>\n",
       "      <th>1</th>\n",
       "      <td>B. 1-10000</td>\n",
       "      <td>6</td>\n",
       "      <td>18540</td>\n",
       "      <td>3090.000</td>\n",
       "    </tr>\n",
       "    <tr>\n",
       "      <th>2</th>\n",
       "      <td>C. 10001-20000</td>\n",
       "      <td>1</td>\n",
       "      <td>12000</td>\n",
       "      <td>12000.000</td>\n",
       "    </tr>\n",
       "    <tr>\n",
       "      <th>3</th>\n",
       "      <td>D. 20001-30000</td>\n",
       "      <td>1</td>\n",
       "      <td>27600</td>\n",
       "      <td>27600.000</td>\n",
       "    </tr>\n",
       "    <tr>\n",
       "      <th>4</th>\n",
       "      <td>E. 30001-40000</td>\n",
       "      <td>4</td>\n",
       "      <td>144000</td>\n",
       "      <td>36000.000</td>\n",
       "    </tr>\n",
       "    <tr>\n",
       "      <th>5</th>\n",
       "      <td>F. 40001-50000</td>\n",
       "      <td>2</td>\n",
       "      <td>90000</td>\n",
       "      <td>45000.000</td>\n",
       "    </tr>\n",
       "    <tr>\n",
       "      <th>6</th>\n",
       "      <td>G. 50001-60000</td>\n",
       "      <td>11</td>\n",
       "      <td>654000</td>\n",
       "      <td>59454.545</td>\n",
       "    </tr>\n",
       "    <tr>\n",
       "      <th>7</th>\n",
       "      <td>I. 70001-80000</td>\n",
       "      <td>7</td>\n",
       "      <td>510000</td>\n",
       "      <td>72857.143</td>\n",
       "    </tr>\n",
       "    <tr>\n",
       "      <th>8</th>\n",
       "      <td>J. 80001-90000</td>\n",
       "      <td>17</td>\n",
       "      <td>1436400</td>\n",
       "      <td>84494.118</td>\n",
       "    </tr>\n",
       "    <tr>\n",
       "      <th>9</th>\n",
       "      <td>K. 90001-100000</td>\n",
       "      <td>39</td>\n",
       "      <td>3743988</td>\n",
       "      <td>95999.692</td>\n",
       "    </tr>\n",
       "    <tr>\n",
       "      <th>10</th>\n",
       "      <td>L. 100001-110000</td>\n",
       "      <td>24</td>\n",
       "      <td>2584800</td>\n",
       "      <td>107700.000</td>\n",
       "    </tr>\n",
       "    <tr>\n",
       "      <th>11</th>\n",
       "      <td>M. 110001-120000</td>\n",
       "      <td>541</td>\n",
       "      <td>64900800</td>\n",
       "      <td>119964.510</td>\n",
       "    </tr>\n",
       "    <tr>\n",
       "      <th>12</th>\n",
       "      <td>N. 120001-130000</td>\n",
       "      <td>33</td>\n",
       "      <td>4157040</td>\n",
       "      <td>125970.909</td>\n",
       "    </tr>\n",
       "    <tr>\n",
       "      <th>13</th>\n",
       "      <td>O. 130001-140000</td>\n",
       "      <td>106</td>\n",
       "      <td>14194200</td>\n",
       "      <td>133907.547</td>\n",
       "    </tr>\n",
       "    <tr>\n",
       "      <th>14</th>\n",
       "      <td>P. 140001-150000</td>\n",
       "      <td>476</td>\n",
       "      <td>68637732</td>\n",
       "      <td>144196.916</td>\n",
       "    </tr>\n",
       "    <tr>\n",
       "      <th>15</th>\n",
       "      <td>Q. 150001-160000</td>\n",
       "      <td>457</td>\n",
       "      <td>71213292</td>\n",
       "      <td>155827.772</td>\n",
       "    </tr>\n",
       "    <tr>\n",
       "      <th>16</th>\n",
       "      <td>R. 160001-170000</td>\n",
       "      <td>253</td>\n",
       "      <td>42124572</td>\n",
       "      <td>166500.285</td>\n",
       "    </tr>\n",
       "    <tr>\n",
       "      <th>17</th>\n",
       "      <td>S. 170001-180000</td>\n",
       "      <td>3387</td>\n",
       "      <td>607482912</td>\n",
       "      <td>179357.222</td>\n",
       "    </tr>\n",
       "    <tr>\n",
       "      <th>18</th>\n",
       "      <td>T. 180001-190000</td>\n",
       "      <td>1141</td>\n",
       "      <td>213514500</td>\n",
       "      <td>187129.273</td>\n",
       "    </tr>\n",
       "    <tr>\n",
       "      <th>19</th>\n",
       "      <td>U. 190001-200000</td>\n",
       "      <td>6257</td>\n",
       "      <td>1217334432</td>\n",
       "      <td>194555.607</td>\n",
       "    </tr>\n",
       "    <tr>\n",
       "      <th>20</th>\n",
       "      <td>V. &gt;200000</td>\n",
       "      <td>238839</td>\n",
       "      <td>108280984704</td>\n",
       "      <td>453363.918</td>\n",
       "    </tr>\n",
       "  </tbody>\n",
       "</table>\n",
       "</div>"
      ],
      "text/plain": [
       "   incomeperSalaryScale_bin  sal_scale_user_cnt  incomeperSalaryScale  \\\n",
       "0                     A. <0               15853                     0   \n",
       "1                B. 1-10000                   6                 18540   \n",
       "2            C. 10001-20000                   1                 12000   \n",
       "3            D. 20001-30000                   1                 27600   \n",
       "4            E. 30001-40000                   4                144000   \n",
       "5            F. 40001-50000                   2                 90000   \n",
       "6            G. 50001-60000                  11                654000   \n",
       "7            I. 70001-80000                   7                510000   \n",
       "8            J. 80001-90000                  17               1436400   \n",
       "9           K. 90001-100000                  39               3743988   \n",
       "10         L. 100001-110000                  24               2584800   \n",
       "11         M. 110001-120000                 541              64900800   \n",
       "12         N. 120001-130000                  33               4157040   \n",
       "13         O. 130001-140000                 106              14194200   \n",
       "14         P. 140001-150000                 476              68637732   \n",
       "15         Q. 150001-160000                 457              71213292   \n",
       "16         R. 160001-170000                 253              42124572   \n",
       "17         S. 170001-180000                3387             607482912   \n",
       "18         T. 180001-190000                1141             213514500   \n",
       "19         U. 190001-200000                6257            1217334432   \n",
       "20               V. >200000              238839          108280984704   \n",
       "\n",
       "    sal_scale_annual_income_avg  \n",
       "0                         0.000  \n",
       "1                      3090.000  \n",
       "2                     12000.000  \n",
       "3                     27600.000  \n",
       "4                     36000.000  \n",
       "5                     45000.000  \n",
       "6                     59454.545  \n",
       "7                     72857.143  \n",
       "8                     84494.118  \n",
       "9                     95999.692  \n",
       "10                   107700.000  \n",
       "11                   119964.510  \n",
       "12                   125970.909  \n",
       "13                   133907.547  \n",
       "14                   144196.916  \n",
       "15                   155827.772  \n",
       "16                   166500.285  \n",
       "17                   179357.222  \n",
       "18                   187129.273  \n",
       "19                   194555.607  \n",
       "20                   453363.918  "
      ]
     },
     "execution_count": 34,
     "metadata": {},
     "output_type": "execute_result"
    }
   ],
   "source": [
    "df2 = df1[['customerId', 'incomeperSalaryScale', 'incomeperSalaryScale_bin']].copy()\n",
    "# Assuming you already have df2 defined\n",
    "resultdf3 = df2.groupby('incomeperSalaryScale_bin').agg({\n",
    "    'customerId': 'nunique',\n",
    "    'incomeperSalaryScale': 'sum'\n",
    "}).reset_index()\n",
    "resultdf3.sort_index()\n",
    "resultdf3.rename(columns={'customerId':'sal_scale_user_cnt'}, inplace = True)\n",
    "# Convert 'incomeperSalaryScale' to integers\n",
    "resultdf3['incomeperSalaryScale'] = resultdf3['incomeperSalaryScale'].astype(int)\n",
    "resultdf3['sal_scale_annual_income_avg'] = round(resultdf3['incomeperSalaryScale']/ resultdf3['sal_scale_user_cnt'], 3)\n",
    "resultdf3"
   ]
  },
  {
   "cell_type": "code",
   "execution_count": 35,
   "metadata": {},
   "outputs": [
    {
     "data": {
      "text/html": [
       "<div>\n",
       "<style scoped>\n",
       "    .dataframe tbody tr th:only-of-type {\n",
       "        vertical-align: middle;\n",
       "    }\n",
       "\n",
       "    .dataframe tbody tr th {\n",
       "        vertical-align: top;\n",
       "    }\n",
       "\n",
       "    .dataframe thead th {\n",
       "        text-align: right;\n",
       "    }\n",
       "</style>\n",
       "<table border=\"1\" class=\"dataframe\">\n",
       "  <thead>\n",
       "    <tr style=\"text-align: right;\">\n",
       "      <th></th>\n",
       "      <th>income_bin</th>\n",
       "      <th>Self_Declared_user_cnt</th>\n",
       "      <th>AnnualdeclaredIncome</th>\n",
       "      <th>Self_Declared_Annual_income_Avg</th>\n",
       "      <th>sal_scale_user_cnt</th>\n",
       "      <th>incomeperSalaryScale</th>\n",
       "      <th>sal_scale_annual_income_avg</th>\n",
       "    </tr>\n",
       "  </thead>\n",
       "  <tbody>\n",
       "    <tr>\n",
       "      <th>0</th>\n",
       "      <td>A. &lt;0</td>\n",
       "      <td>20</td>\n",
       "      <td>0</td>\n",
       "      <td>0.0</td>\n",
       "      <td>15853.0</td>\n",
       "      <td>0.000000e+00</td>\n",
       "      <td>0.000</td>\n",
       "    </tr>\n",
       "    <tr>\n",
       "      <th>1</th>\n",
       "      <td>B. 1-10000</td>\n",
       "      <td>50</td>\n",
       "      <td>74640</td>\n",
       "      <td>1492.8</td>\n",
       "      <td>6.0</td>\n",
       "      <td>1.854000e+04</td>\n",
       "      <td>3090.000</td>\n",
       "    </tr>\n",
       "    <tr>\n",
       "      <th>2</th>\n",
       "      <td>C. 10001-20000</td>\n",
       "      <td>24</td>\n",
       "      <td>375780</td>\n",
       "      <td>15657.5</td>\n",
       "      <td>1.0</td>\n",
       "      <td>1.200000e+04</td>\n",
       "      <td>12000.000</td>\n",
       "    </tr>\n",
       "    <tr>\n",
       "      <th>3</th>\n",
       "      <td>D. 20001-30000</td>\n",
       "      <td>48</td>\n",
       "      <td>1248720</td>\n",
       "      <td>26015.0</td>\n",
       "      <td>1.0</td>\n",
       "      <td>2.760000e+04</td>\n",
       "      <td>27600.000</td>\n",
       "    </tr>\n",
       "    <tr>\n",
       "      <th>4</th>\n",
       "      <td>E. 30001-40000</td>\n",
       "      <td>46</td>\n",
       "      <td>1647600</td>\n",
       "      <td>35817.391</td>\n",
       "      <td>4.0</td>\n",
       "      <td>1.440000e+05</td>\n",
       "      <td>36000.000</td>\n",
       "    </tr>\n",
       "    <tr>\n",
       "      <th>5</th>\n",
       "      <td>F. 40001-50000</td>\n",
       "      <td>47</td>\n",
       "      <td>2161440</td>\n",
       "      <td>45988.085</td>\n",
       "      <td>2.0</td>\n",
       "      <td>9.000000e+04</td>\n",
       "      <td>45000.000</td>\n",
       "    </tr>\n",
       "    <tr>\n",
       "      <th>6</th>\n",
       "      <td>G. 50001-60000</td>\n",
       "      <td>247</td>\n",
       "      <td>14749740</td>\n",
       "      <td>59715.547</td>\n",
       "      <td>11.0</td>\n",
       "      <td>6.540000e+05</td>\n",
       "      <td>59454.545</td>\n",
       "    </tr>\n",
       "    <tr>\n",
       "      <th>7</th>\n",
       "      <td>H. 60001-70000</td>\n",
       "      <td>11</td>\n",
       "      <td>709272</td>\n",
       "      <td>64479.273</td>\n",
       "      <td>NaN</td>\n",
       "      <td>NaN</td>\n",
       "      <td>NaN</td>\n",
       "    </tr>\n",
       "    <tr>\n",
       "      <th>8</th>\n",
       "      <td>I. 70001-80000</td>\n",
       "      <td>101</td>\n",
       "      <td>7318800</td>\n",
       "      <td>72463.366</td>\n",
       "      <td>7.0</td>\n",
       "      <td>5.100000e+05</td>\n",
       "      <td>72857.143</td>\n",
       "    </tr>\n",
       "    <tr>\n",
       "      <th>9</th>\n",
       "      <td>J. 80001-90000</td>\n",
       "      <td>119</td>\n",
       "      <td>10141860</td>\n",
       "      <td>85225.714</td>\n",
       "      <td>17.0</td>\n",
       "      <td>1.436400e+06</td>\n",
       "      <td>84494.118</td>\n",
       "    </tr>\n",
       "    <tr>\n",
       "      <th>10</th>\n",
       "      <td>K. 90001-100000</td>\n",
       "      <td>303</td>\n",
       "      <td>29184684</td>\n",
       "      <td>96319.089</td>\n",
       "      <td>39.0</td>\n",
       "      <td>3.743988e+06</td>\n",
       "      <td>95999.692</td>\n",
       "    </tr>\n",
       "    <tr>\n",
       "      <th>11</th>\n",
       "      <td>L. 100001-110000</td>\n",
       "      <td>193</td>\n",
       "      <td>20589708</td>\n",
       "      <td>106682.425</td>\n",
       "      <td>24.0</td>\n",
       "      <td>2.584800e+06</td>\n",
       "      <td>107700.000</td>\n",
       "    </tr>\n",
       "    <tr>\n",
       "      <th>12</th>\n",
       "      <td>M. 110001-120000</td>\n",
       "      <td>3892</td>\n",
       "      <td>470324016</td>\n",
       "      <td>120843.786</td>\n",
       "      <td>541.0</td>\n",
       "      <td>6.490080e+07</td>\n",
       "      <td>119964.510</td>\n",
       "    </tr>\n",
       "    <tr>\n",
       "      <th>13</th>\n",
       "      <td>N. 120001-130000</td>\n",
       "      <td>346</td>\n",
       "      <td>43656648</td>\n",
       "      <td>126175.283</td>\n",
       "      <td>33.0</td>\n",
       "      <td>4.157040e+06</td>\n",
       "      <td>125970.909</td>\n",
       "    </tr>\n",
       "    <tr>\n",
       "      <th>14</th>\n",
       "      <td>O. 130001-140000</td>\n",
       "      <td>906</td>\n",
       "      <td>121637100</td>\n",
       "      <td>134257.285</td>\n",
       "      <td>106.0</td>\n",
       "      <td>1.419420e+07</td>\n",
       "      <td>133907.547</td>\n",
       "    </tr>\n",
       "    <tr>\n",
       "      <th>15</th>\n",
       "      <td>P. 140001-150000</td>\n",
       "      <td>3814</td>\n",
       "      <td>554377980</td>\n",
       "      <td>145353.429</td>\n",
       "      <td>476.0</td>\n",
       "      <td>6.863773e+07</td>\n",
       "      <td>144196.916</td>\n",
       "    </tr>\n",
       "    <tr>\n",
       "      <th>16</th>\n",
       "      <td>Q. 150001-160000</td>\n",
       "      <td>2177</td>\n",
       "      <td>340962324</td>\n",
       "      <td>156620.268</td>\n",
       "      <td>457.0</td>\n",
       "      <td>7.121329e+07</td>\n",
       "      <td>155827.772</td>\n",
       "    </tr>\n",
       "    <tr>\n",
       "      <th>17</th>\n",
       "      <td>R. 160001-170000</td>\n",
       "      <td>2915</td>\n",
       "      <td>490914900</td>\n",
       "      <td>168409.914</td>\n",
       "      <td>253.0</td>\n",
       "      <td>4.212457e+07</td>\n",
       "      <td>166500.285</td>\n",
       "    </tr>\n",
       "    <tr>\n",
       "      <th>18</th>\n",
       "      <td>S. 170001-180000</td>\n",
       "      <td>17065</td>\n",
       "      <td>3104646708</td>\n",
       "      <td>181930.66</td>\n",
       "      <td>3387.0</td>\n",
       "      <td>6.074829e+08</td>\n",
       "      <td>179357.222</td>\n",
       "    </tr>\n",
       "    <tr>\n",
       "      <th>19</th>\n",
       "      <td>T. 180001-190000</td>\n",
       "      <td>1099</td>\n",
       "      <td>208315008</td>\n",
       "      <td>189549.598</td>\n",
       "      <td>1141.0</td>\n",
       "      <td>2.135145e+08</td>\n",
       "      <td>187129.273</td>\n",
       "    </tr>\n",
       "    <tr>\n",
       "      <th>20</th>\n",
       "      <td>U. 190001-200000</td>\n",
       "      <td>9706</td>\n",
       "      <td>1889306832</td>\n",
       "      <td>194653.496</td>\n",
       "      <td>6257.0</td>\n",
       "      <td>1.217334e+09</td>\n",
       "      <td>194555.607</td>\n",
       "    </tr>\n",
       "    <tr>\n",
       "      <th>21</th>\n",
       "      <td>V. &gt;200000</td>\n",
       "      <td>223269</td>\n",
       "      <td>94348315176</td>\n",
       "      <td>422576.87</td>\n",
       "      <td>238839.0</td>\n",
       "      <td>1.082810e+11</td>\n",
       "      <td>453363.918</td>\n",
       "    </tr>\n",
       "  </tbody>\n",
       "</table>\n",
       "</div>"
      ],
      "text/plain": [
       "          income_bin  Self_Declared_user_cnt  AnnualdeclaredIncome  \\\n",
       "0              A. <0                      20                     0   \n",
       "1         B. 1-10000                      50                 74640   \n",
       "2     C. 10001-20000                      24                375780   \n",
       "3     D. 20001-30000                      48               1248720   \n",
       "4     E. 30001-40000                      46               1647600   \n",
       "5     F. 40001-50000                      47               2161440   \n",
       "6     G. 50001-60000                     247              14749740   \n",
       "7     H. 60001-70000                      11                709272   \n",
       "8     I. 70001-80000                     101               7318800   \n",
       "9     J. 80001-90000                     119              10141860   \n",
       "10   K. 90001-100000                     303              29184684   \n",
       "11  L. 100001-110000                     193              20589708   \n",
       "12  M. 110001-120000                    3892             470324016   \n",
       "13  N. 120001-130000                     346              43656648   \n",
       "14  O. 130001-140000                     906             121637100   \n",
       "15  P. 140001-150000                    3814             554377980   \n",
       "16  Q. 150001-160000                    2177             340962324   \n",
       "17  R. 160001-170000                    2915             490914900   \n",
       "18  S. 170001-180000                   17065            3104646708   \n",
       "19  T. 180001-190000                    1099             208315008   \n",
       "20  U. 190001-200000                    9706            1889306832   \n",
       "21        V. >200000                  223269           94348315176   \n",
       "\n",
       "    Self_Declared_Annual_income_Avg  sal_scale_user_cnt  incomeperSalaryScale  \\\n",
       "0                               0.0             15853.0          0.000000e+00   \n",
       "1                            1492.8                 6.0          1.854000e+04   \n",
       "2                           15657.5                 1.0          1.200000e+04   \n",
       "3                           26015.0                 1.0          2.760000e+04   \n",
       "4                         35817.391                 4.0          1.440000e+05   \n",
       "5                         45988.085                 2.0          9.000000e+04   \n",
       "6                         59715.547                11.0          6.540000e+05   \n",
       "7                         64479.273                 NaN                   NaN   \n",
       "8                         72463.366                 7.0          5.100000e+05   \n",
       "9                         85225.714                17.0          1.436400e+06   \n",
       "10                        96319.089                39.0          3.743988e+06   \n",
       "11                       106682.425                24.0          2.584800e+06   \n",
       "12                       120843.786               541.0          6.490080e+07   \n",
       "13                       126175.283                33.0          4.157040e+06   \n",
       "14                       134257.285               106.0          1.419420e+07   \n",
       "15                       145353.429               476.0          6.863773e+07   \n",
       "16                       156620.268               457.0          7.121329e+07   \n",
       "17                       168409.914               253.0          4.212457e+07   \n",
       "18                        181930.66              3387.0          6.074829e+08   \n",
       "19                       189549.598              1141.0          2.135145e+08   \n",
       "20                       194653.496              6257.0          1.217334e+09   \n",
       "21                        422576.87            238839.0          1.082810e+11   \n",
       "\n",
       "    sal_scale_annual_income_avg  \n",
       "0                         0.000  \n",
       "1                      3090.000  \n",
       "2                     12000.000  \n",
       "3                     27600.000  \n",
       "4                     36000.000  \n",
       "5                     45000.000  \n",
       "6                     59454.545  \n",
       "7                           NaN  \n",
       "8                     72857.143  \n",
       "9                     84494.118  \n",
       "10                    95999.692  \n",
       "11                   107700.000  \n",
       "12                   119964.510  \n",
       "13                   125970.909  \n",
       "14                   133907.547  \n",
       "15                   144196.916  \n",
       "16                   155827.772  \n",
       "17                   166500.285  \n",
       "18                   179357.222  \n",
       "19                   187129.273  \n",
       "20                   194555.607  \n",
       "21                   453363.918  "
      ]
     },
     "execution_count": 35,
     "metadata": {},
     "output_type": "execute_result"
    }
   ],
   "source": [
    "# Assuming you have already created resultdf2, resultdf3, and resultdf4\n",
    "\n",
    "# Renaming the columns to have a common key for merging\n",
    "resultdf2 = resultdf2.rename(columns={'AnnualdeclaredIncome_bin': 'income_bin'})\n",
    "resultdf3 = resultdf3.rename(columns={'incomeperSalaryScale_bin': 'income_bin'})\n",
    "# resultdf4 = resultdf4.rename(columns={'AnnualIncomecalculated_bin': 'income_bin'})\n",
    "\n",
    "# Merging the dataframes\n",
    "merged_df = pd.merge(resultdf2, resultdf3, on='income_bin', how='outer')\n",
    "# merged_df = pd.merge(merged_df, resultdf4, on='income_bin', how='inner')\n",
    "\n",
    "# Display the result\n",
    "merged_df"
   ]
  },
  {
   "cell_type": "code",
   "execution_count": 36,
   "metadata": {},
   "outputs": [
    {
     "name": "stdout",
     "output_type": "stream",
     "text": [
      "<class 'pandas.core.frame.DataFrame'>\n",
      "RangeIndex: 22 entries, 0 to 21\n",
      "Data columns (total 7 columns):\n",
      " #   Column                           Non-Null Count  Dtype \n",
      "---  ------                           --------------  ----- \n",
      " 0   income_bin                       22 non-null     object\n",
      " 1   Self_Declared_user_cnt           22 non-null     int64 \n",
      " 2   AnnualdeclaredIncome             22 non-null     Int64 \n",
      " 3   Self_Declared_Annual_income_Avg  22 non-null     int64 \n",
      " 4   sal_scale_user_cnt               22 non-null     int64 \n",
      " 5   incomeperSalaryScale             22 non-null     int64 \n",
      " 6   sal_scale_annual_income_avg      22 non-null     int64 \n",
      "dtypes: Int64(1), int64(5), object(1)\n",
      "memory usage: 1.3+ KB\n"
     ]
    }
   ],
   "source": [
    "merged_df['sal_scale_user_cnt'] = merged_df['sal_scale_user_cnt'].fillna(0)\n",
    "merged_df['incomeperSalaryScale'] = merged_df['incomeperSalaryScale'].fillna(0)\n",
    "merged_df['Self_Declared_Annual_income_Avg']= merged_df['Self_Declared_Annual_income_Avg'].fillna(0)\n",
    "merged_df['sal_scale_annual_income_avg']= merged_df['sal_scale_annual_income_avg'].fillna(0)\n",
    "merged_df['sal_scale_user_cnt'] = merged_df['sal_scale_user_cnt'].astype(int)\n",
    "merged_df['incomeperSalaryScale'] = merged_df['incomeperSalaryScale'].astype(int)\n",
    "merged_df['Self_Declared_Annual_income_Avg']= merged_df['Self_Declared_Annual_income_Avg'].astype(int)\n",
    "merged_df['sal_scale_annual_income_avg']= merged_df['sal_scale_annual_income_avg'].astype(int)\n",
    "merged_df.info()"
   ]
  },
  {
   "cell_type": "code",
   "execution_count": 37,
   "metadata": {},
   "outputs": [],
   "source": [
    "mdf = merged_df[['income_bin', 'Self_Declared_Annual_income_Avg', 'sal_scale_annual_income_avg']].copy()"
   ]
  },
  {
   "cell_type": "code",
   "execution_count": 38,
   "metadata": {},
   "outputs": [
    {
     "data": {
      "text/html": [
       "<div>\n",
       "<style scoped>\n",
       "    .dataframe tbody tr th:only-of-type {\n",
       "        vertical-align: middle;\n",
       "    }\n",
       "\n",
       "    .dataframe tbody tr th {\n",
       "        vertical-align: top;\n",
       "    }\n",
       "\n",
       "    .dataframe thead th {\n",
       "        text-align: right;\n",
       "    }\n",
       "</style>\n",
       "<table border=\"1\" class=\"dataframe\">\n",
       "  <thead>\n",
       "    <tr style=\"text-align: right;\">\n",
       "      <th></th>\n",
       "      <th>income_bin</th>\n",
       "      <th>Self_Declared_Annual_income_Avg</th>\n",
       "      <th>sal_scale_annual_income_avg</th>\n",
       "    </tr>\n",
       "  </thead>\n",
       "  <tbody>\n",
       "    <tr>\n",
       "      <th>1</th>\n",
       "      <td>B. 1-10000</td>\n",
       "      <td>1492</td>\n",
       "      <td>3090</td>\n",
       "    </tr>\n",
       "    <tr>\n",
       "      <th>2</th>\n",
       "      <td>C. 10001-20000</td>\n",
       "      <td>15657</td>\n",
       "      <td>12000</td>\n",
       "    </tr>\n",
       "    <tr>\n",
       "      <th>3</th>\n",
       "      <td>D. 20001-30000</td>\n",
       "      <td>26015</td>\n",
       "      <td>27600</td>\n",
       "    </tr>\n",
       "    <tr>\n",
       "      <th>4</th>\n",
       "      <td>E. 30001-40000</td>\n",
       "      <td>35817</td>\n",
       "      <td>36000</td>\n",
       "    </tr>\n",
       "    <tr>\n",
       "      <th>5</th>\n",
       "      <td>F. 40001-50000</td>\n",
       "      <td>45988</td>\n",
       "      <td>45000</td>\n",
       "    </tr>\n",
       "    <tr>\n",
       "      <th>6</th>\n",
       "      <td>G. 50001-60000</td>\n",
       "      <td>59715</td>\n",
       "      <td>59454</td>\n",
       "    </tr>\n",
       "    <tr>\n",
       "      <th>8</th>\n",
       "      <td>I. 70001-80000</td>\n",
       "      <td>72463</td>\n",
       "      <td>72857</td>\n",
       "    </tr>\n",
       "    <tr>\n",
       "      <th>9</th>\n",
       "      <td>J. 80001-90000</td>\n",
       "      <td>85225</td>\n",
       "      <td>84494</td>\n",
       "    </tr>\n",
       "    <tr>\n",
       "      <th>10</th>\n",
       "      <td>K. 90001-100000</td>\n",
       "      <td>96319</td>\n",
       "      <td>95999</td>\n",
       "    </tr>\n",
       "    <tr>\n",
       "      <th>11</th>\n",
       "      <td>L. 100001-110000</td>\n",
       "      <td>106682</td>\n",
       "      <td>107700</td>\n",
       "    </tr>\n",
       "    <tr>\n",
       "      <th>12</th>\n",
       "      <td>M. 110001-120000</td>\n",
       "      <td>120843</td>\n",
       "      <td>119964</td>\n",
       "    </tr>\n",
       "    <tr>\n",
       "      <th>13</th>\n",
       "      <td>N. 120001-130000</td>\n",
       "      <td>126175</td>\n",
       "      <td>125970</td>\n",
       "    </tr>\n",
       "    <tr>\n",
       "      <th>14</th>\n",
       "      <td>O. 130001-140000</td>\n",
       "      <td>134257</td>\n",
       "      <td>133907</td>\n",
       "    </tr>\n",
       "    <tr>\n",
       "      <th>15</th>\n",
       "      <td>P. 140001-150000</td>\n",
       "      <td>145353</td>\n",
       "      <td>144196</td>\n",
       "    </tr>\n",
       "    <tr>\n",
       "      <th>16</th>\n",
       "      <td>Q. 150001-160000</td>\n",
       "      <td>156620</td>\n",
       "      <td>155827</td>\n",
       "    </tr>\n",
       "    <tr>\n",
       "      <th>17</th>\n",
       "      <td>R. 160001-170000</td>\n",
       "      <td>168409</td>\n",
       "      <td>166500</td>\n",
       "    </tr>\n",
       "    <tr>\n",
       "      <th>18</th>\n",
       "      <td>S. 170001-180000</td>\n",
       "      <td>181930</td>\n",
       "      <td>179357</td>\n",
       "    </tr>\n",
       "    <tr>\n",
       "      <th>19</th>\n",
       "      <td>T. 180001-190000</td>\n",
       "      <td>189549</td>\n",
       "      <td>187129</td>\n",
       "    </tr>\n",
       "    <tr>\n",
       "      <th>20</th>\n",
       "      <td>U. 190001-200000</td>\n",
       "      <td>194653</td>\n",
       "      <td>194555</td>\n",
       "    </tr>\n",
       "    <tr>\n",
       "      <th>21</th>\n",
       "      <td>V. &gt;200000</td>\n",
       "      <td>422576</td>\n",
       "      <td>453363</td>\n",
       "    </tr>\n",
       "  </tbody>\n",
       "</table>\n",
       "</div>"
      ],
      "text/plain": [
       "          income_bin  Self_Declared_Annual_income_Avg  \\\n",
       "1         B. 1-10000                             1492   \n",
       "2     C. 10001-20000                            15657   \n",
       "3     D. 20001-30000                            26015   \n",
       "4     E. 30001-40000                            35817   \n",
       "5     F. 40001-50000                            45988   \n",
       "6     G. 50001-60000                            59715   \n",
       "8     I. 70001-80000                            72463   \n",
       "9     J. 80001-90000                            85225   \n",
       "10   K. 90001-100000                            96319   \n",
       "11  L. 100001-110000                           106682   \n",
       "12  M. 110001-120000                           120843   \n",
       "13  N. 120001-130000                           126175   \n",
       "14  O. 130001-140000                           134257   \n",
       "15  P. 140001-150000                           145353   \n",
       "16  Q. 150001-160000                           156620   \n",
       "17  R. 160001-170000                           168409   \n",
       "18  S. 170001-180000                           181930   \n",
       "19  T. 180001-190000                           189549   \n",
       "20  U. 190001-200000                           194653   \n",
       "21        V. >200000                           422576   \n",
       "\n",
       "    sal_scale_annual_income_avg  \n",
       "1                          3090  \n",
       "2                         12000  \n",
       "3                         27600  \n",
       "4                         36000  \n",
       "5                         45000  \n",
       "6                         59454  \n",
       "8                         72857  \n",
       "9                         84494  \n",
       "10                        95999  \n",
       "11                       107700  \n",
       "12                       119964  \n",
       "13                       125970  \n",
       "14                       133907  \n",
       "15                       144196  \n",
       "16                       155827  \n",
       "17                       166500  \n",
       "18                       179357  \n",
       "19                       187129  \n",
       "20                       194555  \n",
       "21                       453363  "
      ]
     },
     "execution_count": 38,
     "metadata": {},
     "output_type": "execute_result"
    }
   ],
   "source": [
    "mdf = mdf.drop(mdf[\n",
    "    (mdf['income_bin'] == 0) | \n",
    "    (mdf['Self_Declared_Annual_income_Avg'] == 0) | \n",
    "    (mdf['sal_scale_annual_income_avg'] == 0)\n",
    "].index)\n",
    "mdf"
   ]
  },
  {
   "cell_type": "code",
   "execution_count": 39,
   "metadata": {},
   "outputs": [
    {
     "data": {
      "text/html": [
       "<div>\n",
       "<style scoped>\n",
       "    .dataframe tbody tr th:only-of-type {\n",
       "        vertical-align: middle;\n",
       "    }\n",
       "\n",
       "    .dataframe tbody tr th {\n",
       "        vertical-align: top;\n",
       "    }\n",
       "\n",
       "    .dataframe thead th {\n",
       "        text-align: right;\n",
       "    }\n",
       "</style>\n",
       "<table border=\"1\" class=\"dataframe\">\n",
       "  <thead>\n",
       "    <tr style=\"text-align: right;\">\n",
       "      <th></th>\n",
       "      <th>income_bin</th>\n",
       "      <th>Self_Declared_Annual_income_Avg</th>\n",
       "      <th>sal_scale_annual_income_avg</th>\n",
       "    </tr>\n",
       "  </thead>\n",
       "  <tbody>\n",
       "    <tr>\n",
       "      <th>1</th>\n",
       "      <td>B. 1-10000</td>\n",
       "      <td>1492</td>\n",
       "      <td>3090</td>\n",
       "    </tr>\n",
       "    <tr>\n",
       "      <th>2</th>\n",
       "      <td>C. 10001-20000</td>\n",
       "      <td>15657</td>\n",
       "      <td>12000</td>\n",
       "    </tr>\n",
       "    <tr>\n",
       "      <th>3</th>\n",
       "      <td>D. 20001-30000</td>\n",
       "      <td>26015</td>\n",
       "      <td>27600</td>\n",
       "    </tr>\n",
       "    <tr>\n",
       "      <th>4</th>\n",
       "      <td>E. 30001-40000</td>\n",
       "      <td>35817</td>\n",
       "      <td>36000</td>\n",
       "    </tr>\n",
       "    <tr>\n",
       "      <th>5</th>\n",
       "      <td>F. 40001-50000</td>\n",
       "      <td>45988</td>\n",
       "      <td>45000</td>\n",
       "    </tr>\n",
       "    <tr>\n",
       "      <th>6</th>\n",
       "      <td>G. 50001-60000</td>\n",
       "      <td>59715</td>\n",
       "      <td>59454</td>\n",
       "    </tr>\n",
       "    <tr>\n",
       "      <th>8</th>\n",
       "      <td>I. 70001-80000</td>\n",
       "      <td>72463</td>\n",
       "      <td>72857</td>\n",
       "    </tr>\n",
       "    <tr>\n",
       "      <th>9</th>\n",
       "      <td>J. 80001-90000</td>\n",
       "      <td>85225</td>\n",
       "      <td>84494</td>\n",
       "    </tr>\n",
       "    <tr>\n",
       "      <th>10</th>\n",
       "      <td>K. 90001-100000</td>\n",
       "      <td>96319</td>\n",
       "      <td>95999</td>\n",
       "    </tr>\n",
       "    <tr>\n",
       "      <th>11</th>\n",
       "      <td>L. 100001-110000</td>\n",
       "      <td>106682</td>\n",
       "      <td>107700</td>\n",
       "    </tr>\n",
       "    <tr>\n",
       "      <th>12</th>\n",
       "      <td>M. 110001-120000</td>\n",
       "      <td>120843</td>\n",
       "      <td>119964</td>\n",
       "    </tr>\n",
       "    <tr>\n",
       "      <th>13</th>\n",
       "      <td>N. 120001-130000</td>\n",
       "      <td>126175</td>\n",
       "      <td>125970</td>\n",
       "    </tr>\n",
       "    <tr>\n",
       "      <th>14</th>\n",
       "      <td>O. 130001-140000</td>\n",
       "      <td>134257</td>\n",
       "      <td>133907</td>\n",
       "    </tr>\n",
       "    <tr>\n",
       "      <th>15</th>\n",
       "      <td>P. 140001-150000</td>\n",
       "      <td>145353</td>\n",
       "      <td>144196</td>\n",
       "    </tr>\n",
       "    <tr>\n",
       "      <th>16</th>\n",
       "      <td>Q. 150001-160000</td>\n",
       "      <td>156620</td>\n",
       "      <td>155827</td>\n",
       "    </tr>\n",
       "    <tr>\n",
       "      <th>17</th>\n",
       "      <td>R. 160001-170000</td>\n",
       "      <td>168409</td>\n",
       "      <td>166500</td>\n",
       "    </tr>\n",
       "    <tr>\n",
       "      <th>18</th>\n",
       "      <td>S. 170001-180000</td>\n",
       "      <td>181930</td>\n",
       "      <td>179357</td>\n",
       "    </tr>\n",
       "    <tr>\n",
       "      <th>19</th>\n",
       "      <td>T. 180001-190000</td>\n",
       "      <td>189549</td>\n",
       "      <td>187129</td>\n",
       "    </tr>\n",
       "    <tr>\n",
       "      <th>20</th>\n",
       "      <td>U. 190001-200000</td>\n",
       "      <td>194653</td>\n",
       "      <td>194555</td>\n",
       "    </tr>\n",
       "    <tr>\n",
       "      <th>21</th>\n",
       "      <td>V. &gt;200000</td>\n",
       "      <td>422576</td>\n",
       "      <td>453363</td>\n",
       "    </tr>\n",
       "  </tbody>\n",
       "</table>\n",
       "</div>"
      ],
      "text/plain": [
       "          income_bin  Self_Declared_Annual_income_Avg  \\\n",
       "1         B. 1-10000                             1492   \n",
       "2     C. 10001-20000                            15657   \n",
       "3     D. 20001-30000                            26015   \n",
       "4     E. 30001-40000                            35817   \n",
       "5     F. 40001-50000                            45988   \n",
       "6     G. 50001-60000                            59715   \n",
       "8     I. 70001-80000                            72463   \n",
       "9     J. 80001-90000                            85225   \n",
       "10   K. 90001-100000                            96319   \n",
       "11  L. 100001-110000                           106682   \n",
       "12  M. 110001-120000                           120843   \n",
       "13  N. 120001-130000                           126175   \n",
       "14  O. 130001-140000                           134257   \n",
       "15  P. 140001-150000                           145353   \n",
       "16  Q. 150001-160000                           156620   \n",
       "17  R. 160001-170000                           168409   \n",
       "18  S. 170001-180000                           181930   \n",
       "19  T. 180001-190000                           189549   \n",
       "20  U. 190001-200000                           194653   \n",
       "21        V. >200000                           422576   \n",
       "\n",
       "    sal_scale_annual_income_avg  \n",
       "1                          3090  \n",
       "2                         12000  \n",
       "3                         27600  \n",
       "4                         36000  \n",
       "5                         45000  \n",
       "6                         59454  \n",
       "8                         72857  \n",
       "9                         84494  \n",
       "10                        95999  \n",
       "11                       107700  \n",
       "12                       119964  \n",
       "13                       125970  \n",
       "14                       133907  \n",
       "15                       144196  \n",
       "16                       155827  \n",
       "17                       166500  \n",
       "18                       179357  \n",
       "19                       187129  \n",
       "20                       194555  \n",
       "21                       453363  "
      ]
     },
     "execution_count": 39,
     "metadata": {},
     "output_type": "execute_result"
    }
   ],
   "source": [
    "mdf.sort_values(by='income_bin')"
   ]
  },
  {
   "cell_type": "code",
   "execution_count": 43,
   "metadata": {},
   "outputs": [
    {
     "data": {
      "image/png": "[encoded data removed]",
      "text/plain": [
       "<Figure size 1500x1500 with 1 Axes>"
      ]
     },
     "metadata": {},
     "output_type": "display_data"
    }
   ],
   "source": [
    "df_grouped = mdf.groupby('income_bin').agg({\n",
    "    'Self_Declared_Annual_income_Avg': 'sum', \n",
    "    'sal_scale_annual_income_avg': 'sum', \n",
    "    })\n",
    "\n",
    "# Set the Seaborn style\n",
    "sns.set_style(\"whitegrid\")\n",
    "sns.set_palette(\"deep\")\n",
    "\n",
    "# Create the figure and axes\n",
    "fig, ax = plt.subplots(figsize=(15, 15))\n",
    "\n",
    "# Create the line plot\n",
    "sns.lineplot(data=df_grouped, markers=True, dashes=False, linewidth=2, ax=ax)\n",
    "\n",
    "# Customize the plot\n",
    "ax.set_xlabel('Income Bins', fontsize=12)\n",
    "ax.set_ylabel('Income', fontsize=12)\n",
    "ax.set_title('Average Salary Amount Self Declared Annual Income vs Income Per Salary Scale ', fontsize=14, wrap=True)\n",
    "ax.legend(title='Metric', title_fontsize='11', fontsize='10', bbox_to_anchor=(1.05, 1), loc='upper left')\n",
    "\n",
    "# Rotate x-axis labels\n",
    "plt.xticks(rotation=90)\n",
    "\n",
    "# Format y-axis labels with thousand separators\n",
    "ax.yaxis.set_major_formatter(plt.FuncFormatter(lambda x, p: format(int(x), ',')))\n",
    "ax.yaxis.set_ticks(range(0, 500000, 20000))\n",
    "\n",
    "# Adjust layout to prevent cutting off labels\n",
    "plt.tight_layout()\n",
    "\n",
    "# Display the plot\n",
    "plt.show()"
   ]
  },
  {
   "cell_type": "code",
   "execution_count": 44,
   "metadata": {},
   "outputs": [
    {
     "data": {
      "text/html": [
       "<div>\n",
       "<style scoped>\n",
       "    .dataframe tbody tr th:only-of-type {\n",
       "        vertical-align: middle;\n",
       "    }\n",
       "\n",
       "    .dataframe tbody tr th {\n",
       "        vertical-align: top;\n",
       "    }\n",
       "\n",
       "    .dataframe thead th {\n",
       "        text-align: right;\n",
       "    }\n",
       "</style>\n",
       "<table border=\"1\" class=\"dataframe\">\n",
       "  <thead>\n",
       "    <tr style=\"text-align: right;\">\n",
       "      <th></th>\n",
       "      <th>AnnualIncomecalculated_bin</th>\n",
       "      <th>cic_user_cnt</th>\n",
       "      <th>AnnualIncomecalculated</th>\n",
       "      <th>cic_annual_income_avg</th>\n",
       "    </tr>\n",
       "  </thead>\n",
       "  <tbody>\n",
       "    <tr>\n",
       "      <th>0</th>\n",
       "      <td>A. &lt;0</td>\n",
       "      <td>242018</td>\n",
       "      <td>0</td>\n",
       "      <td>0.000</td>\n",
       "    </tr>\n",
       "    <tr>\n",
       "      <th>1</th>\n",
       "      <td>B. 1-10000</td>\n",
       "      <td>69</td>\n",
       "      <td>18893</td>\n",
       "      <td>273.812</td>\n",
       "    </tr>\n",
       "    <tr>\n",
       "      <th>2</th>\n",
       "      <td>C. 10001-20000</td>\n",
       "      <td>7</td>\n",
       "      <td>107000</td>\n",
       "      <td>15285.714</td>\n",
       "    </tr>\n",
       "    <tr>\n",
       "      <th>3</th>\n",
       "      <td>D. 20001-30000</td>\n",
       "      <td>21</td>\n",
       "      <td>670611</td>\n",
       "      <td>31933.857</td>\n",
       "    </tr>\n",
       "    <tr>\n",
       "      <th>4</th>\n",
       "      <td>E. 30001-40000</td>\n",
       "      <td>12</td>\n",
       "      <td>439300</td>\n",
       "      <td>36608.333</td>\n",
       "    </tr>\n",
       "    <tr>\n",
       "      <th>5</th>\n",
       "      <td>F. 40001-50000</td>\n",
       "      <td>6</td>\n",
       "      <td>329500</td>\n",
       "      <td>54916.667</td>\n",
       "    </tr>\n",
       "    <tr>\n",
       "      <th>6</th>\n",
       "      <td>G. 50001-60000</td>\n",
       "      <td>13</td>\n",
       "      <td>749524</td>\n",
       "      <td>57655.692</td>\n",
       "    </tr>\n",
       "    <tr>\n",
       "      <th>7</th>\n",
       "      <td>H. 60001-70000</td>\n",
       "      <td>19</td>\n",
       "      <td>1323131</td>\n",
       "      <td>69638.474</td>\n",
       "    </tr>\n",
       "    <tr>\n",
       "      <th>8</th>\n",
       "      <td>I. 70001-80000</td>\n",
       "      <td>23</td>\n",
       "      <td>1772333</td>\n",
       "      <td>77057.957</td>\n",
       "    </tr>\n",
       "    <tr>\n",
       "      <th>9</th>\n",
       "      <td>J. 80001-90000</td>\n",
       "      <td>26</td>\n",
       "      <td>2309671</td>\n",
       "      <td>88833.500</td>\n",
       "    </tr>\n",
       "    <tr>\n",
       "      <th>10</th>\n",
       "      <td>K. 90001-100000</td>\n",
       "      <td>68</td>\n",
       "      <td>6627127</td>\n",
       "      <td>97457.750</td>\n",
       "    </tr>\n",
       "    <tr>\n",
       "      <th>11</th>\n",
       "      <td>L. 100001-110000</td>\n",
       "      <td>91</td>\n",
       "      <td>9879384</td>\n",
       "      <td>108564.659</td>\n",
       "    </tr>\n",
       "    <tr>\n",
       "      <th>12</th>\n",
       "      <td>M. 110001-120000</td>\n",
       "      <td>544</td>\n",
       "      <td>68381035</td>\n",
       "      <td>125700.432</td>\n",
       "    </tr>\n",
       "    <tr>\n",
       "      <th>13</th>\n",
       "      <td>N. 120001-130000</td>\n",
       "      <td>128</td>\n",
       "      <td>16459689</td>\n",
       "      <td>128591.320</td>\n",
       "    </tr>\n",
       "    <tr>\n",
       "      <th>14</th>\n",
       "      <td>O. 130001-140000</td>\n",
       "      <td>205</td>\n",
       "      <td>28275520</td>\n",
       "      <td>137929.366</td>\n",
       "    </tr>\n",
       "    <tr>\n",
       "      <th>15</th>\n",
       "      <td>P. 140001-150000</td>\n",
       "      <td>1683</td>\n",
       "      <td>248446051</td>\n",
       "      <td>147620.945</td>\n",
       "    </tr>\n",
       "    <tr>\n",
       "      <th>16</th>\n",
       "      <td>Q. 150001-160000</td>\n",
       "      <td>391</td>\n",
       "      <td>63501121</td>\n",
       "      <td>162406.959</td>\n",
       "    </tr>\n",
       "    <tr>\n",
       "      <th>17</th>\n",
       "      <td>R. 160001-170000</td>\n",
       "      <td>438</td>\n",
       "      <td>75217333</td>\n",
       "      <td>171729.071</td>\n",
       "    </tr>\n",
       "    <tr>\n",
       "      <th>18</th>\n",
       "      <td>S. 170001-180000</td>\n",
       "      <td>1048</td>\n",
       "      <td>193197919</td>\n",
       "      <td>184349.159</td>\n",
       "    </tr>\n",
       "    <tr>\n",
       "      <th>19</th>\n",
       "      <td>T. 180001-190000</td>\n",
       "      <td>418</td>\n",
       "      <td>80461255</td>\n",
       "      <td>192491.041</td>\n",
       "    </tr>\n",
       "    <tr>\n",
       "      <th>20</th>\n",
       "      <td>U. 190001-200000</td>\n",
       "      <td>676</td>\n",
       "      <td>136221179</td>\n",
       "      <td>201510.620</td>\n",
       "    </tr>\n",
       "    <tr>\n",
       "      <th>21</th>\n",
       "      <td>V. &gt;200000</td>\n",
       "      <td>18472</td>\n",
       "      <td>120236016502</td>\n",
       "      <td>6509095.740</td>\n",
       "    </tr>\n",
       "  </tbody>\n",
       "</table>\n",
       "</div>"
      ],
      "text/plain": [
       "   AnnualIncomecalculated_bin  cic_user_cnt  AnnualIncomecalculated  \\\n",
       "0                       A. <0        242018                       0   \n",
       "1                  B. 1-10000            69                   18893   \n",
       "2              C. 10001-20000             7                  107000   \n",
       "3              D. 20001-30000            21                  670611   \n",
       "4              E. 30001-40000            12                  439300   \n",
       "5              F. 40001-50000             6                  329500   \n",
       "6              G. 50001-60000            13                  749524   \n",
       "7              H. 60001-70000            19                 1323131   \n",
       "8              I. 70001-80000            23                 1772333   \n",
       "9              J. 80001-90000            26                 2309671   \n",
       "10            K. 90001-100000            68                 6627127   \n",
       "11           L. 100001-110000            91                 9879384   \n",
       "12           M. 110001-120000           544                68381035   \n",
       "13           N. 120001-130000           128                16459689   \n",
       "14           O. 130001-140000           205                28275520   \n",
       "15           P. 140001-150000          1683               248446051   \n",
       "16           Q. 150001-160000           391                63501121   \n",
       "17           R. 160001-170000           438                75217333   \n",
       "18           S. 170001-180000          1048               193197919   \n",
       "19           T. 180001-190000           418                80461255   \n",
       "20           U. 190001-200000           676               136221179   \n",
       "21                 V. >200000         18472            120236016502   \n",
       "\n",
       "    cic_annual_income_avg  \n",
       "0                   0.000  \n",
       "1                 273.812  \n",
       "2               15285.714  \n",
       "3               31933.857  \n",
       "4               36608.333  \n",
       "5               54916.667  \n",
       "6               57655.692  \n",
       "7               69638.474  \n",
       "8               77057.957  \n",
       "9               88833.500  \n",
       "10              97457.750  \n",
       "11             108564.659  \n",
       "12             125700.432  \n",
       "13             128591.320  \n",
       "14             137929.366  \n",
       "15             147620.945  \n",
       "16             162406.959  \n",
       "17             171729.071  \n",
       "18             184349.159  \n",
       "19             192491.041  \n",
       "20             201510.620  \n",
       "21            6509095.740  "
      ]
     },
     "execution_count": 44,
     "metadata": {},
     "output_type": "execute_result"
    }
   ],
   "source": [
    "df2 = df1[['customerId', 'AnnualIncomecalculated', 'AnnualIncomecalculated_bin']].copy()\n",
    "# Assuming you already have df2 defined\n",
    "resultdf4 = df2.groupby('AnnualIncomecalculated_bin').agg({\n",
    "    'customerId': 'nunique',\n",
    "    'AnnualIncomecalculated': 'sum'\n",
    "}).reset_index()\n",
    "resultdf4.sort_index()\n",
    "resultdf4.rename(columns={'customerId':'cic_user_cnt'}, inplace = True)\n",
    "# Convert 'incomeperSalaryScale' to integers\n",
    "resultdf4['AnnualIncomecalculated'] = resultdf4['AnnualIncomecalculated'].astype(int)\n",
    "resultdf4['cic_annual_income_avg'] = round(resultdf4['AnnualIncomecalculated']/ resultdf4['cic_user_cnt'], 3)\n",
    "resultdf4"
   ]
  },
  {
   "cell_type": "code",
   "execution_count": 45,
   "metadata": {},
   "outputs": [
    {
     "data": {
      "text/html": [
       "<div>\n",
       "<style scoped>\n",
       "    .dataframe tbody tr th:only-of-type {\n",
       "        vertical-align: middle;\n",
       "    }\n",
       "\n",
       "    .dataframe tbody tr th {\n",
       "        vertical-align: top;\n",
       "    }\n",
       "\n",
       "    .dataframe thead th {\n",
       "        text-align: right;\n",
       "    }\n",
       "</style>\n",
       "<table border=\"1\" class=\"dataframe\">\n",
       "  <thead>\n",
       "    <tr style=\"text-align: right;\">\n",
       "      <th></th>\n",
       "      <th>income_bin</th>\n",
       "      <th>Self_Declared_user_cnt</th>\n",
       "      <th>AnnualdeclaredIncome</th>\n",
       "      <th>Self_Declared_Annual_income_Avg</th>\n",
       "      <th>sal_scale_user_cnt</th>\n",
       "      <th>incomeperSalaryScale</th>\n",
       "      <th>sal_scale_annual_income_avg</th>\n",
       "      <th>cic_user_cnt</th>\n",
       "      <th>AnnualIncomecalculated</th>\n",
       "      <th>cic_annual_income_avg</th>\n",
       "    </tr>\n",
       "  </thead>\n",
       "  <tbody>\n",
       "    <tr>\n",
       "      <th>0</th>\n",
       "      <td>A. &lt;0</td>\n",
       "      <td>20</td>\n",
       "      <td>0</td>\n",
       "      <td>0.0</td>\n",
       "      <td>15853.0</td>\n",
       "      <td>0.000000e+00</td>\n",
       "      <td>0.000</td>\n",
       "      <td>242018</td>\n",
       "      <td>0</td>\n",
       "      <td>0.000</td>\n",
       "    </tr>\n",
       "    <tr>\n",
       "      <th>1</th>\n",
       "      <td>B. 1-10000</td>\n",
       "      <td>50</td>\n",
       "      <td>74640</td>\n",
       "      <td>1492.8</td>\n",
       "      <td>6.0</td>\n",
       "      <td>1.854000e+04</td>\n",
       "      <td>3090.000</td>\n",
       "      <td>69</td>\n",
       "      <td>18893</td>\n",
       "      <td>273.812</td>\n",
       "    </tr>\n",
       "    <tr>\n",
       "      <th>2</th>\n",
       "      <td>C. 10001-20000</td>\n",
       "      <td>24</td>\n",
       "      <td>375780</td>\n",
       "      <td>15657.5</td>\n",
       "      <td>1.0</td>\n",
       "      <td>1.200000e+04</td>\n",
       "      <td>12000.000</td>\n",
       "      <td>7</td>\n",
       "      <td>107000</td>\n",
       "      <td>15285.714</td>\n",
       "    </tr>\n",
       "    <tr>\n",
       "      <th>3</th>\n",
       "      <td>D. 20001-30000</td>\n",
       "      <td>48</td>\n",
       "      <td>1248720</td>\n",
       "      <td>26015.0</td>\n",
       "      <td>1.0</td>\n",
       "      <td>2.760000e+04</td>\n",
       "      <td>27600.000</td>\n",
       "      <td>21</td>\n",
       "      <td>670611</td>\n",
       "      <td>31933.857</td>\n",
       "    </tr>\n",
       "    <tr>\n",
       "      <th>4</th>\n",
       "      <td>E. 30001-40000</td>\n",
       "      <td>46</td>\n",
       "      <td>1647600</td>\n",
       "      <td>35817.391</td>\n",
       "      <td>4.0</td>\n",
       "      <td>1.440000e+05</td>\n",
       "      <td>36000.000</td>\n",
       "      <td>12</td>\n",
       "      <td>439300</td>\n",
       "      <td>36608.333</td>\n",
       "    </tr>\n",
       "    <tr>\n",
       "      <th>5</th>\n",
       "      <td>F. 40001-50000</td>\n",
       "      <td>47</td>\n",
       "      <td>2161440</td>\n",
       "      <td>45988.085</td>\n",
       "      <td>2.0</td>\n",
       "      <td>9.000000e+04</td>\n",
       "      <td>45000.000</td>\n",
       "      <td>6</td>\n",
       "      <td>329500</td>\n",
       "      <td>54916.667</td>\n",
       "    </tr>\n",
       "    <tr>\n",
       "      <th>6</th>\n",
       "      <td>G. 50001-60000</td>\n",
       "      <td>247</td>\n",
       "      <td>14749740</td>\n",
       "      <td>59715.547</td>\n",
       "      <td>11.0</td>\n",
       "      <td>6.540000e+05</td>\n",
       "      <td>59454.545</td>\n",
       "      <td>13</td>\n",
       "      <td>749524</td>\n",
       "      <td>57655.692</td>\n",
       "    </tr>\n",
       "    <tr>\n",
       "      <th>7</th>\n",
       "      <td>H. 60001-70000</td>\n",
       "      <td>11</td>\n",
       "      <td>709272</td>\n",
       "      <td>64479.273</td>\n",
       "      <td>NaN</td>\n",
       "      <td>NaN</td>\n",
       "      <td>NaN</td>\n",
       "      <td>19</td>\n",
       "      <td>1323131</td>\n",
       "      <td>69638.474</td>\n",
       "    </tr>\n",
       "    <tr>\n",
       "      <th>8</th>\n",
       "      <td>I. 70001-80000</td>\n",
       "      <td>101</td>\n",
       "      <td>7318800</td>\n",
       "      <td>72463.366</td>\n",
       "      <td>7.0</td>\n",
       "      <td>5.100000e+05</td>\n",
       "      <td>72857.143</td>\n",
       "      <td>23</td>\n",
       "      <td>1772333</td>\n",
       "      <td>77057.957</td>\n",
       "    </tr>\n",
       "    <tr>\n",
       "      <th>9</th>\n",
       "      <td>J. 80001-90000</td>\n",
       "      <td>119</td>\n",
       "      <td>10141860</td>\n",
       "      <td>85225.714</td>\n",
       "      <td>17.0</td>\n",
       "      <td>1.436400e+06</td>\n",
       "      <td>84494.118</td>\n",
       "      <td>26</td>\n",
       "      <td>2309671</td>\n",
       "      <td>88833.500</td>\n",
       "    </tr>\n",
       "    <tr>\n",
       "      <th>10</th>\n",
       "      <td>K. 90001-100000</td>\n",
       "      <td>303</td>\n",
       "      <td>29184684</td>\n",
       "      <td>96319.089</td>\n",
       "      <td>39.0</td>\n",
       "      <td>3.743988e+06</td>\n",
       "      <td>95999.692</td>\n",
       "      <td>68</td>\n",
       "      <td>6627127</td>\n",
       "      <td>97457.750</td>\n",
       "    </tr>\n",
       "    <tr>\n",
       "      <th>11</th>\n",
       "      <td>L. 100001-110000</td>\n",
       "      <td>193</td>\n",
       "      <td>20589708</td>\n",
       "      <td>106682.425</td>\n",
       "      <td>24.0</td>\n",
       "      <td>2.584800e+06</td>\n",
       "      <td>107700.000</td>\n",
       "      <td>91</td>\n",
       "      <td>9879384</td>\n",
       "      <td>108564.659</td>\n",
       "    </tr>\n",
       "    <tr>\n",
       "      <th>12</th>\n",
       "      <td>M. 110001-120000</td>\n",
       "      <td>3892</td>\n",
       "      <td>470324016</td>\n",
       "      <td>120843.786</td>\n",
       "      <td>541.0</td>\n",
       "      <td>6.490080e+07</td>\n",
       "      <td>119964.510</td>\n",
       "      <td>544</td>\n",
       "      <td>68381035</td>\n",
       "      <td>125700.432</td>\n",
       "    </tr>\n",
       "    <tr>\n",
       "      <th>13</th>\n",
       "      <td>N. 120001-130000</td>\n",
       "      <td>346</td>\n",
       "      <td>43656648</td>\n",
       "      <td>126175.283</td>\n",
       "      <td>33.0</td>\n",
       "      <td>4.157040e+06</td>\n",
       "      <td>125970.909</td>\n",
       "      <td>128</td>\n",
       "      <td>16459689</td>\n",
       "      <td>128591.320</td>\n",
       "    </tr>\n",
       "    <tr>\n",
       "      <th>14</th>\n",
       "      <td>O. 130001-140000</td>\n",
       "      <td>906</td>\n",
       "      <td>121637100</td>\n",
       "      <td>134257.285</td>\n",
       "      <td>106.0</td>\n",
       "      <td>1.419420e+07</td>\n",
       "      <td>133907.547</td>\n",
       "      <td>205</td>\n",
       "      <td>28275520</td>\n",
       "      <td>137929.366</td>\n",
       "    </tr>\n",
       "    <tr>\n",
       "      <th>15</th>\n",
       "      <td>P. 140001-150000</td>\n",
       "      <td>3814</td>\n",
       "      <td>554377980</td>\n",
       "      <td>145353.429</td>\n",
       "      <td>476.0</td>\n",
       "      <td>6.863773e+07</td>\n",
       "      <td>144196.916</td>\n",
       "      <td>1683</td>\n",
       "      <td>248446051</td>\n",
       "      <td>147620.945</td>\n",
       "    </tr>\n",
       "    <tr>\n",
       "      <th>16</th>\n",
       "      <td>Q. 150001-160000</td>\n",
       "      <td>2177</td>\n",
       "      <td>340962324</td>\n",
       "      <td>156620.268</td>\n",
       "      <td>457.0</td>\n",
       "      <td>7.121329e+07</td>\n",
       "      <td>155827.772</td>\n",
       "      <td>391</td>\n",
       "      <td>63501121</td>\n",
       "      <td>162406.959</td>\n",
       "    </tr>\n",
       "    <tr>\n",
       "      <th>17</th>\n",
       "      <td>R. 160001-170000</td>\n",
       "      <td>2915</td>\n",
       "      <td>490914900</td>\n",
       "      <td>168409.914</td>\n",
       "      <td>253.0</td>\n",
       "      <td>4.212457e+07</td>\n",
       "      <td>166500.285</td>\n",
       "      <td>438</td>\n",
       "      <td>75217333</td>\n",
       "      <td>171729.071</td>\n",
       "    </tr>\n",
       "    <tr>\n",
       "      <th>18</th>\n",
       "      <td>S. 170001-180000</td>\n",
       "      <td>17065</td>\n",
       "      <td>3104646708</td>\n",
       "      <td>181930.66</td>\n",
       "      <td>3387.0</td>\n",
       "      <td>6.074829e+08</td>\n",
       "      <td>179357.222</td>\n",
       "      <td>1048</td>\n",
       "      <td>193197919</td>\n",
       "      <td>184349.159</td>\n",
       "    </tr>\n",
       "    <tr>\n",
       "      <th>19</th>\n",
       "      <td>T. 180001-190000</td>\n",
       "      <td>1099</td>\n",
       "      <td>208315008</td>\n",
       "      <td>189549.598</td>\n",
       "      <td>1141.0</td>\n",
       "      <td>2.135145e+08</td>\n",
       "      <td>187129.273</td>\n",
       "      <td>418</td>\n",
       "      <td>80461255</td>\n",
       "      <td>192491.041</td>\n",
       "    </tr>\n",
       "    <tr>\n",
       "      <th>20</th>\n",
       "      <td>U. 190001-200000</td>\n",
       "      <td>9706</td>\n",
       "      <td>1889306832</td>\n",
       "      <td>194653.496</td>\n",
       "      <td>6257.0</td>\n",
       "      <td>1.217334e+09</td>\n",
       "      <td>194555.607</td>\n",
       "      <td>676</td>\n",
       "      <td>136221179</td>\n",
       "      <td>201510.620</td>\n",
       "    </tr>\n",
       "    <tr>\n",
       "      <th>21</th>\n",
       "      <td>V. &gt;200000</td>\n",
       "      <td>223269</td>\n",
       "      <td>94348315176</td>\n",
       "      <td>422576.87</td>\n",
       "      <td>238839.0</td>\n",
       "      <td>1.082810e+11</td>\n",
       "      <td>453363.918</td>\n",
       "      <td>18472</td>\n",
       "      <td>120236016502</td>\n",
       "      <td>6509095.740</td>\n",
       "    </tr>\n",
       "  </tbody>\n",
       "</table>\n",
       "</div>"
      ],
      "text/plain": [
       "          income_bin  Self_Declared_user_cnt  AnnualdeclaredIncome  \\\n",
       "0              A. <0                      20                     0   \n",
       "1         B. 1-10000                      50                 74640   \n",
       "2     C. 10001-20000                      24                375780   \n",
       "3     D. 20001-30000                      48               1248720   \n",
       "4     E. 30001-40000                      46               1647600   \n",
       "5     F. 40001-50000                      47               2161440   \n",
       "6     G. 50001-60000                     247              14749740   \n",
       "7     H. 60001-70000                      11                709272   \n",
       "8     I. 70001-80000                     101               7318800   \n",
       "9     J. 80001-90000                     119              10141860   \n",
       "10   K. 90001-100000                     303              29184684   \n",
       "11  L. 100001-110000                     193              20589708   \n",
       "12  M. 110001-120000                    3892             470324016   \n",
       "13  N. 120001-130000                     346              43656648   \n",
       "14  O. 130001-140000                     906             121637100   \n",
       "15  P. 140001-150000                    3814             554377980   \n",
       "16  Q. 150001-160000                    2177             340962324   \n",
       "17  R. 160001-170000                    2915             490914900   \n",
       "18  S. 170001-180000                   17065            3104646708   \n",
       "19  T. 180001-190000                    1099             208315008   \n",
       "20  U. 190001-200000                    9706            1889306832   \n",
       "21        V. >200000                  223269           94348315176   \n",
       "\n",
       "    Self_Declared_Annual_income_Avg  sal_scale_user_cnt  incomeperSalaryScale  \\\n",
       "0                               0.0             15853.0          0.000000e+00   \n",
       "1                            1492.8                 6.0          1.854000e+04   \n",
       "2                           15657.5                 1.0          1.200000e+04   \n",
       "3                           26015.0                 1.0          2.760000e+04   \n",
       "4                         35817.391                 4.0          1.440000e+05   \n",
       "5                         45988.085                 2.0          9.000000e+04   \n",
       "6                         59715.547                11.0          6.540000e+05   \n",
       "7                         64479.273                 NaN                   NaN   \n",
       "8                         72463.366                 7.0          5.100000e+05   \n",
       "9                         85225.714                17.0          1.436400e+06   \n",
       "10                        96319.089                39.0          3.743988e+06   \n",
       "11                       106682.425                24.0          2.584800e+06   \n",
       "12                       120843.786               541.0          6.490080e+07   \n",
       "13                       126175.283                33.0          4.157040e+06   \n",
       "14                       134257.285               106.0          1.419420e+07   \n",
       "15                       145353.429               476.0          6.863773e+07   \n",
       "16                       156620.268               457.0          7.121329e+07   \n",
       "17                       168409.914               253.0          4.212457e+07   \n",
       "18                        181930.66              3387.0          6.074829e+08   \n",
       "19                       189549.598              1141.0          2.135145e+08   \n",
       "20                       194653.496              6257.0          1.217334e+09   \n",
       "21                        422576.87            238839.0          1.082810e+11   \n",
       "\n",
       "    sal_scale_annual_income_avg  cic_user_cnt  AnnualIncomecalculated  \\\n",
       "0                         0.000        242018                       0   \n",
       "1                      3090.000            69                   18893   \n",
       "2                     12000.000             7                  107000   \n",
       "3                     27600.000            21                  670611   \n",
       "4                     36000.000            12                  439300   \n",
       "5                     45000.000             6                  329500   \n",
       "6                     59454.545            13                  749524   \n",
       "7                           NaN            19                 1323131   \n",
       "8                     72857.143            23                 1772333   \n",
       "9                     84494.118            26                 2309671   \n",
       "10                    95999.692            68                 6627127   \n",
       "11                   107700.000            91                 9879384   \n",
       "12                   119964.510           544                68381035   \n",
       "13                   125970.909           128                16459689   \n",
       "14                   133907.547           205                28275520   \n",
       "15                   144196.916          1683               248446051   \n",
       "16                   155827.772           391                63501121   \n",
       "17                   166500.285           438                75217333   \n",
       "18                   179357.222          1048               193197919   \n",
       "19                   187129.273           418                80461255   \n",
       "20                   194555.607           676               136221179   \n",
       "21                   453363.918         18472            120236016502   \n",
       "\n",
       "    cic_annual_income_avg  \n",
       "0                   0.000  \n",
       "1                 273.812  \n",
       "2               15285.714  \n",
       "3               31933.857  \n",
       "4               36608.333  \n",
       "5               54916.667  \n",
       "6               57655.692  \n",
       "7               69638.474  \n",
       "8               77057.957  \n",
       "9               88833.500  \n",
       "10              97457.750  \n",
       "11             108564.659  \n",
       "12             125700.432  \n",
       "13             128591.320  \n",
       "14             137929.366  \n",
       "15             147620.945  \n",
       "16             162406.959  \n",
       "17             171729.071  \n",
       "18             184349.159  \n",
       "19             192491.041  \n",
       "20             201510.620  \n",
       "21            6509095.740  "
      ]
     },
     "execution_count": 45,
     "metadata": {},
     "output_type": "execute_result"
    }
   ],
   "source": [
    "# Assuming you have already created resultdf2, resultdf3, and resultdf4\n",
    "\n",
    "# Renaming the columns to have a common key for merging\n",
    "resultdf2 = resultdf2.rename(columns={'AnnualdeclaredIncome_bin': 'income_bin'})\n",
    "resultdf3 = resultdf3.rename(columns={'incomeperSalaryScale_bin': 'income_bin'})\n",
    "resultdf4 = resultdf4.rename(columns={'AnnualIncomecalculated_bin': 'income_bin'})\n",
    "\n",
    "# Merging the dataframes\n",
    "merged_df = pd.merge(resultdf2, resultdf3, on='income_bin', how='outer')\n",
    "merged_df = pd.merge(merged_df, resultdf4, on='income_bin', how='outer')\n",
    "\n",
    "# Display the result\n",
    "merged_df"
   ]
  },
  {
   "cell_type": "code",
   "execution_count": 46,
   "metadata": {},
   "outputs": [
    {
     "name": "stdout",
     "output_type": "stream",
     "text": [
      "<class 'pandas.core.frame.DataFrame'>\n",
      "RangeIndex: 22 entries, 0 to 21\n",
      "Data columns (total 10 columns):\n",
      " #   Column                           Non-Null Count  Dtype \n",
      "---  ------                           --------------  ----- \n",
      " 0   income_bin                       22 non-null     object\n",
      " 1   Self_Declared_user_cnt           22 non-null     int64 \n",
      " 2   AnnualdeclaredIncome             22 non-null     Int64 \n",
      " 3   Self_Declared_Annual_income_Avg  22 non-null     int64 \n",
      " 4   sal_scale_user_cnt               22 non-null     int64 \n",
      " 5   incomeperSalaryScale             22 non-null     int64 \n",
      " 6   sal_scale_annual_income_avg      22 non-null     int64 \n",
      " 7   cic_user_cnt                     22 non-null     int64 \n",
      " 8   AnnualIncomecalculated           22 non-null     int64 \n",
      " 9   cic_annual_income_avg            22 non-null     int64 \n",
      "dtypes: Int64(1), int64(8), object(1)\n",
      "memory usage: 1.9+ KB\n"
     ]
    }
   ],
   "source": [
    "merged_df['sal_scale_user_cnt'] = merged_df['sal_scale_user_cnt'].fillna(0)\n",
    "merged_df['incomeperSalaryScale'] = merged_df['incomeperSalaryScale'].fillna(0)\n",
    "merged_df['Self_Declared_Annual_income_Avg']= merged_df['Self_Declared_Annual_income_Avg'].fillna(0)\n",
    "merged_df['sal_scale_annual_income_avg']= merged_df['sal_scale_annual_income_avg'].fillna(0)\n",
    "merged_df['cic_annual_income_avg'] = merged_df['cic_annual_income_avg'].fillna(0)\n",
    "merged_df['sal_scale_user_cnt'] = merged_df['sal_scale_user_cnt'].astype(int)\n",
    "merged_df['incomeperSalaryScale'] = merged_df['incomeperSalaryScale'].astype(int)\n",
    "merged_df['Self_Declared_Annual_income_Avg']= merged_df['Self_Declared_Annual_income_Avg'].astype(int)\n",
    "merged_df['sal_scale_annual_income_avg']= merged_df['sal_scale_annual_income_avg'].astype(int)\n",
    "merged_df['cic_annual_income_avg'] = merged_df['cic_annual_income_avg'].astype(int)\n",
    "merged_df.info()"
   ]
  },
  {
   "cell_type": "code",
   "execution_count": 47,
   "metadata": {},
   "outputs": [
    {
     "data": {
      "text/html": [
       "<div>\n",
       "<style scoped>\n",
       "    .dataframe tbody tr th:only-of-type {\n",
       "        vertical-align: middle;\n",
       "    }\n",
       "\n",
       "    .dataframe tbody tr th {\n",
       "        vertical-align: top;\n",
       "    }\n",
       "\n",
       "    .dataframe thead th {\n",
       "        text-align: right;\n",
       "    }\n",
       "</style>\n",
       "<table border=\"1\" class=\"dataframe\">\n",
       "  <thead>\n",
       "    <tr style=\"text-align: right;\">\n",
       "      <th></th>\n",
       "      <th>income_bin</th>\n",
       "      <th>Self_Declared_Annual_income_Avg</th>\n",
       "      <th>sal_scale_annual_income_avg</th>\n",
       "      <th>cic_annual_income_avg</th>\n",
       "    </tr>\n",
       "  </thead>\n",
       "  <tbody>\n",
       "    <tr>\n",
       "      <th>0</th>\n",
       "      <td>A. &lt;0</td>\n",
       "      <td>0</td>\n",
       "      <td>0</td>\n",
       "      <td>0</td>\n",
       "    </tr>\n",
       "    <tr>\n",
       "      <th>1</th>\n",
       "      <td>B. 1-10000</td>\n",
       "      <td>1492</td>\n",
       "      <td>3090</td>\n",
       "      <td>273</td>\n",
       "    </tr>\n",
       "    <tr>\n",
       "      <th>2</th>\n",
       "      <td>C. 10001-20000</td>\n",
       "      <td>15657</td>\n",
       "      <td>12000</td>\n",
       "      <td>15285</td>\n",
       "    </tr>\n",
       "    <tr>\n",
       "      <th>3</th>\n",
       "      <td>D. 20001-30000</td>\n",
       "      <td>26015</td>\n",
       "      <td>27600</td>\n",
       "      <td>31933</td>\n",
       "    </tr>\n",
       "    <tr>\n",
       "      <th>4</th>\n",
       "      <td>E. 30001-40000</td>\n",
       "      <td>35817</td>\n",
       "      <td>36000</td>\n",
       "      <td>36608</td>\n",
       "    </tr>\n",
       "    <tr>\n",
       "      <th>5</th>\n",
       "      <td>F. 40001-50000</td>\n",
       "      <td>45988</td>\n",
       "      <td>45000</td>\n",
       "      <td>54916</td>\n",
       "    </tr>\n",
       "    <tr>\n",
       "      <th>6</th>\n",
       "      <td>G. 50001-60000</td>\n",
       "      <td>59715</td>\n",
       "      <td>59454</td>\n",
       "      <td>57655</td>\n",
       "    </tr>\n",
       "    <tr>\n",
       "      <th>7</th>\n",
       "      <td>H. 60001-70000</td>\n",
       "      <td>64479</td>\n",
       "      <td>0</td>\n",
       "      <td>69638</td>\n",
       "    </tr>\n",
       "    <tr>\n",
       "      <th>8</th>\n",
       "      <td>I. 70001-80000</td>\n",
       "      <td>72463</td>\n",
       "      <td>72857</td>\n",
       "      <td>77057</td>\n",
       "    </tr>\n",
       "    <tr>\n",
       "      <th>9</th>\n",
       "      <td>J. 80001-90000</td>\n",
       "      <td>85225</td>\n",
       "      <td>84494</td>\n",
       "      <td>88833</td>\n",
       "    </tr>\n",
       "    <tr>\n",
       "      <th>10</th>\n",
       "      <td>K. 90001-100000</td>\n",
       "      <td>96319</td>\n",
       "      <td>95999</td>\n",
       "      <td>97457</td>\n",
       "    </tr>\n",
       "    <tr>\n",
       "      <th>11</th>\n",
       "      <td>L. 100001-110000</td>\n",
       "      <td>106682</td>\n",
       "      <td>107700</td>\n",
       "      <td>108564</td>\n",
       "    </tr>\n",
       "    <tr>\n",
       "      <th>12</th>\n",
       "      <td>M. 110001-120000</td>\n",
       "      <td>120843</td>\n",
       "      <td>119964</td>\n",
       "      <td>125700</td>\n",
       "    </tr>\n",
       "    <tr>\n",
       "      <th>13</th>\n",
       "      <td>N. 120001-130000</td>\n",
       "      <td>126175</td>\n",
       "      <td>125970</td>\n",
       "      <td>128591</td>\n",
       "    </tr>\n",
       "    <tr>\n",
       "      <th>14</th>\n",
       "      <td>O. 130001-140000</td>\n",
       "      <td>134257</td>\n",
       "      <td>133907</td>\n",
       "      <td>137929</td>\n",
       "    </tr>\n",
       "    <tr>\n",
       "      <th>15</th>\n",
       "      <td>P. 140001-150000</td>\n",
       "      <td>145353</td>\n",
       "      <td>144196</td>\n",
       "      <td>147620</td>\n",
       "    </tr>\n",
       "    <tr>\n",
       "      <th>16</th>\n",
       "      <td>Q. 150001-160000</td>\n",
       "      <td>156620</td>\n",
       "      <td>155827</td>\n",
       "      <td>162406</td>\n",
       "    </tr>\n",
       "    <tr>\n",
       "      <th>17</th>\n",
       "      <td>R. 160001-170000</td>\n",
       "      <td>168409</td>\n",
       "      <td>166500</td>\n",
       "      <td>171729</td>\n",
       "    </tr>\n",
       "    <tr>\n",
       "      <th>18</th>\n",
       "      <td>S. 170001-180000</td>\n",
       "      <td>181930</td>\n",
       "      <td>179357</td>\n",
       "      <td>184349</td>\n",
       "    </tr>\n",
       "    <tr>\n",
       "      <th>19</th>\n",
       "      <td>T. 180001-190000</td>\n",
       "      <td>189549</td>\n",
       "      <td>187129</td>\n",
       "      <td>192491</td>\n",
       "    </tr>\n",
       "    <tr>\n",
       "      <th>20</th>\n",
       "      <td>U. 190001-200000</td>\n",
       "      <td>194653</td>\n",
       "      <td>194555</td>\n",
       "      <td>201510</td>\n",
       "    </tr>\n",
       "    <tr>\n",
       "      <th>21</th>\n",
       "      <td>V. &gt;200000</td>\n",
       "      <td>422576</td>\n",
       "      <td>453363</td>\n",
       "      <td>6509095</td>\n",
       "    </tr>\n",
       "  </tbody>\n",
       "</table>\n",
       "</div>"
      ],
      "text/plain": [
       "          income_bin  Self_Declared_Annual_income_Avg  \\\n",
       "0              A. <0                                0   \n",
       "1         B. 1-10000                             1492   \n",
       "2     C. 10001-20000                            15657   \n",
       "3     D. 20001-30000                            26015   \n",
       "4     E. 30001-40000                            35817   \n",
       "5     F. 40001-50000                            45988   \n",
       "6     G. 50001-60000                            59715   \n",
       "7     H. 60001-70000                            64479   \n",
       "8     I. 70001-80000                            72463   \n",
       "9     J. 80001-90000                            85225   \n",
       "10   K. 90001-100000                            96319   \n",
       "11  L. 100001-110000                           106682   \n",
       "12  M. 110001-120000                           120843   \n",
       "13  N. 120001-130000                           126175   \n",
       "14  O. 130001-140000                           134257   \n",
       "15  P. 140001-150000                           145353   \n",
       "16  Q. 150001-160000                           156620   \n",
       "17  R. 160001-170000                           168409   \n",
       "18  S. 170001-180000                           181930   \n",
       "19  T. 180001-190000                           189549   \n",
       "20  U. 190001-200000                           194653   \n",
       "21        V. >200000                           422576   \n",
       "\n",
       "    sal_scale_annual_income_avg  cic_annual_income_avg  \n",
       "0                             0                      0  \n",
       "1                          3090                    273  \n",
       "2                         12000                  15285  \n",
       "3                         27600                  31933  \n",
       "4                         36000                  36608  \n",
       "5                         45000                  54916  \n",
       "6                         59454                  57655  \n",
       "7                             0                  69638  \n",
       "8                         72857                  77057  \n",
       "9                         84494                  88833  \n",
       "10                        95999                  97457  \n",
       "11                       107700                 108564  \n",
       "12                       119964                 125700  \n",
       "13                       125970                 128591  \n",
       "14                       133907                 137929  \n",
       "15                       144196                 147620  \n",
       "16                       155827                 162406  \n",
       "17                       166500                 171729  \n",
       "18                       179357                 184349  \n",
       "19                       187129                 192491  \n",
       "20                       194555                 201510  \n",
       "21                       453363                6509095  "
      ]
     },
     "execution_count": 47,
     "metadata": {},
     "output_type": "execute_result"
    }
   ],
   "source": [
    "mdf = merged_df[['income_bin', 'Self_Declared_Annual_income_Avg', 'sal_scale_annual_income_avg', 'cic_annual_income_avg']].copy()\n",
    "mdf"
   ]
  },
  {
   "cell_type": "code",
   "execution_count": 50,
   "metadata": {},
   "outputs": [
    {
     "data": {
      "text/html": [
       "<div>\n",
       "<style scoped>\n",
       "    .dataframe tbody tr th:only-of-type {\n",
       "        vertical-align: middle;\n",
       "    }\n",
       "\n",
       "    .dataframe tbody tr th {\n",
       "        vertical-align: top;\n",
       "    }\n",
       "\n",
       "    .dataframe thead th {\n",
       "        text-align: right;\n",
       "    }\n",
       "</style>\n",
       "<table border=\"1\" class=\"dataframe\">\n",
       "  <thead>\n",
       "    <tr style=\"text-align: right;\">\n",
       "      <th></th>\n",
       "      <th>income_bin</th>\n",
       "      <th>Self_Declared_Annual_income_Avg</th>\n",
       "      <th>sal_scale_annual_income_avg</th>\n",
       "      <th>cic_annual_income_avg</th>\n",
       "    </tr>\n",
       "  </thead>\n",
       "  <tbody>\n",
       "    <tr>\n",
       "      <th>1</th>\n",
       "      <td>B. 1-10000</td>\n",
       "      <td>1492</td>\n",
       "      <td>3090</td>\n",
       "      <td>273</td>\n",
       "    </tr>\n",
       "    <tr>\n",
       "      <th>2</th>\n",
       "      <td>C. 10001-20000</td>\n",
       "      <td>15657</td>\n",
       "      <td>12000</td>\n",
       "      <td>15285</td>\n",
       "    </tr>\n",
       "    <tr>\n",
       "      <th>3</th>\n",
       "      <td>D. 20001-30000</td>\n",
       "      <td>26015</td>\n",
       "      <td>27600</td>\n",
       "      <td>31933</td>\n",
       "    </tr>\n",
       "    <tr>\n",
       "      <th>4</th>\n",
       "      <td>E. 30001-40000</td>\n",
       "      <td>35817</td>\n",
       "      <td>36000</td>\n",
       "      <td>36608</td>\n",
       "    </tr>\n",
       "    <tr>\n",
       "      <th>5</th>\n",
       "      <td>F. 40001-50000</td>\n",
       "      <td>45988</td>\n",
       "      <td>45000</td>\n",
       "      <td>54916</td>\n",
       "    </tr>\n",
       "    <tr>\n",
       "      <th>6</th>\n",
       "      <td>G. 50001-60000</td>\n",
       "      <td>59715</td>\n",
       "      <td>59454</td>\n",
       "      <td>57655</td>\n",
       "    </tr>\n",
       "    <tr>\n",
       "      <th>8</th>\n",
       "      <td>I. 70001-80000</td>\n",
       "      <td>72463</td>\n",
       "      <td>72857</td>\n",
       "      <td>77057</td>\n",
       "    </tr>\n",
       "    <tr>\n",
       "      <th>9</th>\n",
       "      <td>J. 80001-90000</td>\n",
       "      <td>85225</td>\n",
       "      <td>84494</td>\n",
       "      <td>88833</td>\n",
       "    </tr>\n",
       "    <tr>\n",
       "      <th>10</th>\n",
       "      <td>K. 90001-100000</td>\n",
       "      <td>96319</td>\n",
       "      <td>95999</td>\n",
       "      <td>97457</td>\n",
       "    </tr>\n",
       "    <tr>\n",
       "      <th>11</th>\n",
       "      <td>L. 100001-110000</td>\n",
       "      <td>106682</td>\n",
       "      <td>107700</td>\n",
       "      <td>108564</td>\n",
       "    </tr>\n",
       "    <tr>\n",
       "      <th>12</th>\n",
       "      <td>M. 110001-120000</td>\n",
       "      <td>120843</td>\n",
       "      <td>119964</td>\n",
       "      <td>125700</td>\n",
       "    </tr>\n",
       "    <tr>\n",
       "      <th>13</th>\n",
       "      <td>N. 120001-130000</td>\n",
       "      <td>126175</td>\n",
       "      <td>125970</td>\n",
       "      <td>128591</td>\n",
       "    </tr>\n",
       "    <tr>\n",
       "      <th>14</th>\n",
       "      <td>O. 130001-140000</td>\n",
       "      <td>134257</td>\n",
       "      <td>133907</td>\n",
       "      <td>137929</td>\n",
       "    </tr>\n",
       "    <tr>\n",
       "      <th>15</th>\n",
       "      <td>P. 140001-150000</td>\n",
       "      <td>145353</td>\n",
       "      <td>144196</td>\n",
       "      <td>147620</td>\n",
       "    </tr>\n",
       "    <tr>\n",
       "      <th>16</th>\n",
       "      <td>Q. 150001-160000</td>\n",
       "      <td>156620</td>\n",
       "      <td>155827</td>\n",
       "      <td>162406</td>\n",
       "    </tr>\n",
       "    <tr>\n",
       "      <th>17</th>\n",
       "      <td>R. 160001-170000</td>\n",
       "      <td>168409</td>\n",
       "      <td>166500</td>\n",
       "      <td>171729</td>\n",
       "    </tr>\n",
       "    <tr>\n",
       "      <th>18</th>\n",
       "      <td>S. 170001-180000</td>\n",
       "      <td>181930</td>\n",
       "      <td>179357</td>\n",
       "      <td>184349</td>\n",
       "    </tr>\n",
       "    <tr>\n",
       "      <th>19</th>\n",
       "      <td>T. 180001-190000</td>\n",
       "      <td>189549</td>\n",
       "      <td>187129</td>\n",
       "      <td>192491</td>\n",
       "    </tr>\n",
       "    <tr>\n",
       "      <th>20</th>\n",
       "      <td>U. 190001-200000</td>\n",
       "      <td>194653</td>\n",
       "      <td>194555</td>\n",
       "      <td>201510</td>\n",
       "    </tr>\n",
       "  </tbody>\n",
       "</table>\n",
       "</div>"
      ],
      "text/plain": [
       "          income_bin  Self_Declared_Annual_income_Avg  \\\n",
       "1         B. 1-10000                             1492   \n",
       "2     C. 10001-20000                            15657   \n",
       "3     D. 20001-30000                            26015   \n",
       "4     E. 30001-40000                            35817   \n",
       "5     F. 40001-50000                            45988   \n",
       "6     G. 50001-60000                            59715   \n",
       "8     I. 70001-80000                            72463   \n",
       "9     J. 80001-90000                            85225   \n",
       "10   K. 90001-100000                            96319   \n",
       "11  L. 100001-110000                           106682   \n",
       "12  M. 110001-120000                           120843   \n",
       "13  N. 120001-130000                           126175   \n",
       "14  O. 130001-140000                           134257   \n",
       "15  P. 140001-150000                           145353   \n",
       "16  Q. 150001-160000                           156620   \n",
       "17  R. 160001-170000                           168409   \n",
       "18  S. 170001-180000                           181930   \n",
       "19  T. 180001-190000                           189549   \n",
       "20  U. 190001-200000                           194653   \n",
       "\n",
       "    sal_scale_annual_income_avg  cic_annual_income_avg  \n",
       "1                          3090                    273  \n",
       "2                         12000                  15285  \n",
       "3                         27600                  31933  \n",
       "4                         36000                  36608  \n",
       "5                         45000                  54916  \n",
       "6                         59454                  57655  \n",
       "8                         72857                  77057  \n",
       "9                         84494                  88833  \n",
       "10                        95999                  97457  \n",
       "11                       107700                 108564  \n",
       "12                       119964                 125700  \n",
       "13                       125970                 128591  \n",
       "14                       133907                 137929  \n",
       "15                       144196                 147620  \n",
       "16                       155827                 162406  \n",
       "17                       166500                 171729  \n",
       "18                       179357                 184349  \n",
       "19                       187129                 192491  \n",
       "20                       194555                 201510  "
      ]
     },
     "execution_count": 50,
     "metadata": {},
     "output_type": "execute_result"
    }
   ],
   "source": [
    "mdf = mdf.drop(mdf[\n",
    "    (mdf['income_bin'] == 0) | \n",
    "    (mdf['Self_Declared_Annual_income_Avg'] == 0) | \n",
    "    (mdf['sal_scale_annual_income_avg'] == 0) |\n",
    "    (mdf['cic_annual_income_avg']==0) |\n",
    "    (mdf['income_bin'] =='V. >200000')\n",
    "].index)\n",
    "mdf"
   ]
  },
  {
   "cell_type": "code",
   "execution_count": 51,
   "metadata": {},
   "outputs": [
    {
     "data": {
      "image/png": "[encoded data removed]",
      "text/plain": [
       "<Figure size 1500x800 with 1 Axes>"
      ]
     },
     "metadata": {},
     "output_type": "display_data"
    }
   ],
   "source": [
    "df_grouped = mdf.groupby('income_bin').agg({\n",
    "    'Self_Declared_Annual_income_Avg': 'sum', \n",
    "    'sal_scale_annual_income_avg': 'sum', \n",
    "    'cic_annual_income_avg':'sum',\n",
    "    })\n",
    "\n",
    "# Set the Seaborn style\n",
    "sns.set_style(\"whitegrid\")\n",
    "sns.set_palette(\"deep\")\n",
    "\n",
    "# Create the figure and axes\n",
    "fig, ax = plt.subplots(figsize=(15, 8))\n",
    "\n",
    "# Create the line plot\n",
    "sns.lineplot(data=df_grouped, markers=True, dashes=False, linewidth=2, ax=ax)\n",
    "\n",
    "# Customize the plot\n",
    "ax.set_xlabel('Income Bins', fontsize=12)\n",
    "ax.set_ylabel('Income', fontsize=12)\n",
    "ax.set_title('Average Salary Amount Self Declared Annual Income vs Income Per Salary Scale Vs CIC Annual Gross Income', fontsize=14, wrap=True)\n",
    "ax.legend(title='Metric', title_fontsize='11', fontsize='10', bbox_to_anchor=(1.05, 1), loc='upper left')\n",
    "\n",
    "# Rotate x-axis labels\n",
    "plt.xticks(rotation=90)\n",
    "\n",
    "# Format y-axis labels with thousand separators\n",
    "ax.yaxis.set_major_formatter(plt.FuncFormatter(lambda x, p: format(int(x), ',')))\n",
    "# ax.yaxis.set_ticks(range(0, 500000, 50000))\n",
    "\n",
    "# Adjust layout to prevent cutting off labels\n",
    "plt.tight_layout()\n",
    "\n",
    "# Display the plot\n",
    "plt.show()"
   ]
  },
  {
   "cell_type": "code",
   "execution_count": null,
   "metadata": {},
   "outputs": [],
   "source": [
    "dfd = df_grouped.reset_index()\n",
    "dfd"
   ]
  },
  {
   "cell_type": "code",
   "execution_count": null,
   "metadata": {},
   "outputs": [],
   "source": [
    "dfd.to_csv(\"SelfDeclaredVsIncomePerSalaryScaleVsCICAnnualGrossIncome.csv\", index = False)"
   ]
  },
  {
   "cell_type": "code",
   "execution_count": 56,
   "metadata": {},
   "outputs": [
    {
     "data": {
      "application/vnd.plotly.v1+json": {
       "config": {
        "plotlyServerURL": "https://plot.ly"
       },
       "data": [
        {
         "hovertemplate": "variable=Self_Declared_Annual_income_Avg<br>income_bin=%{x}<br>value=%{y}<extra></extra>",
         "legendgroup": "Self_Declared_Annual_income_Avg",
         "line": {
          "color": "#636efa",
          "dash": "solid",
          "width": 2
         },
         "marker": {
          "symbol": "circle"
         },
         "mode": "lines",
         "name": "Self_Declared_Annual_income_Avg",
         "orientation": "v",
         "showlegend": true,
         "type": "scatter",
         "x": [
          "B. 1-10000",
          "C. 10001-20000",
          "D. 20001-30000",
          "E. 30001-40000",
          "F. 40001-50000",
          "G. 50001-60000",
          "I. 70001-80000",
          "J. 80001-90000",
          "K. 90001-100000",
          "L. 100001-110000",
          "M. 110001-120000",
          "N. 120001-130000",
          "O. 130001-140000",
          "P. 140001-150000",
          "Q. 150001-160000",
          "R. 160001-170000",
          "S. 170001-180000",
          "T. 180001-190000",
          "U. 190001-200000"
         ],
         "xaxis": "x",
         "y": [
          1492,
          15657,
          26015,
          35817,
          45988,
          59715,
          72463,
          85225,
          96319,
          106682,
          120843,
          126175,
          134257,
          145353,
          156620,
          168409,
          181930,
          189549,
          194653
         ],
         "yaxis": "y"
        },
        {
         "hovertemplate": "variable=sal_scale_annual_income_avg<br>income_bin=%{x}<br>value=%{y}<extra></extra>",
         "legendgroup": "sal_scale_annual_income_avg",
         "line": {
          "color": "#EF553B",
          "dash": "dash",
          "width": 2
         },
         "marker": {
          "symbol": "circle"
         },
         "mode": "lines",
         "name": "sal_scale_annual_income_avg",
         "orientation": "v",
         "showlegend": true,
         "type": "scatter",
         "x": [
          "B. 1-10000",
          "C. 10001-20000",
          "D. 20001-30000",
          "E. 30001-40000",
          "F. 40001-50000",
          "G. 50001-60000",
          "I. 70001-80000",
          "J. 80001-90000",
          "K. 90001-100000",
          "L. 100001-110000",
          "M. 110001-120000",
          "N. 120001-130000",
          "O. 130001-140000",
          "P. 140001-150000",
          "Q. 150001-160000",
          "R. 160001-170000",
          "S. 170001-180000",
          "T. 180001-190000",
          "U. 190001-200000"
         ],
         "xaxis": "x",
         "y": [
          3090,
          12000,
          27600,
          36000,
          45000,
          59454,
          72857,
          84494,
          95999,
          107700,
          119964,
          125970,
          133907,
          144196,
          155827,
          166500,
          179357,
          187129,
          194555
         ],
         "yaxis": "y"
        },
        {
         "hovertemplate": "variable=cic_annual_income_avg<br>income_bin=%{x}<br>value=%{y}<extra></extra>",
         "legendgroup": "cic_annual_income_avg",
         "line": {
          "color": "#00cc96",
          "dash": "dot",
          "width": 2
         },
         "marker": {
          "symbol": "circle"
         },
         "mode": "lines",
         "name": "cic_annual_income_avg",
         "orientation": "v",
         "showlegend": true,
         "type": "scatter",
         "x": [
          "B. 1-10000",
          "C. 10001-20000",
          "D. 20001-30000",
          "E. 30001-40000",
          "F. 40001-50000",
          "G. 50001-60000",
          "I. 70001-80000",
          "J. 80001-90000",
          "K. 90001-100000",
          "L. 100001-110000",
          "M. 110001-120000",
          "N. 120001-130000",
          "O. 130001-140000",
          "P. 140001-150000",
          "Q. 150001-160000",
          "R. 160001-170000",
          "S. 170001-180000",
          "T. 180001-190000",
          "U. 190001-200000"
         ],
         "xaxis": "x",
         "y": [
          273,
          15285,
          31933,
          36608,
          54916,
          57655,
          77057,
          88833,
          97457,
          108564,
          125700,
          128591,
          137929,
          147620,
          162406,
          171729,
          184349,
          192491,
          201510
         ],
         "yaxis": "y"
        }
       ],
       "layout": {
        "height": 800,
        "legend": {
         "title": {
          "text": "variable"
         },
         "tracegroupgap": 0
        },
        "template": {
         "data": {
          "bar": [
           {
            "error_x": {
             "color": "#2a3f5f"
            },
            "error_y": {
             "color": "#2a3f5f"
            },
            "marker": {
             "line": {
              "color": "#E5ECF6",
              "width": 0.5
             },
             "pattern": {
              "fillmode": "overlay",
              "size": 10,
              "solidity": 0.2
             }
            },
            "type": "bar"
           }
          ],
          "barpolar": [
           {
            "marker": {
             "line": {
              "color": "#E5ECF6",
              "width": 0.5
             },
             "pattern": {
              "fillmode": "overlay",
              "size": 10,
              "solidity": 0.2
             }
            },
            "type": "barpolar"
           }
          ],
          "carpet": [
           {
            "aaxis": {
             "endlinecolor": "#2a3f5f",
             "gridcolor": "white",
             "linecolor": "white",
             "minorgridcolor": "white",
             "startlinecolor": "#2a3f5f"
            },
            "baxis": {
             "endlinecolor": "#2a3f5f",
             "gridcolor": "white",
             "linecolor": "white",
             "minorgridcolor": "white",
             "startlinecolor": "#2a3f5f"
            },
            "type": "carpet"
           }
          ],
          "choropleth": [
           {
            "colorbar": {
             "outlinewidth": 0,
             "ticks": ""
            },
            "type": "choropleth"
           }
          ],
          "contour": [
           {
            "colorbar": {
             "outlinewidth": 0,
             "ticks": ""
            },
            "colorscale": [
             [
              0,
              "#0d0887"
             ],
             [
              0.1111111111111111,
              "#46039f"
             ],
             [
              0.2222222222222222,
              "#7201a8"
             ],
             [
              0.3333333333333333,
              "#9c179e"
             ],
             [
              0.4444444444444444,
              "#bd3786"
             ],
             [
              0.5555555555555556,
              "#d8576b"
             ],
             [
              0.6666666666666666,
              "#ed7953"
             ],
             [
              0.7777777777777778,
              "#fb9f3a"
             ],
             [
              0.8888888888888888,
              "#fdca26"
             ],
             [
              1,
              "#f0f921"
             ]
            ],
            "type": "contour"
           }
          ],
          "contourcarpet": [
           {
            "colorbar": {
             "outlinewidth": 0,
             "ticks": ""
            },
            "type": "contourcarpet"
           }
          ],
          "heatmap": [
           {
            "colorbar": {
             "outlinewidth": 0,
             "ticks": ""
            },
            "colorscale": [
             [
              0,
              "#0d0887"
             ],
             [
              0.1111111111111111,
              "#46039f"
             ],
             [
              0.2222222222222222,
              "#7201a8"
             ],
             [
              0.3333333333333333,
              "#9c179e"
             ],
             [
              0.4444444444444444,
              "#bd3786"
             ],
             [
              0.5555555555555556,
              "#d8576b"
             ],
             [
              0.6666666666666666,
              "#ed7953"
             ],
             [
              0.7777777777777778,
              "#fb9f3a"
             ],
             [
              0.8888888888888888,
              "#fdca26"
             ],
             [
              1,
              "#f0f921"
             ]
            ],
            "type": "heatmap"
           }
          ],
          "heatmapgl": [
           {
            "colorbar": {
             "outlinewidth": 0,
             "ticks": ""
            },
            "colorscale": [
             [
              0,
              "#0d0887"
             ],
             [
              0.1111111111111111,
              "#46039f"
             ],
             [
              0.2222222222222222,
              "#7201a8"
             ],
             [
              0.3333333333333333,
              "#9c179e"
             ],
             [
              0.4444444444444444,
              "#bd3786"
             ],
             [
              0.5555555555555556,
              "#d8576b"
             ],
             [
              0.6666666666666666,
              "#ed7953"
             ],
             [
              0.7777777777777778,
              "#fb9f3a"
             ],
             [
              0.8888888888888888,
              "#fdca26"
             ],
             [
              1,
              "#f0f921"
             ]
            ],
            "type": "heatmapgl"
           }
          ],
          "histogram": [
           {
            "marker": {
             "pattern": {
              "fillmode": "overlay",
              "size": 10,
              "solidity": 0.2
             }
            },
            "type": "histogram"
           }
          ],
          "histogram2d": [
           {
            "colorbar": {
             "outlinewidth": 0,
             "ticks": ""
            },
            "colorscale": [
             [
              0,
              "#0d0887"
             ],
             [
              0.1111111111111111,
              "#46039f"
             ],
             [
              0.2222222222222222,
              "#7201a8"
             ],
             [
              0.3333333333333333,
              "#9c179e"
             ],
             [
              0.4444444444444444,
              "#bd3786"
             ],
             [
              0.5555555555555556,
              "#d8576b"
             ],
             [
              0.6666666666666666,
              "#ed7953"
             ],
             [
              0.7777777777777778,
              "#fb9f3a"
             ],
             [
              0.8888888888888888,
              "#fdca26"
             ],
             [
              1,
              "#f0f921"
             ]
            ],
            "type": "histogram2d"
           }
          ],
          "histogram2dcontour": [
           {
            "colorbar": {
             "outlinewidth": 0,
             "ticks": ""
            },
            "colorscale": [
             [
              0,
              "#0d0887"
             ],
             [
              0.1111111111111111,
              "#46039f"
             ],
             [
              0.2222222222222222,
              "#7201a8"
             ],
             [
              0.3333333333333333,
              "#9c179e"
             ],
             [
              0.4444444444444444,
              "#bd3786"
             ],
             [
              0.5555555555555556,
              "#d8576b"
             ],
             [
              0.6666666666666666,
              "#ed7953"
             ],
             [
              0.7777777777777778,
              "#fb9f3a"
             ],
             [
              0.8888888888888888,
              "#fdca26"
             ],
             [
              1,
              "#f0f921"
             ]
            ],
            "type": "histogram2dcontour"
           }
          ],
          "mesh3d": [
           {
            "colorbar": {
             "outlinewidth": 0,
             "ticks": ""
            },
            "type": "mesh3d"
           }
          ],
          "parcoords": [
           {
            "line": {
             "colorbar": {
              "outlinewidth": 0,
              "ticks": ""
             }
            },
            "type": "parcoords"
           }
          ],
          "pie": [
           {
            "automargin": true,
            "type": "pie"
           }
          ],
          "scatter": [
           {
            "fillpattern": {
             "fillmode": "overlay",
             "size": 10,
             "solidity": 0.2
            },
            "type": "scatter"
           }
          ],
          "scatter3d": [
           {
            "line": {
             "colorbar": {
              "outlinewidth": 0,
              "ticks": ""
             }
            },
            "marker": {
             "colorbar": {
              "outlinewidth": 0,
              "ticks": ""
             }
            },
            "type": "scatter3d"
           }
          ],
          "scattercarpet": [
           {
            "marker": {
             "colorbar": {
              "outlinewidth": 0,
              "ticks": ""
             }
            },
            "type": "scattercarpet"
           }
          ],
          "scattergeo": [
           {
            "marker": {
             "colorbar": {
              "outlinewidth": 0,
              "ticks": ""
             }
            },
            "type": "scattergeo"
           }
          ],
          "scattergl": [
           {
            "marker": {
             "colorbar": {
              "outlinewidth": 0,
              "ticks": ""
             }
            },
            "type": "scattergl"
           }
          ],
          "scattermapbox": [
           {
            "marker": {
             "colorbar": {
              "outlinewidth": 0,
              "ticks": ""
             }
            },
            "type": "scattermapbox"
           }
          ],
          "scatterpolar": [
           {
            "marker": {
             "colorbar": {
              "outlinewidth": 0,
              "ticks": ""
             }
            },
            "type": "scatterpolar"
           }
          ],
          "scatterpolargl": [
           {
            "marker": {
             "colorbar": {
              "outlinewidth": 0,
              "ticks": ""
             }
            },
            "type": "scatterpolargl"
           }
          ],
          "scatterternary": [
           {
            "marker": {
             "colorbar": {
              "outlinewidth": 0,
              "ticks": ""
             }
            },
            "type": "scatterternary"
           }
          ],
          "surface": [
           {
            "colorbar": {
             "outlinewidth": 0,
             "ticks": ""
            },
            "colorscale": [
             [
              0,
              "#0d0887"
             ],
             [
              0.1111111111111111,
              "#46039f"
             ],
             [
              0.2222222222222222,
              "#7201a8"
             ],
             [
              0.3333333333333333,
              "#9c179e"
             ],
             [
              0.4444444444444444,
              "#bd3786"
             ],
             [
              0.5555555555555556,
              "#d8576b"
             ],
             [
              0.6666666666666666,
              "#ed7953"
             ],
             [
              0.7777777777777778,
              "#fb9f3a"
             ],
             [
              0.8888888888888888,
              "#fdca26"
             ],
             [
              1,
              "#f0f921"
             ]
            ],
            "type": "surface"
           }
          ],
          "table": [
           {
            "cells": {
             "fill": {
              "color": "#EBF0F8"
             },
             "line": {
              "color": "white"
             }
            },
            "header": {
             "fill": {
              "color": "#C8D4E3"
             },
             "line": {
              "color": "white"
             }
            },
            "type": "table"
           }
          ]
         },
         "layout": {
          "annotationdefaults": {
           "arrowcolor": "#2a3f5f",
           "arrowhead": 0,
           "arrowwidth": 1
          },
          "autotypenumbers": "strict",
          "coloraxis": {
           "colorbar": {
            "outlinewidth": 0,
            "ticks": ""
           }
          },
          "colorscale": {
           "diverging": [
            [
             0,
             "#8e0152"
            ],
            [
             0.1,
             "#c51b7d"
            ],
            [
             0.2,
             "#de77ae"
            ],
            [
             0.3,
             "#f1b6da"
            ],
            [
             0.4,
             "#fde0ef"
            ],
            [
             0.5,
             "#f7f7f7"
            ],
            [
             0.6,
             "#e6f5d0"
            ],
            [
             0.7,
             "#b8e186"
            ],
            [
             0.8,
             "#7fbc41"
            ],
            [
             0.9,
             "#4d9221"
            ],
            [
             1,
             "#276419"
            ]
           ],
           "sequential": [
            [
             0,
             "#0d0887"
            ],
            [
             0.1111111111111111,
             "#46039f"
            ],
            [
             0.2222222222222222,
             "#7201a8"
            ],
            [
             0.3333333333333333,
             "#9c179e"
            ],
            [
             0.4444444444444444,
             "#bd3786"
            ],
            [
             0.5555555555555556,
             "#d8576b"
            ],
            [
             0.6666666666666666,
             "#ed7953"
            ],
            [
             0.7777777777777778,
             "#fb9f3a"
            ],
            [
             0.8888888888888888,
             "#fdca26"
            ],
            [
             1,
             "#f0f921"
            ]
           ],
           "sequentialminus": [
            [
             0,
             "#0d0887"
            ],
            [
             0.1111111111111111,
             "#46039f"
            ],
            [
             0.2222222222222222,
             "#7201a8"
            ],
            [
             0.3333333333333333,
             "#9c179e"
            ],
            [
             0.4444444444444444,
             "#bd3786"
            ],
            [
             0.5555555555555556,
             "#d8576b"
            ],
            [
             0.6666666666666666,
             "#ed7953"
            ],
            [
             0.7777777777777778,
             "#fb9f3a"
            ],
            [
             0.8888888888888888,
             "#fdca26"
            ],
            [
             1,
             "#f0f921"
            ]
           ]
          },
          "colorway": [
           "#636efa",
           "#EF553B",
           "#00cc96",
           "#ab63fa",
           "#FFA15A",
           "#19d3f3",
           "#FF6692",
           "#B6E880",
           "#FF97FF",
           "#FECB52"
          ],
          "font": {
           "color": "#2a3f5f"
          },
          "geo": {
           "bgcolor": "white",
           "lakecolor": "white",
           "landcolor": "#E5ECF6",
           "showlakes": true,
           "showland": true,
           "subunitcolor": "white"
          },
          "hoverlabel": {
           "align": "left"
          },
          "hovermode": "closest",
          "mapbox": {
           "style": "light"
          },
          "paper_bgcolor": "white",
          "plot_bgcolor": "#E5ECF6",
          "polar": {
           "angularaxis": {
            "gridcolor": "white",
            "linecolor": "white",
            "ticks": ""
           },
           "bgcolor": "#E5ECF6",
           "radialaxis": {
            "gridcolor": "white",
            "linecolor": "white",
            "ticks": ""
           }
          },
          "scene": {
           "xaxis": {
            "backgroundcolor": "#E5ECF6",
            "gridcolor": "white",
            "gridwidth": 2,
            "linecolor": "white",
            "showbackground": true,
            "ticks": "",
            "zerolinecolor": "white"
           },
           "yaxis": {
            "backgroundcolor": "#E5ECF6",
            "gridcolor": "white",
            "gridwidth": 2,
            "linecolor": "white",
            "showbackground": true,
            "ticks": "",
            "zerolinecolor": "white"
           },
           "zaxis": {
            "backgroundcolor": "#E5ECF6",
            "gridcolor": "white",
            "gridwidth": 2,
            "linecolor": "white",
            "showbackground": true,
            "ticks": "",
            "zerolinecolor": "white"
           }
          },
          "shapedefaults": {
           "line": {
            "color": "#2a3f5f"
           }
          },
          "ternary": {
           "aaxis": {
            "gridcolor": "white",
            "linecolor": "white",
            "ticks": ""
           },
           "baxis": {
            "gridcolor": "white",
            "linecolor": "white",
            "ticks": ""
           },
           "bgcolor": "#E5ECF6",
           "caxis": {
            "gridcolor": "white",
            "linecolor": "white",
            "ticks": ""
           }
          },
          "title": {
           "x": 0.05
          },
          "xaxis": {
           "automargin": true,
           "gridcolor": "white",
           "linecolor": "white",
           "ticks": "",
           "title": {
            "standoff": 15
           },
           "zerolinecolor": "white",
           "zerolinewidth": 2
          },
          "yaxis": {
           "automargin": true,
           "gridcolor": "white",
           "linecolor": "white",
           "ticks": "",
           "title": {
            "standoff": 15
           },
           "zerolinecolor": "white",
           "zerolinewidth": 2
          }
         }
        },
        "title": {
         "text": "Average Salary Amount Self Declared Annual Income vs Income Per Salary Scale Vs CIC Annual Gross Income"
        },
        "xaxis": {
         "anchor": "y",
         "domain": [
          0,
          1
         ],
         "title": {
          "text": "income_bin"
         }
        },
        "yaxis": {
         "anchor": "x",
         "domain": [
          0,
          1
         ],
         "title": {
          "text": "value"
         }
        }
       }
      }
     },
     "metadata": {},
     "output_type": "display_data"
    }
   ],
   "source": [
    "df_grouped = mdf.groupby('income_bin').agg({\n",
    "    'Self_Declared_Annual_income_Avg': 'sum',\n",
    "    'sal_scale_annual_income_avg': 'sum',\n",
    "    'cic_annual_income_avg': 'sum',\n",
    "})\n",
    "\n",
    "# Create the plot\n",
    "fig = px.line(df_grouped,\n",
    "             x=df_grouped.index,\n",
    "             y=['Self_Declared_Annual_income_Avg', 'sal_scale_annual_income_avg', 'cic_annual_income_avg'],\n",
    "             title='Average Salary Amount Self Declared Annual Income vs Income Per Salary Scale Vs CIC Annual Gross Income',\n",
    "             height=800)  # Set the height of the plot to 800 pixels\n",
    "\n",
    "# Customize line styles and widths\n",
    "dash_styles = ['solid', 'dash', 'dot']\n",
    "\n",
    "for i in range(len(fig['data'])):\n",
    "    fig['data'][i]['line']['width'] = 2\n",
    "    fig['data'][i]['line']['dash'] = dash_styles[i]\n",
    "\n",
    "fig.show()"
   ]
  },
  {
   "cell_type": "code",
   "execution_count": 59,
   "metadata": {},
   "outputs": [
    {
     "data": {
      "text/html": [
       "<div>\n",
       "<style scoped>\n",
       "    .dataframe tbody tr th:only-of-type {\n",
       "        vertical-align: middle;\n",
       "    }\n",
       "\n",
       "    .dataframe tbody tr th {\n",
       "        vertical-align: top;\n",
       "    }\n",
       "\n",
       "    .dataframe thead th {\n",
       "        text-align: right;\n",
       "    }\n",
       "</style>\n",
       "<table border=\"1\" class=\"dataframe\">\n",
       "  <thead>\n",
       "    <tr style=\"text-align: right;\">\n",
       "      <th></th>\n",
       "      <th>income_bin</th>\n",
       "      <th>Self_Declared_user_cnt</th>\n",
       "      <th>AnnualdeclaredIncome</th>\n",
       "      <th>Self_Declared_Annual_income_Avg</th>\n",
       "      <th>sal_scale_user_cnt</th>\n",
       "      <th>incomeperSalaryScale</th>\n",
       "      <th>sal_scale_annual_income_avg</th>\n",
       "      <th>cic_user_cnt</th>\n",
       "      <th>AnnualIncomecalculated</th>\n",
       "      <th>cic_annual_income_avg</th>\n",
       "    </tr>\n",
       "  </thead>\n",
       "  <tbody>\n",
       "    <tr>\n",
       "      <th>0</th>\n",
       "      <td>A. &lt;0</td>\n",
       "      <td>20</td>\n",
       "      <td>0</td>\n",
       "      <td>0.0</td>\n",
       "      <td>15853.0</td>\n",
       "      <td>0.000000e+00</td>\n",
       "      <td>0.000</td>\n",
       "      <td>242018</td>\n",
       "      <td>0</td>\n",
       "      <td>0.000</td>\n",
       "    </tr>\n",
       "    <tr>\n",
       "      <th>1</th>\n",
       "      <td>B. 1-10000</td>\n",
       "      <td>50</td>\n",
       "      <td>74640</td>\n",
       "      <td>1492.8</td>\n",
       "      <td>6.0</td>\n",
       "      <td>1.854000e+04</td>\n",
       "      <td>3090.000</td>\n",
       "      <td>69</td>\n",
       "      <td>18893</td>\n",
       "      <td>273.812</td>\n",
       "    </tr>\n",
       "    <tr>\n",
       "      <th>2</th>\n",
       "      <td>C. 10001-20000</td>\n",
       "      <td>24</td>\n",
       "      <td>375780</td>\n",
       "      <td>15657.5</td>\n",
       "      <td>1.0</td>\n",
       "      <td>1.200000e+04</td>\n",
       "      <td>12000.000</td>\n",
       "      <td>7</td>\n",
       "      <td>107000</td>\n",
       "      <td>15285.714</td>\n",
       "    </tr>\n",
       "    <tr>\n",
       "      <th>3</th>\n",
       "      <td>D. 20001-30000</td>\n",
       "      <td>48</td>\n",
       "      <td>1248720</td>\n",
       "      <td>26015.0</td>\n",
       "      <td>1.0</td>\n",
       "      <td>2.760000e+04</td>\n",
       "      <td>27600.000</td>\n",
       "      <td>21</td>\n",
       "      <td>670611</td>\n",
       "      <td>31933.857</td>\n",
       "    </tr>\n",
       "    <tr>\n",
       "      <th>4</th>\n",
       "      <td>E. 30001-40000</td>\n",
       "      <td>46</td>\n",
       "      <td>1647600</td>\n",
       "      <td>35817.391</td>\n",
       "      <td>4.0</td>\n",
       "      <td>1.440000e+05</td>\n",
       "      <td>36000.000</td>\n",
       "      <td>12</td>\n",
       "      <td>439300</td>\n",
       "      <td>36608.333</td>\n",
       "    </tr>\n",
       "    <tr>\n",
       "      <th>5</th>\n",
       "      <td>F. 40001-50000</td>\n",
       "      <td>47</td>\n",
       "      <td>2161440</td>\n",
       "      <td>45988.085</td>\n",
       "      <td>2.0</td>\n",
       "      <td>9.000000e+04</td>\n",
       "      <td>45000.000</td>\n",
       "      <td>6</td>\n",
       "      <td>329500</td>\n",
       "      <td>54916.667</td>\n",
       "    </tr>\n",
       "    <tr>\n",
       "      <th>6</th>\n",
       "      <td>G. 50001-60000</td>\n",
       "      <td>247</td>\n",
       "      <td>14749740</td>\n",
       "      <td>59715.547</td>\n",
       "      <td>11.0</td>\n",
       "      <td>6.540000e+05</td>\n",
       "      <td>59454.545</td>\n",
       "      <td>13</td>\n",
       "      <td>749524</td>\n",
       "      <td>57655.692</td>\n",
       "    </tr>\n",
       "    <tr>\n",
       "      <th>7</th>\n",
       "      <td>H. 60001-70000</td>\n",
       "      <td>11</td>\n",
       "      <td>709272</td>\n",
       "      <td>64479.273</td>\n",
       "      <td>NaN</td>\n",
       "      <td>NaN</td>\n",
       "      <td>NaN</td>\n",
       "      <td>19</td>\n",
       "      <td>1323131</td>\n",
       "      <td>69638.474</td>\n",
       "    </tr>\n",
       "    <tr>\n",
       "      <th>8</th>\n",
       "      <td>I. 70001-80000</td>\n",
       "      <td>101</td>\n",
       "      <td>7318800</td>\n",
       "      <td>72463.366</td>\n",
       "      <td>7.0</td>\n",
       "      <td>5.100000e+05</td>\n",
       "      <td>72857.143</td>\n",
       "      <td>23</td>\n",
       "      <td>1772333</td>\n",
       "      <td>77057.957</td>\n",
       "    </tr>\n",
       "    <tr>\n",
       "      <th>9</th>\n",
       "      <td>J. 80001-90000</td>\n",
       "      <td>119</td>\n",
       "      <td>10141860</td>\n",
       "      <td>85225.714</td>\n",
       "      <td>17.0</td>\n",
       "      <td>1.436400e+06</td>\n",
       "      <td>84494.118</td>\n",
       "      <td>26</td>\n",
       "      <td>2309671</td>\n",
       "      <td>88833.500</td>\n",
       "    </tr>\n",
       "    <tr>\n",
       "      <th>10</th>\n",
       "      <td>K. 90001-100000</td>\n",
       "      <td>303</td>\n",
       "      <td>29184684</td>\n",
       "      <td>96319.089</td>\n",
       "      <td>39.0</td>\n",
       "      <td>3.743988e+06</td>\n",
       "      <td>95999.692</td>\n",
       "      <td>68</td>\n",
       "      <td>6627127</td>\n",
       "      <td>97457.750</td>\n",
       "    </tr>\n",
       "    <tr>\n",
       "      <th>11</th>\n",
       "      <td>L. 100001-110000</td>\n",
       "      <td>193</td>\n",
       "      <td>20589708</td>\n",
       "      <td>106682.425</td>\n",
       "      <td>24.0</td>\n",
       "      <td>2.584800e+06</td>\n",
       "      <td>107700.000</td>\n",
       "      <td>91</td>\n",
       "      <td>9879384</td>\n",
       "      <td>108564.659</td>\n",
       "    </tr>\n",
       "    <tr>\n",
       "      <th>12</th>\n",
       "      <td>M. 110001-120000</td>\n",
       "      <td>3892</td>\n",
       "      <td>470324016</td>\n",
       "      <td>120843.786</td>\n",
       "      <td>541.0</td>\n",
       "      <td>6.490080e+07</td>\n",
       "      <td>119964.510</td>\n",
       "      <td>544</td>\n",
       "      <td>68381035</td>\n",
       "      <td>125700.432</td>\n",
       "    </tr>\n",
       "    <tr>\n",
       "      <th>13</th>\n",
       "      <td>N. 120001-130000</td>\n",
       "      <td>346</td>\n",
       "      <td>43656648</td>\n",
       "      <td>126175.283</td>\n",
       "      <td>33.0</td>\n",
       "      <td>4.157040e+06</td>\n",
       "      <td>125970.909</td>\n",
       "      <td>128</td>\n",
       "      <td>16459689</td>\n",
       "      <td>128591.320</td>\n",
       "    </tr>\n",
       "    <tr>\n",
       "      <th>14</th>\n",
       "      <td>O. 130001-140000</td>\n",
       "      <td>906</td>\n",
       "      <td>121637100</td>\n",
       "      <td>134257.285</td>\n",
       "      <td>106.0</td>\n",
       "      <td>1.419420e+07</td>\n",
       "      <td>133907.547</td>\n",
       "      <td>205</td>\n",
       "      <td>28275520</td>\n",
       "      <td>137929.366</td>\n",
       "    </tr>\n",
       "    <tr>\n",
       "      <th>15</th>\n",
       "      <td>P. 140001-150000</td>\n",
       "      <td>3814</td>\n",
       "      <td>554377980</td>\n",
       "      <td>145353.429</td>\n",
       "      <td>476.0</td>\n",
       "      <td>6.863773e+07</td>\n",
       "      <td>144196.916</td>\n",
       "      <td>1683</td>\n",
       "      <td>248446051</td>\n",
       "      <td>147620.945</td>\n",
       "    </tr>\n",
       "    <tr>\n",
       "      <th>16</th>\n",
       "      <td>Q. 150001-160000</td>\n",
       "      <td>2177</td>\n",
       "      <td>340962324</td>\n",
       "      <td>156620.268</td>\n",
       "      <td>457.0</td>\n",
       "      <td>7.121329e+07</td>\n",
       "      <td>155827.772</td>\n",
       "      <td>391</td>\n",
       "      <td>63501121</td>\n",
       "      <td>162406.959</td>\n",
       "    </tr>\n",
       "    <tr>\n",
       "      <th>17</th>\n",
       "      <td>R. 160001-170000</td>\n",
       "      <td>2915</td>\n",
       "      <td>490914900</td>\n",
       "      <td>168409.914</td>\n",
       "      <td>253.0</td>\n",
       "      <td>4.212457e+07</td>\n",
       "      <td>166500.285</td>\n",
       "      <td>438</td>\n",
       "      <td>75217333</td>\n",
       "      <td>171729.071</td>\n",
       "    </tr>\n",
       "    <tr>\n",
       "      <th>18</th>\n",
       "      <td>S. 170001-180000</td>\n",
       "      <td>17065</td>\n",
       "      <td>3104646708</td>\n",
       "      <td>181930.66</td>\n",
       "      <td>3387.0</td>\n",
       "      <td>6.074829e+08</td>\n",
       "      <td>179357.222</td>\n",
       "      <td>1048</td>\n",
       "      <td>193197919</td>\n",
       "      <td>184349.159</td>\n",
       "    </tr>\n",
       "    <tr>\n",
       "      <th>19</th>\n",
       "      <td>T. 180001-190000</td>\n",
       "      <td>1099</td>\n",
       "      <td>208315008</td>\n",
       "      <td>189549.598</td>\n",
       "      <td>1141.0</td>\n",
       "      <td>2.135145e+08</td>\n",
       "      <td>187129.273</td>\n",
       "      <td>418</td>\n",
       "      <td>80461255</td>\n",
       "      <td>192491.041</td>\n",
       "    </tr>\n",
       "    <tr>\n",
       "      <th>20</th>\n",
       "      <td>U. 190001-200000</td>\n",
       "      <td>9706</td>\n",
       "      <td>1889306832</td>\n",
       "      <td>194653.496</td>\n",
       "      <td>6257.0</td>\n",
       "      <td>1.217334e+09</td>\n",
       "      <td>194555.607</td>\n",
       "      <td>676</td>\n",
       "      <td>136221179</td>\n",
       "      <td>201510.620</td>\n",
       "    </tr>\n",
       "    <tr>\n",
       "      <th>21</th>\n",
       "      <td>V. &gt;200000</td>\n",
       "      <td>223269</td>\n",
       "      <td>94348315176</td>\n",
       "      <td>422576.87</td>\n",
       "      <td>238839.0</td>\n",
       "      <td>1.082810e+11</td>\n",
       "      <td>453363.918</td>\n",
       "      <td>18472</td>\n",
       "      <td>120236016502</td>\n",
       "      <td>6509095.740</td>\n",
       "    </tr>\n",
       "  </tbody>\n",
       "</table>\n",
       "</div>"
      ],
      "text/plain": [
       "          income_bin  Self_Declared_user_cnt  AnnualdeclaredIncome  \\\n",
       "0              A. <0                      20                     0   \n",
       "1         B. 1-10000                      50                 74640   \n",
       "2     C. 10001-20000                      24                375780   \n",
       "3     D. 20001-30000                      48               1248720   \n",
       "4     E. 30001-40000                      46               1647600   \n",
       "5     F. 40001-50000                      47               2161440   \n",
       "6     G. 50001-60000                     247              14749740   \n",
       "7     H. 60001-70000                      11                709272   \n",
       "8     I. 70001-80000                     101               7318800   \n",
       "9     J. 80001-90000                     119              10141860   \n",
       "10   K. 90001-100000                     303              29184684   \n",
       "11  L. 100001-110000                     193              20589708   \n",
       "12  M. 110001-120000                    3892             470324016   \n",
       "13  N. 120001-130000                     346              43656648   \n",
       "14  O. 130001-140000                     906             121637100   \n",
       "15  P. 140001-150000                    3814             554377980   \n",
       "16  Q. 150001-160000                    2177             340962324   \n",
       "17  R. 160001-170000                    2915             490914900   \n",
       "18  S. 170001-180000                   17065            3104646708   \n",
       "19  T. 180001-190000                    1099             208315008   \n",
       "20  U. 190001-200000                    9706            1889306832   \n",
       "21        V. >200000                  223269           94348315176   \n",
       "\n",
       "    Self_Declared_Annual_income_Avg  sal_scale_user_cnt  incomeperSalaryScale  \\\n",
       "0                               0.0             15853.0          0.000000e+00   \n",
       "1                            1492.8                 6.0          1.854000e+04   \n",
       "2                           15657.5                 1.0          1.200000e+04   \n",
       "3                           26015.0                 1.0          2.760000e+04   \n",
       "4                         35817.391                 4.0          1.440000e+05   \n",
       "5                         45988.085                 2.0          9.000000e+04   \n",
       "6                         59715.547                11.0          6.540000e+05   \n",
       "7                         64479.273                 NaN                   NaN   \n",
       "8                         72463.366                 7.0          5.100000e+05   \n",
       "9                         85225.714                17.0          1.436400e+06   \n",
       "10                        96319.089                39.0          3.743988e+06   \n",
       "11                       106682.425                24.0          2.584800e+06   \n",
       "12                       120843.786               541.0          6.490080e+07   \n",
       "13                       126175.283                33.0          4.157040e+06   \n",
       "14                       134257.285               106.0          1.419420e+07   \n",
       "15                       145353.429               476.0          6.863773e+07   \n",
       "16                       156620.268               457.0          7.121329e+07   \n",
       "17                       168409.914               253.0          4.212457e+07   \n",
       "18                        181930.66              3387.0          6.074829e+08   \n",
       "19                       189549.598              1141.0          2.135145e+08   \n",
       "20                       194653.496              6257.0          1.217334e+09   \n",
       "21                        422576.87            238839.0          1.082810e+11   \n",
       "\n",
       "    sal_scale_annual_income_avg  cic_user_cnt  AnnualIncomecalculated  \\\n",
       "0                         0.000        242018                       0   \n",
       "1                      3090.000            69                   18893   \n",
       "2                     12000.000             7                  107000   \n",
       "3                     27600.000            21                  670611   \n",
       "4                     36000.000            12                  439300   \n",
       "5                     45000.000             6                  329500   \n",
       "6                     59454.545            13                  749524   \n",
       "7                           NaN            19                 1323131   \n",
       "8                     72857.143            23                 1772333   \n",
       "9                     84494.118            26                 2309671   \n",
       "10                    95999.692            68                 6627127   \n",
       "11                   107700.000            91                 9879384   \n",
       "12                   119964.510           544                68381035   \n",
       "13                   125970.909           128                16459689   \n",
       "14                   133907.547           205                28275520   \n",
       "15                   144196.916          1683               248446051   \n",
       "16                   155827.772           391                63501121   \n",
       "17                   166500.285           438                75217333   \n",
       "18                   179357.222          1048               193197919   \n",
       "19                   187129.273           418                80461255   \n",
       "20                   194555.607           676               136221179   \n",
       "21                   453363.918         18472            120236016502   \n",
       "\n",
       "    cic_annual_income_avg  \n",
       "0                   0.000  \n",
       "1                 273.812  \n",
       "2               15285.714  \n",
       "3               31933.857  \n",
       "4               36608.333  \n",
       "5               54916.667  \n",
       "6               57655.692  \n",
       "7               69638.474  \n",
       "8               77057.957  \n",
       "9               88833.500  \n",
       "10              97457.750  \n",
       "11             108564.659  \n",
       "12             125700.432  \n",
       "13             128591.320  \n",
       "14             137929.366  \n",
       "15             147620.945  \n",
       "16             162406.959  \n",
       "17             171729.071  \n",
       "18             184349.159  \n",
       "19             192491.041  \n",
       "20             201510.620  \n",
       "21            6509095.740  "
      ]
     },
     "execution_count": 59,
     "metadata": {},
     "output_type": "execute_result"
    }
   ],
   "source": [
    "# Assuming you have already created resultdf2, resultdf3, and resultdf4\n",
    "\n",
    "# Renaming the columns to have a common key for merging\n",
    "resultdf2 = resultdf2.rename(columns={'AnnualdeclaredIncome_bin': 'income_bin'})\n",
    "resultdf3 = resultdf3.rename(columns={'incomeperSalaryScale_bin': 'income_bin'})\n",
    "resultdf4 = resultdf4.rename(columns={'AnnualIncomecalculated_bin': 'income_bin'})\n",
    "\n",
    "# Merging the dataframes\n",
    "merged_df = pd.merge(resultdf2, resultdf3, on='income_bin', how='outer')\n",
    "merged_df = pd.merge(merged_df, resultdf4, on='income_bin', how='outer')\n",
    "\n",
    "# Display the result\n",
    "merged_df"
   ]
  },
  {
   "cell_type": "code",
   "execution_count": 61,
   "metadata": {},
   "outputs": [
    {
     "data": {
      "text/html": [
       "<div>\n",
       "<style scoped>\n",
       "    .dataframe tbody tr th:only-of-type {\n",
       "        vertical-align: middle;\n",
       "    }\n",
       "\n",
       "    .dataframe tbody tr th {\n",
       "        vertical-align: top;\n",
       "    }\n",
       "\n",
       "    .dataframe thead th {\n",
       "        text-align: right;\n",
       "    }\n",
       "</style>\n",
       "<table border=\"1\" class=\"dataframe\">\n",
       "  <thead>\n",
       "    <tr style=\"text-align: right;\">\n",
       "      <th></th>\n",
       "      <th>income_bin</th>\n",
       "      <th>Self_Declared_user_cnt</th>\n",
       "      <th>sal_scale_user_cnt</th>\n",
       "      <th>cic_user_cnt</th>\n",
       "    </tr>\n",
       "  </thead>\n",
       "  <tbody>\n",
       "    <tr>\n",
       "      <th>0</th>\n",
       "      <td>A. &lt;0</td>\n",
       "      <td>20</td>\n",
       "      <td>15853.0</td>\n",
       "      <td>242018</td>\n",
       "    </tr>\n",
       "    <tr>\n",
       "      <th>1</th>\n",
       "      <td>B. 1-10000</td>\n",
       "      <td>50</td>\n",
       "      <td>6.0</td>\n",
       "      <td>69</td>\n",
       "    </tr>\n",
       "    <tr>\n",
       "      <th>2</th>\n",
       "      <td>C. 10001-20000</td>\n",
       "      <td>24</td>\n",
       "      <td>1.0</td>\n",
       "      <td>7</td>\n",
       "    </tr>\n",
       "    <tr>\n",
       "      <th>3</th>\n",
       "      <td>D. 20001-30000</td>\n",
       "      <td>48</td>\n",
       "      <td>1.0</td>\n",
       "      <td>21</td>\n",
       "    </tr>\n",
       "    <tr>\n",
       "      <th>4</th>\n",
       "      <td>E. 30001-40000</td>\n",
       "      <td>46</td>\n",
       "      <td>4.0</td>\n",
       "      <td>12</td>\n",
       "    </tr>\n",
       "    <tr>\n",
       "      <th>5</th>\n",
       "      <td>F. 40001-50000</td>\n",
       "      <td>47</td>\n",
       "      <td>2.0</td>\n",
       "      <td>6</td>\n",
       "    </tr>\n",
       "    <tr>\n",
       "      <th>6</th>\n",
       "      <td>G. 50001-60000</td>\n",
       "      <td>247</td>\n",
       "      <td>11.0</td>\n",
       "      <td>13</td>\n",
       "    </tr>\n",
       "    <tr>\n",
       "      <th>7</th>\n",
       "      <td>H. 60001-70000</td>\n",
       "      <td>11</td>\n",
       "      <td>NaN</td>\n",
       "      <td>19</td>\n",
       "    </tr>\n",
       "    <tr>\n",
       "      <th>8</th>\n",
       "      <td>I. 70001-80000</td>\n",
       "      <td>101</td>\n",
       "      <td>7.0</td>\n",
       "      <td>23</td>\n",
       "    </tr>\n",
       "    <tr>\n",
       "      <th>9</th>\n",
       "      <td>J. 80001-90000</td>\n",
       "      <td>119</td>\n",
       "      <td>17.0</td>\n",
       "      <td>26</td>\n",
       "    </tr>\n",
       "    <tr>\n",
       "      <th>10</th>\n",
       "      <td>K. 90001-100000</td>\n",
       "      <td>303</td>\n",
       "      <td>39.0</td>\n",
       "      <td>68</td>\n",
       "    </tr>\n",
       "    <tr>\n",
       "      <th>11</th>\n",
       "      <td>L. 100001-110000</td>\n",
       "      <td>193</td>\n",
       "      <td>24.0</td>\n",
       "      <td>91</td>\n",
       "    </tr>\n",
       "    <tr>\n",
       "      <th>12</th>\n",
       "      <td>M. 110001-120000</td>\n",
       "      <td>3892</td>\n",
       "      <td>541.0</td>\n",
       "      <td>544</td>\n",
       "    </tr>\n",
       "    <tr>\n",
       "      <th>13</th>\n",
       "      <td>N. 120001-130000</td>\n",
       "      <td>346</td>\n",
       "      <td>33.0</td>\n",
       "      <td>128</td>\n",
       "    </tr>\n",
       "    <tr>\n",
       "      <th>14</th>\n",
       "      <td>O. 130001-140000</td>\n",
       "      <td>906</td>\n",
       "      <td>106.0</td>\n",
       "      <td>205</td>\n",
       "    </tr>\n",
       "    <tr>\n",
       "      <th>15</th>\n",
       "      <td>P. 140001-150000</td>\n",
       "      <td>3814</td>\n",
       "      <td>476.0</td>\n",
       "      <td>1683</td>\n",
       "    </tr>\n",
       "    <tr>\n",
       "      <th>16</th>\n",
       "      <td>Q. 150001-160000</td>\n",
       "      <td>2177</td>\n",
       "      <td>457.0</td>\n",
       "      <td>391</td>\n",
       "    </tr>\n",
       "    <tr>\n",
       "      <th>17</th>\n",
       "      <td>R. 160001-170000</td>\n",
       "      <td>2915</td>\n",
       "      <td>253.0</td>\n",
       "      <td>438</td>\n",
       "    </tr>\n",
       "    <tr>\n",
       "      <th>18</th>\n",
       "      <td>S. 170001-180000</td>\n",
       "      <td>17065</td>\n",
       "      <td>3387.0</td>\n",
       "      <td>1048</td>\n",
       "    </tr>\n",
       "    <tr>\n",
       "      <th>19</th>\n",
       "      <td>T. 180001-190000</td>\n",
       "      <td>1099</td>\n",
       "      <td>1141.0</td>\n",
       "      <td>418</td>\n",
       "    </tr>\n",
       "    <tr>\n",
       "      <th>20</th>\n",
       "      <td>U. 190001-200000</td>\n",
       "      <td>9706</td>\n",
       "      <td>6257.0</td>\n",
       "      <td>676</td>\n",
       "    </tr>\n",
       "    <tr>\n",
       "      <th>21</th>\n",
       "      <td>V. &gt;200000</td>\n",
       "      <td>223269</td>\n",
       "      <td>238839.0</td>\n",
       "      <td>18472</td>\n",
       "    </tr>\n",
       "  </tbody>\n",
       "</table>\n",
       "</div>"
      ],
      "text/plain": [
       "          income_bin  Self_Declared_user_cnt  sal_scale_user_cnt  cic_user_cnt\n",
       "0              A. <0                      20             15853.0        242018\n",
       "1         B. 1-10000                      50                 6.0            69\n",
       "2     C. 10001-20000                      24                 1.0             7\n",
       "3     D. 20001-30000                      48                 1.0            21\n",
       "4     E. 30001-40000                      46                 4.0            12\n",
       "5     F. 40001-50000                      47                 2.0             6\n",
       "6     G. 50001-60000                     247                11.0            13\n",
       "7     H. 60001-70000                      11                 NaN            19\n",
       "8     I. 70001-80000                     101                 7.0            23\n",
       "9     J. 80001-90000                     119                17.0            26\n",
       "10   K. 90001-100000                     303                39.0            68\n",
       "11  L. 100001-110000                     193                24.0            91\n",
       "12  M. 110001-120000                    3892               541.0           544\n",
       "13  N. 120001-130000                     346                33.0           128\n",
       "14  O. 130001-140000                     906               106.0           205\n",
       "15  P. 140001-150000                    3814               476.0          1683\n",
       "16  Q. 150001-160000                    2177               457.0           391\n",
       "17  R. 160001-170000                    2915               253.0           438\n",
       "18  S. 170001-180000                   17065              3387.0          1048\n",
       "19  T. 180001-190000                    1099              1141.0           418\n",
       "20  U. 190001-200000                    9706              6257.0           676\n",
       "21        V. >200000                  223269            238839.0         18472"
      ]
     },
     "execution_count": 61,
     "metadata": {},
     "output_type": "execute_result"
    }
   ],
   "source": [
    "mdf = merged_df[['income_bin', 'Self_Declared_user_cnt', 'sal_scale_user_cnt', 'cic_user_cnt']].copy()\n",
    "mdf"
   ]
  },
  {
   "cell_type": "code",
   "execution_count": 63,
   "metadata": {},
   "outputs": [
    {
     "data": {
      "text/html": [
       "<div>\n",
       "<style scoped>\n",
       "    .dataframe tbody tr th:only-of-type {\n",
       "        vertical-align: middle;\n",
       "    }\n",
       "\n",
       "    .dataframe tbody tr th {\n",
       "        vertical-align: top;\n",
       "    }\n",
       "\n",
       "    .dataframe thead th {\n",
       "        text-align: right;\n",
       "    }\n",
       "</style>\n",
       "<table border=\"1\" class=\"dataframe\">\n",
       "  <thead>\n",
       "    <tr style=\"text-align: right;\">\n",
       "      <th></th>\n",
       "      <th>income_bin</th>\n",
       "      <th>Self_Declared_user_cnt</th>\n",
       "      <th>sal_scale_user_cnt</th>\n",
       "      <th>cic_user_cnt</th>\n",
       "    </tr>\n",
       "  </thead>\n",
       "  <tbody>\n",
       "    <tr>\n",
       "      <th>1</th>\n",
       "      <td>B. 1-10000</td>\n",
       "      <td>50</td>\n",
       "      <td>6.0</td>\n",
       "      <td>69</td>\n",
       "    </tr>\n",
       "    <tr>\n",
       "      <th>2</th>\n",
       "      <td>C. 10001-20000</td>\n",
       "      <td>24</td>\n",
       "      <td>1.0</td>\n",
       "      <td>7</td>\n",
       "    </tr>\n",
       "    <tr>\n",
       "      <th>3</th>\n",
       "      <td>D. 20001-30000</td>\n",
       "      <td>48</td>\n",
       "      <td>1.0</td>\n",
       "      <td>21</td>\n",
       "    </tr>\n",
       "    <tr>\n",
       "      <th>4</th>\n",
       "      <td>E. 30001-40000</td>\n",
       "      <td>46</td>\n",
       "      <td>4.0</td>\n",
       "      <td>12</td>\n",
       "    </tr>\n",
       "    <tr>\n",
       "      <th>5</th>\n",
       "      <td>F. 40001-50000</td>\n",
       "      <td>47</td>\n",
       "      <td>2.0</td>\n",
       "      <td>6</td>\n",
       "    </tr>\n",
       "    <tr>\n",
       "      <th>6</th>\n",
       "      <td>G. 50001-60000</td>\n",
       "      <td>247</td>\n",
       "      <td>11.0</td>\n",
       "      <td>13</td>\n",
       "    </tr>\n",
       "    <tr>\n",
       "      <th>7</th>\n",
       "      <td>H. 60001-70000</td>\n",
       "      <td>11</td>\n",
       "      <td>NaN</td>\n",
       "      <td>19</td>\n",
       "    </tr>\n",
       "    <tr>\n",
       "      <th>8</th>\n",
       "      <td>I. 70001-80000</td>\n",
       "      <td>101</td>\n",
       "      <td>7.0</td>\n",
       "      <td>23</td>\n",
       "    </tr>\n",
       "    <tr>\n",
       "      <th>9</th>\n",
       "      <td>J. 80001-90000</td>\n",
       "      <td>119</td>\n",
       "      <td>17.0</td>\n",
       "      <td>26</td>\n",
       "    </tr>\n",
       "    <tr>\n",
       "      <th>10</th>\n",
       "      <td>K. 90001-100000</td>\n",
       "      <td>303</td>\n",
       "      <td>39.0</td>\n",
       "      <td>68</td>\n",
       "    </tr>\n",
       "    <tr>\n",
       "      <th>11</th>\n",
       "      <td>L. 100001-110000</td>\n",
       "      <td>193</td>\n",
       "      <td>24.0</td>\n",
       "      <td>91</td>\n",
       "    </tr>\n",
       "    <tr>\n",
       "      <th>12</th>\n",
       "      <td>M. 110001-120000</td>\n",
       "      <td>3892</td>\n",
       "      <td>541.0</td>\n",
       "      <td>544</td>\n",
       "    </tr>\n",
       "    <tr>\n",
       "      <th>13</th>\n",
       "      <td>N. 120001-130000</td>\n",
       "      <td>346</td>\n",
       "      <td>33.0</td>\n",
       "      <td>128</td>\n",
       "    </tr>\n",
       "    <tr>\n",
       "      <th>14</th>\n",
       "      <td>O. 130001-140000</td>\n",
       "      <td>906</td>\n",
       "      <td>106.0</td>\n",
       "      <td>205</td>\n",
       "    </tr>\n",
       "    <tr>\n",
       "      <th>15</th>\n",
       "      <td>P. 140001-150000</td>\n",
       "      <td>3814</td>\n",
       "      <td>476.0</td>\n",
       "      <td>1683</td>\n",
       "    </tr>\n",
       "    <tr>\n",
       "      <th>16</th>\n",
       "      <td>Q. 150001-160000</td>\n",
       "      <td>2177</td>\n",
       "      <td>457.0</td>\n",
       "      <td>391</td>\n",
       "    </tr>\n",
       "    <tr>\n",
       "      <th>17</th>\n",
       "      <td>R. 160001-170000</td>\n",
       "      <td>2915</td>\n",
       "      <td>253.0</td>\n",
       "      <td>438</td>\n",
       "    </tr>\n",
       "    <tr>\n",
       "      <th>18</th>\n",
       "      <td>S. 170001-180000</td>\n",
       "      <td>17065</td>\n",
       "      <td>3387.0</td>\n",
       "      <td>1048</td>\n",
       "    </tr>\n",
       "    <tr>\n",
       "      <th>19</th>\n",
       "      <td>T. 180001-190000</td>\n",
       "      <td>1099</td>\n",
       "      <td>1141.0</td>\n",
       "      <td>418</td>\n",
       "    </tr>\n",
       "    <tr>\n",
       "      <th>20</th>\n",
       "      <td>U. 190001-200000</td>\n",
       "      <td>9706</td>\n",
       "      <td>6257.0</td>\n",
       "      <td>676</td>\n",
       "    </tr>\n",
       "  </tbody>\n",
       "</table>\n",
       "</div>"
      ],
      "text/plain": [
       "          income_bin  Self_Declared_user_cnt  sal_scale_user_cnt  cic_user_cnt\n",
       "1         B. 1-10000                      50                 6.0            69\n",
       "2     C. 10001-20000                      24                 1.0             7\n",
       "3     D. 20001-30000                      48                 1.0            21\n",
       "4     E. 30001-40000                      46                 4.0            12\n",
       "5     F. 40001-50000                      47                 2.0             6\n",
       "6     G. 50001-60000                     247                11.0            13\n",
       "7     H. 60001-70000                      11                 NaN            19\n",
       "8     I. 70001-80000                     101                 7.0            23\n",
       "9     J. 80001-90000                     119                17.0            26\n",
       "10   K. 90001-100000                     303                39.0            68\n",
       "11  L. 100001-110000                     193                24.0            91\n",
       "12  M. 110001-120000                    3892               541.0           544\n",
       "13  N. 120001-130000                     346                33.0           128\n",
       "14  O. 130001-140000                     906               106.0           205\n",
       "15  P. 140001-150000                    3814               476.0          1683\n",
       "16  Q. 150001-160000                    2177               457.0           391\n",
       "17  R. 160001-170000                    2915               253.0           438\n",
       "18  S. 170001-180000                   17065              3387.0          1048\n",
       "19  T. 180001-190000                    1099              1141.0           418\n",
       "20  U. 190001-200000                    9706              6257.0           676"
      ]
     },
     "execution_count": 63,
     "metadata": {},
     "output_type": "execute_result"
    }
   ],
   "source": [
    "mdf = mdf.drop(mdf[\n",
    "    (mdf['income_bin'] == 0) | \n",
    "    (mdf['Self_Declared_user_cnt'] == 0) | \n",
    "    (mdf['sal_scale_user_cnt'] == 0) |\n",
    "    (mdf['cic_user_cnt']==0) |\n",
    "    (mdf['income_bin'] =='V. >200000') |\n",
    "    (mdf['income_bin'] =='A. <0')\n",
    "].index)\n",
    "mdf"
   ]
  },
  {
   "cell_type": "code",
   "execution_count": 64,
   "metadata": {},
   "outputs": [
    {
     "data": {
      "application/vnd.plotly.v1+json": {
       "config": {
        "plotlyServerURL": "https://plot.ly"
       },
       "data": [
        {
         "hovertemplate": "variable=Self_Declared_user_cnt<br>income_bin=%{x}<br>value=%{y}<extra></extra>",
         "legendgroup": "Self_Declared_user_cnt",
         "line": {
          "color": "#636efa",
          "dash": "solid",
          "width": 2
         },
         "marker": {
          "symbol": "circle"
         },
         "mode": "lines",
         "name": "Self_Declared_user_cnt",
         "orientation": "v",
         "showlegend": true,
         "type": "scatter",
         "x": [
          "B. 1-10000",
          "C. 10001-20000",
          "D. 20001-30000",
          "E. 30001-40000",
          "F. 40001-50000",
          "G. 50001-60000",
          "H. 60001-70000",
          "I. 70001-80000",
          "J. 80001-90000",
          "K. 90001-100000",
          "L. 100001-110000",
          "M. 110001-120000",
          "N. 120001-130000",
          "O. 130001-140000",
          "P. 140001-150000",
          "Q. 150001-160000",
          "R. 160001-170000",
          "S. 170001-180000",
          "T. 180001-190000",
          "U. 190001-200000"
         ],
         "xaxis": "x",
         "y": [
          50,
          24,
          48,
          46,
          47,
          247,
          11,
          101,
          119,
          303,
          193,
          3892,
          346,
          906,
          3814,
          2177,
          2915,
          17065,
          1099,
          9706
         ],
         "yaxis": "y"
        },
        {
         "hovertemplate": "variable=sal_scale_user_cnt<br>income_bin=%{x}<br>value=%{y}<extra></extra>",
         "legendgroup": "sal_scale_user_cnt",
         "line": {
          "color": "#EF553B",
          "dash": "dash",
          "width": 2
         },
         "marker": {
          "symbol": "circle"
         },
         "mode": "lines",
         "name": "sal_scale_user_cnt",
         "orientation": "v",
         "showlegend": true,
         "type": "scatter",
         "x": [
          "B. 1-10000",
          "C. 10001-20000",
          "D. 20001-30000",
          "E. 30001-40000",
          "F. 40001-50000",
          "G. 50001-60000",
          "H. 60001-70000",
          "I. 70001-80000",
          "J. 80001-90000",
          "K. 90001-100000",
          "L. 100001-110000",
          "M. 110001-120000",
          "N. 120001-130000",
          "O. 130001-140000",
          "P. 140001-150000",
          "Q. 150001-160000",
          "R. 160001-170000",
          "S. 170001-180000",
          "T. 180001-190000",
          "U. 190001-200000"
         ],
         "xaxis": "x",
         "y": [
          6,
          1,
          1,
          4,
          2,
          11,
          null,
          7,
          17,
          39,
          24,
          541,
          33,
          106,
          476,
          457,
          253,
          3387,
          1141,
          6257
         ],
         "yaxis": "y"
        },
        {
         "hovertemplate": "variable=cic_user_cnt<br>income_bin=%{x}<br>value=%{y}<extra></extra>",
         "legendgroup": "cic_user_cnt",
         "line": {
          "color": "#00cc96",
          "dash": "dot",
          "width": 2
         },
         "marker": {
          "symbol": "circle"
         },
         "mode": "lines",
         "name": "cic_user_cnt",
         "orientation": "v",
         "showlegend": true,
         "type": "scatter",
         "x": [
          "B. 1-10000",
          "C. 10001-20000",
          "D. 20001-30000",
          "E. 30001-40000",
          "F. 40001-50000",
          "G. 50001-60000",
          "H. 60001-70000",
          "I. 70001-80000",
          "J. 80001-90000",
          "K. 90001-100000",
          "L. 100001-110000",
          "M. 110001-120000",
          "N. 120001-130000",
          "O. 130001-140000",
          "P. 140001-150000",
          "Q. 150001-160000",
          "R. 160001-170000",
          "S. 170001-180000",
          "T. 180001-190000",
          "U. 190001-200000"
         ],
         "xaxis": "x",
         "y": [
          69,
          7,
          21,
          12,
          6,
          13,
          19,
          23,
          26,
          68,
          91,
          544,
          128,
          205,
          1683,
          391,
          438,
          1048,
          418,
          676
         ],
         "yaxis": "y"
        }
       ],
       "layout": {
        "height": 800,
        "legend": {
         "title": {
          "text": "variable"
         },
         "tracegroupgap": 0
        },
        "template": {
         "data": {
          "bar": [
           {
            "error_x": {
             "color": "#2a3f5f"
            },
            "error_y": {
             "color": "#2a3f5f"
            },
            "marker": {
             "line": {
              "color": "#E5ECF6",
              "width": 0.5
             },
             "pattern": {
              "fillmode": "overlay",
              "size": 10,
              "solidity": 0.2
             }
            },
            "type": "bar"
           }
          ],
          "barpolar": [
           {
            "marker": {
             "line": {
              "color": "#E5ECF6",
              "width": 0.5
             },
             "pattern": {
              "fillmode": "overlay",
              "size": 10,
              "solidity": 0.2
             }
            },
            "type": "barpolar"
           }
          ],
          "carpet": [
           {
            "aaxis": {
             "endlinecolor": "#2a3f5f",
             "gridcolor": "white",
             "linecolor": "white",
             "minorgridcolor": "white",
             "startlinecolor": "#2a3f5f"
            },
            "baxis": {
             "endlinecolor": "#2a3f5f",
             "gridcolor": "white",
             "linecolor": "white",
             "minorgridcolor": "white",
             "startlinecolor": "#2a3f5f"
            },
            "type": "carpet"
           }
          ],
          "choropleth": [
           {
            "colorbar": {
             "outlinewidth": 0,
             "ticks": ""
            },
            "type": "choropleth"
           }
          ],
          "contour": [
           {
            "colorbar": {
             "outlinewidth": 0,
             "ticks": ""
            },
            "colorscale": [
             [
              0,
              "#0d0887"
             ],
             [
              0.1111111111111111,
              "#46039f"
             ],
             [
              0.2222222222222222,
              "#7201a8"
             ],
             [
              0.3333333333333333,
              "#9c179e"
             ],
             [
              0.4444444444444444,
              "#bd3786"
             ],
             [
              0.5555555555555556,
              "#d8576b"
             ],
             [
              0.6666666666666666,
              "#ed7953"
             ],
             [
              0.7777777777777778,
              "#fb9f3a"
             ],
             [
              0.8888888888888888,
              "#fdca26"
             ],
             [
              1,
              "#f0f921"
             ]
            ],
            "type": "contour"
           }
          ],
          "contourcarpet": [
           {
            "colorbar": {
             "outlinewidth": 0,
             "ticks": ""
            },
            "type": "contourcarpet"
           }
          ],
          "heatmap": [
           {
            "colorbar": {
             "outlinewidth": 0,
             "ticks": ""
            },
            "colorscale": [
             [
              0,
              "#0d0887"
             ],
             [
              0.1111111111111111,
              "#46039f"
             ],
             [
              0.2222222222222222,
              "#7201a8"
             ],
             [
              0.3333333333333333,
              "#9c179e"
             ],
             [
              0.4444444444444444,
              "#bd3786"
             ],
             [
              0.5555555555555556,
              "#d8576b"
             ],
             [
              0.6666666666666666,
              "#ed7953"
             ],
             [
              0.7777777777777778,
              "#fb9f3a"
             ],
             [
              0.8888888888888888,
              "#fdca26"
             ],
             [
              1,
              "#f0f921"
             ]
            ],
            "type": "heatmap"
           }
          ],
          "heatmapgl": [
           {
            "colorbar": {
             "outlinewidth": 0,
             "ticks": ""
            },
            "colorscale": [
             [
              0,
              "#0d0887"
             ],
             [
              0.1111111111111111,
              "#46039f"
             ],
             [
              0.2222222222222222,
              "#7201a8"
             ],
             [
              0.3333333333333333,
              "#9c179e"
             ],
             [
              0.4444444444444444,
              "#bd3786"
             ],
             [
              0.5555555555555556,
              "#d8576b"
             ],
             [
              0.6666666666666666,
              "#ed7953"
             ],
             [
              0.7777777777777778,
              "#fb9f3a"
             ],
             [
              0.8888888888888888,
              "#fdca26"
             ],
             [
              1,
              "#f0f921"
             ]
            ],
            "type": "heatmapgl"
           }
          ],
          "histogram": [
           {
            "marker": {
             "pattern": {
              "fillmode": "overlay",
              "size": 10,
              "solidity": 0.2
             }
            },
            "type": "histogram"
           }
          ],
          "histogram2d": [
           {
            "colorbar": {
             "outlinewidth": 0,
             "ticks": ""
            },
            "colorscale": [
             [
              0,
              "#0d0887"
             ],
             [
              0.1111111111111111,
              "#46039f"
             ],
             [
              0.2222222222222222,
              "#7201a8"
             ],
             [
              0.3333333333333333,
              "#9c179e"
             ],
             [
              0.4444444444444444,
              "#bd3786"
             ],
             [
              0.5555555555555556,
              "#d8576b"
             ],
             [
              0.6666666666666666,
              "#ed7953"
             ],
             [
              0.7777777777777778,
              "#fb9f3a"
             ],
             [
              0.8888888888888888,
              "#fdca26"
             ],
             [
              1,
              "#f0f921"
             ]
            ],
            "type": "histogram2d"
           }
          ],
          "histogram2dcontour": [
           {
            "colorbar": {
             "outlinewidth": 0,
             "ticks": ""
            },
            "colorscale": [
             [
              0,
              "#0d0887"
             ],
             [
              0.1111111111111111,
              "#46039f"
             ],
             [
              0.2222222222222222,
              "#7201a8"
             ],
             [
              0.3333333333333333,
              "#9c179e"
             ],
             [
              0.4444444444444444,
              "#bd3786"
             ],
             [
              0.5555555555555556,
              "#d8576b"
             ],
             [
              0.6666666666666666,
              "#ed7953"
             ],
             [
              0.7777777777777778,
              "#fb9f3a"
             ],
             [
              0.8888888888888888,
              "#fdca26"
             ],
             [
              1,
              "#f0f921"
             ]
            ],
            "type": "histogram2dcontour"
           }
          ],
          "mesh3d": [
           {
            "colorbar": {
             "outlinewidth": 0,
             "ticks": ""
            },
            "type": "mesh3d"
           }
          ],
          "parcoords": [
           {
            "line": {
             "colorbar": {
              "outlinewidth": 0,
              "ticks": ""
             }
            },
            "type": "parcoords"
           }
          ],
          "pie": [
           {
            "automargin": true,
            "type": "pie"
           }
          ],
          "scatter": [
           {
            "fillpattern": {
             "fillmode": "overlay",
             "size": 10,
             "solidity": 0.2
            },
            "type": "scatter"
           }
          ],
          "scatter3d": [
           {
            "line": {
             "colorbar": {
              "outlinewidth": 0,
              "ticks": ""
             }
            },
            "marker": {
             "colorbar": {
              "outlinewidth": 0,
              "ticks": ""
             }
            },
            "type": "scatter3d"
           }
          ],
          "scattercarpet": [
           {
            "marker": {
             "colorbar": {
              "outlinewidth": 0,
              "ticks": ""
             }
            },
            "type": "scattercarpet"
           }
          ],
          "scattergeo": [
           {
            "marker": {
             "colorbar": {
              "outlinewidth": 0,
              "ticks": ""
             }
            },
            "type": "scattergeo"
           }
          ],
          "scattergl": [
           {
            "marker": {
             "colorbar": {
              "outlinewidth": 0,
              "ticks": ""
             }
            },
            "type": "scattergl"
           }
          ],
          "scattermapbox": [
           {
            "marker": {
             "colorbar": {
              "outlinewidth": 0,
              "ticks": ""
             }
            },
            "type": "scattermapbox"
           }
          ],
          "scatterpolar": [
           {
            "marker": {
             "colorbar": {
              "outlinewidth": 0,
              "ticks": ""
             }
            },
            "type": "scatterpolar"
           }
          ],
          "scatterpolargl": [
           {
            "marker": {
             "colorbar": {
              "outlinewidth": 0,
              "ticks": ""
             }
            },
            "type": "scatterpolargl"
           }
          ],
          "scatterternary": [
           {
            "marker": {
             "colorbar": {
              "outlinewidth": 0,
              "ticks": ""
             }
            },
            "type": "scatterternary"
           }
          ],
          "surface": [
           {
            "colorbar": {
             "outlinewidth": 0,
             "ticks": ""
            },
            "colorscale": [
             [
              0,
              "#0d0887"
             ],
             [
              0.1111111111111111,
              "#46039f"
             ],
             [
              0.2222222222222222,
              "#7201a8"
             ],
             [
              0.3333333333333333,
              "#9c179e"
             ],
             [
              0.4444444444444444,
              "#bd3786"
             ],
             [
              0.5555555555555556,
              "#d8576b"
             ],
             [
              0.6666666666666666,
              "#ed7953"
             ],
             [
              0.7777777777777778,
              "#fb9f3a"
             ],
             [
              0.8888888888888888,
              "#fdca26"
             ],
             [
              1,
              "#f0f921"
             ]
            ],
            "type": "surface"
           }
          ],
          "table": [
           {
            "cells": {
             "fill": {
              "color": "#EBF0F8"
             },
             "line": {
              "color": "white"
             }
            },
            "header": {
             "fill": {
              "color": "#C8D4E3"
             },
             "line": {
              "color": "white"
             }
            },
            "type": "table"
           }
          ]
         },
         "layout": {
          "annotationdefaults": {
           "arrowcolor": "#2a3f5f",
           "arrowhead": 0,
           "arrowwidth": 1
          },
          "autotypenumbers": "strict",
          "coloraxis": {
           "colorbar": {
            "outlinewidth": 0,
            "ticks": ""
           }
          },
          "colorscale": {
           "diverging": [
            [
             0,
             "#8e0152"
            ],
            [
             0.1,
             "#c51b7d"
            ],
            [
             0.2,
             "#de77ae"
            ],
            [
             0.3,
             "#f1b6da"
            ],
            [
             0.4,
             "#fde0ef"
            ],
            [
             0.5,
             "#f7f7f7"
            ],
            [
             0.6,
             "#e6f5d0"
            ],
            [
             0.7,
             "#b8e186"
            ],
            [
             0.8,
             "#7fbc41"
            ],
            [
             0.9,
             "#4d9221"
            ],
            [
             1,
             "#276419"
            ]
           ],
           "sequential": [
            [
             0,
             "#0d0887"
            ],
            [
             0.1111111111111111,
             "#46039f"
            ],
            [
             0.2222222222222222,
             "#7201a8"
            ],
            [
             0.3333333333333333,
             "#9c179e"
            ],
            [
             0.4444444444444444,
             "#bd3786"
            ],
            [
             0.5555555555555556,
             "#d8576b"
            ],
            [
             0.6666666666666666,
             "#ed7953"
            ],
            [
             0.7777777777777778,
             "#fb9f3a"
            ],
            [
             0.8888888888888888,
             "#fdca26"
            ],
            [
             1,
             "#f0f921"
            ]
           ],
           "sequentialminus": [
            [
             0,
             "#0d0887"
            ],
            [
             0.1111111111111111,
             "#46039f"
            ],
            [
             0.2222222222222222,
             "#7201a8"
            ],
            [
             0.3333333333333333,
             "#9c179e"
            ],
            [
             0.4444444444444444,
             "#bd3786"
            ],
            [
             0.5555555555555556,
             "#d8576b"
            ],
            [
             0.6666666666666666,
             "#ed7953"
            ],
            [
             0.7777777777777778,
             "#fb9f3a"
            ],
            [
             0.8888888888888888,
             "#fdca26"
            ],
            [
             1,
             "#f0f921"
            ]
           ]
          },
          "colorway": [
           "#636efa",
           "#EF553B",
           "#00cc96",
           "#ab63fa",
           "#FFA15A",
           "#19d3f3",
           "#FF6692",
           "#B6E880",
           "#FF97FF",
           "#FECB52"
          ],
          "font": {
           "color": "#2a3f5f"
          },
          "geo": {
           "bgcolor": "white",
           "lakecolor": "white",
           "landcolor": "#E5ECF6",
           "showlakes": true,
           "showland": true,
           "subunitcolor": "white"
          },
          "hoverlabel": {
           "align": "left"
          },
          "hovermode": "closest",
          "mapbox": {
           "style": "light"
          },
          "paper_bgcolor": "white",
          "plot_bgcolor": "#E5ECF6",
          "polar": {
           "angularaxis": {
            "gridcolor": "white",
            "linecolor": "white",
            "ticks": ""
           },
           "bgcolor": "#E5ECF6",
           "radialaxis": {
            "gridcolor": "white",
            "linecolor": "white",
            "ticks": ""
           }
          },
          "scene": {
           "xaxis": {
            "backgroundcolor": "#E5ECF6",
            "gridcolor": "white",
            "gridwidth": 2,
            "linecolor": "white",
            "showbackground": true,
            "ticks": "",
            "zerolinecolor": "white"
           },
           "yaxis": {
            "backgroundcolor": "#E5ECF6",
            "gridcolor": "white",
            "gridwidth": 2,
            "linecolor": "white",
            "showbackground": true,
            "ticks": "",
            "zerolinecolor": "white"
           },
           "zaxis": {
            "backgroundcolor": "#E5ECF6",
            "gridcolor": "white",
            "gridwidth": 2,
            "linecolor": "white",
            "showbackground": true,
            "ticks": "",
            "zerolinecolor": "white"
           }
          },
          "shapedefaults": {
           "line": {
            "color": "#2a3f5f"
           }
          },
          "ternary": {
           "aaxis": {
            "gridcolor": "white",
            "linecolor": "white",
            "ticks": ""
           },
           "baxis": {
            "gridcolor": "white",
            "linecolor": "white",
            "ticks": ""
           },
           "bgcolor": "#E5ECF6",
           "caxis": {
            "gridcolor": "white",
            "linecolor": "white",
            "ticks": ""
           }
          },
          "title": {
           "x": 0.05
          },
          "xaxis": {
           "automargin": true,
           "gridcolor": "white",
           "linecolor": "white",
           "ticks": "",
           "title": {
            "standoff": 15
           },
           "zerolinecolor": "white",
           "zerolinewidth": 2
          },
          "yaxis": {
           "automargin": true,
           "gridcolor": "white",
           "linecolor": "white",
           "ticks": "",
           "title": {
            "standoff": 15
           },
           "zerolinecolor": "white",
           "zerolinewidth": 2
          }
         }
        },
        "title": {
         "text": "Count of Unique Customer for  Self Declared Annual Income vs Income Per Salary Scale vs CIC Gross Annual Income by Income Bins"
        },
        "xaxis": {
         "anchor": "y",
         "domain": [
          0,
          1
         ],
         "title": {
          "text": "income_bin"
         }
        },
        "yaxis": {
         "anchor": "x",
         "domain": [
          0,
          1
         ],
         "title": {
          "text": "value"
         }
        }
       }
      }
     },
     "metadata": {},
     "output_type": "display_data"
    }
   ],
   "source": [
    "df_grouped = mdf.groupby('income_bin').agg({\n",
    "    'Self_Declared_user_cnt': 'max',\n",
    "    'sal_scale_user_cnt': 'max',\n",
    "    'cic_user_cnt': 'max',\n",
    "})\n",
    "\n",
    "# Create the plot\n",
    "fig = px.line(df_grouped,\n",
    "             x=df_grouped.index,\n",
    "             y=['Self_Declared_user_cnt', 'sal_scale_user_cnt', 'cic_user_cnt'],\n",
    "             title='Count of Unique Customer for  Self Declared Annual Income vs Income Per Salary Scale vs CIC Gross Annual Income by Income Bins',\n",
    "             height=800)  # Set the height of the plot to 800 pixels\n",
    "\n",
    "# Customize line styles and widths\n",
    "dash_styles = ['solid', 'dash', 'dot']\n",
    "\n",
    "for i in range(len(fig['data'])):\n",
    "    fig['data'][i]['line']['width'] = 2\n",
    "    fig['data'][i]['line']['dash'] = dash_styles[i]\n",
    "\n",
    "fig.show()"
   ]
  },
  {
   "cell_type": "code",
   "execution_count": null,
   "metadata": {},
   "outputs": [],
   "source": []
  }
 ],
 "metadata": {
  "kernelspec": {
   "display_name": "Python 3",
   "language": "python",
   "name": "python3"
  },
  "language_info": {
   "codemirror_mode": {
    "name": "ipython",
    "version": 3
   },
   "file_extension": ".py",
   "mimetype": "text/x-python",
   "name": "python",
   "nbconvert_exporter": "python",
   "pygments_lexer": "ipython3",
   "version": "3.9.19"
  }
 },
 "nbformat": 4,
 "nbformat_minor": 2
}
