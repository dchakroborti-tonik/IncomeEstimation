{
 "cells": [
  {
   "cell_type": "markdown",
   "metadata": {},
   "source": [
    "DC, for the Employment data analysis Please do the Data preparatin as following:\n",
    " \n",
    "Get the following fields from the CICdata\n",
    " \n",
    "customer_id, TIN, run_date, occupationdesc, occupationstatusdesc, TradeName, employment_duration_in_days (DateHiredTo or run_date - DateHiredFrom), PSICdesc, AnnualMonthlyIndicator, Currency, GrossIncome, max_sanctioned_amt_24m, max_creditcard_limit_24m, max_financed_amt_24m, tot_granted_contracts_cnt_24m, tot_granted_contracts_amt_12m, max_sanctioned_amt_12m, Max_CreditCard_limit_12m, max_financed_amt_12m, tot_granted_contracts_cnt_12m, tot_granted_contracts_amt_12m\n",
    " \n",
    "Get the self declared employment details, application_date,  and MaxSalary information from our internal Salary scaling table using the CustomerID or TIN and application_date = run_date\n",
    " \n",
    "Get the gender, age, region, province of the customer from demographic table using customer_id or TIN and application_date = run_date\n",
    " \n",
    "Get the following fields from the Credolab tables using the customer_id or mobile number and application_date = run date:\n",
    "Device Price\n",
    "Device Manufacturer (Apple/ Samsung/ Oppo etc.)\n",
    "Device Model\n",
    "Device Age (usually derived by the application_date - earliest apps installation date)\n",
    "number of job search apps installed (linkedin, jobstreet, glint etc.)\n",
    "number of professional apps installed (office, gdrive etc)\n",
    "number of ecommerce apps installed (lazada, shopee, shein, zalora, temu etc.)\n",
    "number of ride hailing apps installed (grab, moveit etc.)\n",
    "number of finance apps installed (Banking apps, FinTech apps, eWallet apps)\n",
    "number of Risky apps (gambling apps, crypto apps, payday loan apps)\n",
    "number of OTT apps (Netflix, PrimeVideo etc.)\n",
    "Sowndarya: may be you can share your earlier apps categorisation work with DC for this. To keep things simple, just give him your final app categorisation mapping."
   ]
  },
  {
   "cell_type": "markdown",
   "metadata": {},
   "source": [
    "# <div align=\"center\" style=\"color: #C64242;\">**Employement Data with CIC Features and Customer Demographic**</div>"
   ]
  },
  {
   "cell_type": "markdown",
   "metadata": {},
   "source": [
    "## <div style=\"color: #D9534F;\"> Declaring the library </div>"
   ]
  },
  {
   "cell_type": "code",
   "execution_count": 1,
   "metadata": {},
   "outputs": [
    {
     "name": "stderr",
     "output_type": "stream",
     "text": [
      "c:\\Users\\DwaipayanChakroborti\\Myenv\\reporting\\lib\\site-packages\\fuzzywuzzy\\fuzz.py:11: UserWarning: Using slow pure-python SequenceMatcher. Install python-Levenshtein to remove this warning\n",
      "  warnings.warn('Using slow pure-python SequenceMatcher. Install python-Levenshtein to remove this warning')\n"
     ]
    }
   ],
   "source": [
    "# %% [markdown]\n",
    "# # Jupyter Notebook Loading Header\n",
    "#\n",
    "# This is a custom loading header for Jupyter Notebooks in Visual Studio Code.\n",
    "# It includes common imports and settings to get you started quickly.\n",
    "\n",
    "# %% [markdown]\n",
    "## Import Libraries\n",
    "import timeit\n",
    "import pandas as pd\n",
    "import numpy as np\n",
    "import matplotlib.pyplot as plt\n",
    "import seaborn as sns\n",
    "from google.cloud import bigquery\n",
    "import os\n",
    "path = r'C:\\Users\\DwaipayanChakroborti\\AppData\\Roaming\\gcloud\\legacy_credentials\\dchakroborti@tonikbank.com\\adc.json'\n",
    "os.environ['GOOGLE_APPLICATION_CREDENTIALS'] = path\n",
    "client = bigquery.Client(project='prj-prod-dataplatform')\n",
    "import re\n",
    "from fuzzywuzzy import process\n",
    "# %% [markdown]\n",
    "## Configure Settings\n",
    "# Set options or configurations as needed\n",
    "# Example: pd.set_option('display.max_columns', None)"
   ]
  },
  {
   "cell_type": "markdown",
   "metadata": {},
   "source": [
    "## <div style=\"color: #C64242; font-family: Monotype Corsiva;\"><b> Main Query Part </b> </div>"
   ]
  },
  {
   "cell_type": "code",
   "execution_count": 2,
   "metadata": {},
   "outputs": [
    {
     "name": "stdout",
     "output_type": "stream",
     "text": [
      "Job ID f4346d01-9290-4224-af64-99a8f065bd21 successfully executed: 100%|\u001b[32m██████████\u001b[0m|\n",
      "Downloading: 100%|\u001b[32m██████████\u001b[0m|\n",
      "CPU times: total: 25.5 s\n",
      "Wall time: 3min 29s\n"
     ]
    }
   ],
   "source": [
    "%%time\n",
    "\n",
    "# getting the customer demographic information from loan master table and employment information from cic employment data table\n",
    "\n",
    "sq =\"\"\"# Loan Master \n",
    "with loanmaster as --- data from loan master for customer demographic details\n",
    "(select distinct customerId, digitalLoanAccountId, loanAccountNumber, startApplyDateTime, natureofwork,industryDescription, incomeMultiple, employmentstatus,credolabScore,city,\n",
    "       barangay, province, postalCode, age, monthlyIncome,  tinNumber, gender, dateOfBirth, email, mobileNo,firstName, middleName, lastName, custLoanJourneyZipCode,\n",
    "       custLoanJourneyProvince, custLoanJourneyCity,  tsa_onboarding_time,new_loan_type\n",
    " from prj-prod-dataplatform.risk_credit_mis.loan_master_table),\n",
    "employmentdata as ---- data from employment table for employment related information\n",
    "(SELECT distinct\n",
    "  digitalLoanAccountId, \n",
    "  crifApplicationId, \n",
    "  customerId,   \n",
    "  AnnualMonthlyIndicator, \n",
    "  Currency, \n",
    "  DateHiredFrom, \n",
    "  DateHiredTo, \n",
    "  GrossIncome,\n",
    "  CAST(\n",
    "    CASE \n",
    "      WHEN COALESCE(AnnualMonthlyIndicator, 'NA') LIKE 'M' THEN CAST(COALESCE(GrossIncome, '0') AS NUMERIC)\n",
    "      WHEN COALESCE(AnnualMonthlyIndicator, 'NA') LIKE 'Y' THEN ROUND(CAST(COALESCE(GrossIncome, '0') AS NUMERIC)/12, 0)\n",
    "      ELSE 0 \n",
    "    END AS INT64\n",
    "  ) AS MonthlyIncomecalculated,\n",
    "  CAST(\n",
    "    CASE \n",
    "      WHEN COALESCE(AnnualMonthlyIndicator, 'NA') LIKE 'M' THEN ROUND(CAST(COALESCE(GrossIncome, '0') AS NUMERIC)*12, 0)\n",
    "      WHEN COALESCE(AnnualMonthlyIndicator, 'NA') LIKE 'Y' THEN CAST(COALESCE(GrossIncome, '0') AS NUMERIC)\n",
    "      ELSE 0 \n",
    "    END AS INT64\n",
    "  ) AS AnnualIncomecalculated,  \n",
    "  Occupation,  \n",
    "  OccupationDesc,\n",
    "  OccupationStatus,\n",
    "  OccupationStatusDesc,\n",
    "  TIN,\n",
    "  PhoneNumber,\n",
    "  PSIC, \n",
    "  REGEXP_REPLACE(PSICDesc, r'^\\d+\\s*-\\s*', '') AS PSICDesc ,\n",
    "  row_number() over (partition by digitalLoanAccountId order by digitalLoanAccountId ) as rnk\n",
    "FROM prj-prod-dataplatform.risk_credit_cic_data.employment_data)\n",
    "select  ---joining both the above tables\n",
    "lm.customerId, lm.digitalLoanAccountId, loanAccountNumber,\n",
    "       startApplyDateTime, natureofwork, industryDescription,\n",
    "       incomeMultiple, employmentstatus, credolabScore, city,\n",
    "       barangay, province, postalCode, age, monthlyIncome,\n",
    "       tinNumber, gender, dateOfBirth, email, mobileNo, firstName,\n",
    "       middleName, lastName, custLoanJourneyZipCode,\n",
    "       custLoanJourneyProvince, custLoanJourneyCity, tsa_onboarding_time,\n",
    "       new_loan_type, ed.digitalLoanAccountId edprimarykey, crifApplicationId,\n",
    "       AnnualMonthlyIndicator, DateHiredFrom,\n",
    "       DateHiredTo, GrossIncome, MonthlyIncomecalculated, AnnualIncomecalculated, Occupation, OccupationDesc,\n",
    "       OccupationStatus, OccupationStatusDesc, TIN, PhoneNumber,\n",
    "       PSIC, PSICDesc\n",
    "from loanmaster lm \n",
    "inner join (select * from employmentdata where rnk = 1) ed on ed.digitalLoanAccountId = lm.digitalLoanAccountId\"\"\"\n",
    "\n",
    "dfdemograph_employment = client.query(sq).to_dataframe(progress_bar_type = 'tqdm')"
   ]
  },
  {
   "cell_type": "code",
   "execution_count": 3,
   "metadata": {},
   "outputs": [
    {
     "data": {
      "text/plain": [
       "(274142, 44)"
      ]
     },
     "execution_count": 3,
     "metadata": {},
     "output_type": "execute_result"
    }
   ],
   "source": [
    "dfdemograph_employment.shape"
   ]
  },
  {
   "cell_type": "code",
   "execution_count": 4,
   "metadata": {},
   "outputs": [
    {
     "data": {
      "text/plain": [
       "(42313, 11)"
      ]
     },
     "execution_count": 4,
     "metadata": {},
     "output_type": "execute_result"
    }
   ],
   "source": [
    "sfdc = pd.read_csv(r\"C:\\Users\\DwaipayanChakroborti\\OneDrive - Tonik Financial Pte Ltd\\MyStuff\\Biswa\\IncomeEstimation\\Data\\Selected_features_dc.csv\")\n",
    "sfdc.shape"
   ]
  },
  {
   "cell_type": "code",
   "execution_count": 5,
   "metadata": {},
   "outputs": [
    {
     "data": {
      "text/plain": [
       "Index(['digitalLoanAccountId', 'max_amt_granted_24M', 'max_amt_granted_12M',\n",
       "       'max_credit_limit_12M', 'max_financed_amt_12M', 'max_credit_limit_24M',\n",
       "       'max_financed_amt_24M', 'tot_granted_contracts_amt_24M',\n",
       "       'granted_contracts_cnt_24M', 'tot_granted_contracts_amt_12M',\n",
       "       'granted_contracts_cnt_12M'],\n",
       "      dtype='object')"
      ]
     },
     "execution_count": 5,
     "metadata": {},
     "output_type": "execute_result"
    }
   ],
   "source": [
    "sfdc.columns"
   ]
  },
  {
   "cell_type": "code",
   "execution_count": 6,
   "metadata": {},
   "outputs": [
    {
     "data": {
      "text/plain": [
       "Index(['customerId', 'digitalLoanAccountId', 'loanAccountNumber',\n",
       "       'startApplyDateTime', 'natureofwork', 'industryDescription',\n",
       "       'incomeMultiple', 'employmentstatus', 'credolabScore', 'city',\n",
       "       'barangay', 'province', 'postalCode', 'age', 'monthlyIncome',\n",
       "       'tinNumber', 'gender', 'dateOfBirth', 'email', 'mobileNo', 'firstName',\n",
       "       'middleName', 'lastName', 'custLoanJourneyZipCode',\n",
       "       'custLoanJourneyProvince', 'custLoanJourneyCity', 'tsa_onboarding_time',\n",
       "       'new_loan_type', 'edprimarykey', 'crifApplicationId',\n",
       "       'AnnualMonthlyIndicator', 'DateHiredFrom', 'DateHiredTo', 'GrossIncome',\n",
       "       'MonthlyIncomecalculated', 'AnnualIncomecalculated', 'Occupation',\n",
       "       'OccupationDesc', 'OccupationStatus', 'OccupationStatusDesc', 'TIN',\n",
       "       'PhoneNumber', 'PSIC', 'PSICDesc'],\n",
       "      dtype='object')"
      ]
     },
     "execution_count": 6,
     "metadata": {},
     "output_type": "execute_result"
    }
   ],
   "source": [
    "dfdemograph_employment.columns"
   ]
  },
  {
   "cell_type": "code",
   "execution_count": 7,
   "metadata": {},
   "outputs": [],
   "source": [
    "mergeddf = dfdemograph_employment.merge(sfdc, on = 'digitalLoanAccountId', how = 'left' )"
   ]
  },
  {
   "cell_type": "code",
   "execution_count": 8,
   "metadata": {},
   "outputs": [
    {
     "data": {
      "text/plain": [
       "(274142, 54)"
      ]
     },
     "execution_count": 8,
     "metadata": {},
     "output_type": "execute_result"
    }
   ],
   "source": [
    "mergeddf.shape"
   ]
  },
  {
   "cell_type": "code",
   "execution_count": 9,
   "metadata": {},
   "outputs": [],
   "source": [
    "mergeddf.to_excel(r\"C:\\Users\\DwaipayanChakroborti\\OneDrive - Tonik Financial Pte Ltd\\MyStuff\\Biswa\\IncomeEstimation\\Data\\Incomedata_20240808_v1.xlsx\", sheet_name='Data')"
   ]
  },
  {
   "cell_type": "code",
   "execution_count": 10,
   "metadata": {},
   "outputs": [
    {
     "data": {
      "text/plain": [
       "Index(['customerId', 'digitalLoanAccountId', 'loanAccountNumber',\n",
       "       'startApplyDateTime', 'natureofwork', 'industryDescription',\n",
       "       'incomeMultiple', 'employmentstatus', 'credolabScore', 'city',\n",
       "       'barangay', 'province', 'postalCode', 'age', 'monthlyIncome',\n",
       "       'tinNumber', 'gender', 'dateOfBirth', 'email', 'mobileNo', 'firstName',\n",
       "       'middleName', 'lastName', 'custLoanJourneyZipCode',\n",
       "       'custLoanJourneyProvince', 'custLoanJourneyCity', 'tsa_onboarding_time',\n",
       "       'new_loan_type', 'edprimarykey', 'crifApplicationId',\n",
       "       'AnnualMonthlyIndicator', 'DateHiredFrom', 'DateHiredTo', 'GrossIncome',\n",
       "       'MonthlyIncomecalculated', 'AnnualIncomecalculated', 'Occupation',\n",
       "       'OccupationDesc', 'OccupationStatus', 'OccupationStatusDesc', 'TIN',\n",
       "       'PhoneNumber', 'PSIC', 'PSICDesc', 'max_amt_granted_24M',\n",
       "       'max_amt_granted_12M', 'max_credit_limit_12M', 'max_financed_amt_12M',\n",
       "       'max_credit_limit_24M', 'max_financed_amt_24M',\n",
       "       'tot_granted_contracts_amt_24M', 'granted_contracts_cnt_24M',\n",
       "       'tot_granted_contracts_amt_12M', 'granted_contracts_cnt_12M'],\n",
       "      dtype='object')"
      ]
     },
     "execution_count": 10,
     "metadata": {},
     "output_type": "execute_result"
    }
   ],
   "source": [
    "mergeddf.columns"
   ]
  },
  {
   "cell_type": "code",
   "execution_count": null,
   "metadata": {},
   "outputs": [],
   "source": []
  }
 ],
 "metadata": {
  "kernelspec": {
   "display_name": "Python 3",
   "language": "python",
   "name": "python3"
  },
  "language_info": {
   "codemirror_mode": {
    "name": "ipython",
    "version": 3
   },
   "file_extension": ".py",
   "mimetype": "text/x-python",
   "name": "python",
   "nbconvert_exporter": "python",
   "pygments_lexer": "ipython3",
   "version": "3.9.19"
  }
 },
 "nbformat": 4,
 "nbformat_minor": 2
}
